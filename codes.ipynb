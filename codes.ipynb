{
 "cells": [
  {
   "cell_type": "code",
   "execution_count": 1,
   "metadata": {
    "collapsed": false
   },
   "outputs": [],
   "source": [
    "import numpy as np\n",
    "import pandas as pd\n",
    "import gc\n",
    "import time\n",
    "from contextlib import contextmanager\n",
    "from lightgbm import LGBMClassifier\n",
    "from sklearn.metrics import roc_auc_score, roc_curve\n",
    "from sklearn.model_selection import KFold, StratifiedKFold\n",
    "import matplotlib.pyplot as plt\n",
    "import seaborn as sns\n",
    "import warnings\n",
    "warnings.simplefilter(action='ignore', category=FutureWarning)\n",
    "from sklearn.externals import joblib\n",
    "%matplotlib inline\n",
    "import seaborn as sn\n",
    "from tqdm import tqdm_notebook as tqdm\n",
    "from scipy.stats import skew, kurtosis, iqr"
   ]
  },
  {
   "cell_type": "code",
   "execution_count": 2,
   "metadata": {
    "collapsed": false
   },
   "outputs": [
    {
     "name": "stdout",
     "output_type": "stream",
     "text": [
      "Train samples: 307511, test samples: 48744\n"
     ]
    }
   ],
   "source": [
    "df = pd.read_csv('application_train.csv')\n",
    "test_df = pd.read_csv('application_test.csv')\n",
    "print(\"Train samples: {}, test samples: {}\".format(len(df), len(test_df)))\n",
    "df = df.append(test_df).reset_index()"
   ]
  },
  {
   "cell_type": "code",
   "execution_count": 3,
   "metadata": {
    "collapsed": false
   },
   "outputs": [
    {
     "data": {
      "text/plain": [
       "28"
      ]
     },
     "execution_count": 3,
     "metadata": {},
     "output_type": "execute_result"
    }
   ],
   "source": [
    "del test_df\n",
    "gc.collect()"
   ]
  },
  {
   "cell_type": "code",
   "execution_count": 4,
   "metadata": {
    "collapsed": true
   },
   "outputs": [],
   "source": [
    "df['CODE_GENDER'].replace('XNA', np.nan, inplace=True)\n",
    "df['DAYS_EMPLOYED'].replace(365243, np.nan, inplace=True)\n",
    "df['NAME_FAMILY_STATUS'].replace('Unknown', np.nan, inplace=True)\n",
    "df['ORGANIZATION_TYPE'].replace('XNA', np.nan, inplace=True)"
   ]
  },
  {
   "cell_type": "code",
   "execution_count": 5,
   "metadata": {
    "collapsed": true
   },
   "outputs": [],
   "source": [
    "df['annuity_income_percentage'] = df['AMT_ANNUITY'] / df['AMT_INCOME_TOTAL']\n",
    "df['car_to_birth_ratio'] = df['OWN_CAR_AGE'] / df['DAYS_BIRTH']\n",
    "df['car_to_employ_ratio'] = df['OWN_CAR_AGE'] / df['DAYS_EMPLOYED']\n",
    "df['children_ratio'] = df['CNT_CHILDREN'] / df['CNT_FAM_MEMBERS']\n",
    "df['credit_to_annuity_ratio'] = df['AMT_CREDIT'] / df['AMT_ANNUITY']\n",
    "df['credit_to_goods_ratio'] = df['AMT_CREDIT'] / df['AMT_GOODS_PRICE']\n",
    "df['credit_to_income_ratio'] = df['AMT_CREDIT'] / df['AMT_INCOME_TOTAL']\n",
    "df['days_employed_percentage'] = df['DAYS_EMPLOYED'] / df['DAYS_BIRTH']\n",
    "df['income_credit_percentage'] = df['AMT_INCOME_TOTAL'] / df['AMT_CREDIT']\n",
    "df['income_per_child'] = df['AMT_INCOME_TOTAL'] / (1 + df['CNT_CHILDREN'])\n",
    "df['income_per_person'] = df['AMT_INCOME_TOTAL'] / df['CNT_FAM_MEMBERS']\n",
    "df['payment_rate'] = df['AMT_ANNUITY'] / df['AMT_CREDIT']\n",
    "df['phone_to_birth_ratio'] = df['DAYS_LAST_PHONE_CHANGE'] / df['DAYS_BIRTH']\n",
    "df['phone_to_employ_ratio'] = df['DAYS_LAST_PHONE_CHANGE'] / df['DAYS_EMPLOYED']"
   ]
  },
  {
   "cell_type": "code",
   "execution_count": 6,
   "metadata": {
    "collapsed": false
   },
   "outputs": [
    {
     "name": "stderr",
     "output_type": "stream",
     "text": [
      "/Users/shuozhang/anaconda/lib/python2.7/site-packages/numpy/lib/nanfunctions.py:769: RuntimeWarning: All-NaN slice encountered\n",
      "  warnings.warn(\"All-NaN slice encountered\", RuntimeWarning)\n"
     ]
    }
   ],
   "source": [
    "df['external_sources_weighted'] = df.EXT_SOURCE_1 * 2 + df.EXT_SOURCE_2 * 3 + df.EXT_SOURCE_3 * 4\n",
    "for function_name in ['min', 'max', 'sum', 'mean', 'nanmedian']:\n",
    "    df['external_sources_{}'.format(function_name)] = eval('np.{}'.format(function_name))(\n",
    "        df[['EXT_SOURCE_1', 'EXT_SOURCE_2', 'EXT_SOURCE_3']], axis=1)"
   ]
  },
  {
   "cell_type": "code",
   "execution_count": 7,
   "metadata": {
    "collapsed": true
   },
   "outputs": [],
   "source": [
    "engineered_numerical_columns  = ['annuity_income_percentage',\n",
    "                                'car_to_birth_ratio',\n",
    "                                'car_to_employ_ratio',\n",
    "                                'children_ratio',\n",
    "                                'credit_to_annuity_ratio',\n",
    "                                'credit_to_goods_ratio',\n",
    "                                'credit_to_income_ratio',\n",
    "                                'days_employed_percentage',\n",
    "                                'income_credit_percentage',\n",
    "                                'income_per_child',\n",
    "                                'income_per_person',\n",
    "                                'payment_rate',\n",
    "                                'phone_to_birth_ratio',\n",
    "                                'phone_to_employ_ratio',\n",
    "                                'external_sources_weighted',\n",
    "                                'external_sources_min',\n",
    "                                'external_sources_max',\n",
    "                                'external_sources_sum',\n",
    "                                'external_sources_mean',\n",
    "                                'external_sources_nanmedian']"
   ]
  },
  {
   "cell_type": "code",
   "execution_count": 205,
   "metadata": {
    "collapsed": false
   },
   "outputs": [],
   "source": [
    "df_eng = df[engineered_numerical_columns + ['TARGET']]\n",
    "df_eng_corr = abs(df_eng.corr())"
   ]
  },
  {
   "cell_type": "code",
   "execution_count": 206,
   "metadata": {
    "collapsed": false
   },
   "outputs": [
    {
     "data": {
      "text/plain": [
       "TARGET                        1.000000\n",
       "external_sources_weighted     0.236289\n",
       "external_sources_mean         0.222052\n",
       "external_sources_nanmedian    0.218118\n",
       "external_sources_max          0.196876\n",
       "external_sources_min          0.185266\n",
       "external_sources_sum          0.173322\n",
       "credit_to_goods_ratio         0.069427\n",
       "days_employed_percentage      0.067955\n",
       "car_to_birth_ratio            0.048824\n",
       "phone_to_birth_ratio          0.033991\n",
       "credit_to_annuity_ratio       0.032102\n",
       "car_to_employ_ratio           0.029118\n",
       "children_ratio                0.021223\n",
       "annuity_income_percentage     0.014265\n",
       "payment_rate                  0.012704\n",
       "income_per_child              0.012529\n",
       "credit_to_income_ratio        0.007727\n",
       "income_per_person             0.006571\n",
       "income_credit_percentage      0.001817\n",
       "phone_to_employ_ratio         0.000262\n",
       "Name: TARGET, dtype: float64"
      ]
     },
     "execution_count": 206,
     "metadata": {},
     "output_type": "execute_result"
    }
   ],
   "source": [
    "df_eng_corr.sort_values('TARGET', ascending=False)['TARGET']"
   ]
  },
  {
   "cell_type": "code",
   "execution_count": 207,
   "metadata": {
    "collapsed": false
   },
   "outputs": [
    {
     "data": {
      "text/plain": [
       "<matplotlib.axes._subplots.AxesSubplot at 0x116220710>"
      ]
     },
     "execution_count": 207,
     "metadata": {},
     "output_type": "execute_result"
    },
    {
     "data": {
      "image/png": "[encoded data removed]",
      "text/plain": [
       "<matplotlib.figure.Figure at 0x111dba2d0>"
      ]
     },
     "metadata": {},
     "output_type": "display_data"
    }
   ],
   "source": [
    "sns.heatmap(df_eng_corr)"
   ]
  },
  {
   "cell_type": "code",
   "execution_count": 8,
   "metadata": {
    "collapsed": true
   },
   "outputs": [],
   "source": [
    "AGGREGATION_RECIPIES = [\n",
    "    (['CODE_GENDER', 'NAME_EDUCATION_TYPE'], [('AMT_ANNUITY', 'max'),\n",
    "                                              ('AMT_CREDIT', 'max'),\n",
    "                                              ('EXT_SOURCE_1', 'mean'),\n",
    "                                              ('EXT_SOURCE_2', 'mean'),\n",
    "                                              ('OWN_CAR_AGE', 'max'),\n",
    "                                              ('OWN_CAR_AGE', 'sum')]),\n",
    "    (['CODE_GENDER', 'ORGANIZATION_TYPE'], [('AMT_ANNUITY', 'mean'),\n",
    "                                            ('AMT_INCOME_TOTAL', 'mean'),\n",
    "                                            ('DAYS_REGISTRATION', 'mean'),\n",
    "                                            ('EXT_SOURCE_1', 'mean')]),\n",
    "    (['CODE_GENDER', 'REG_CITY_NOT_WORK_CITY'], [('AMT_ANNUITY', 'mean'),\n",
    "                                                 ('CNT_CHILDREN', 'mean'),\n",
    "                                                 ('DAYS_ID_PUBLISH', 'mean')]),\n",
    "    (['CODE_GENDER', 'NAME_EDUCATION_TYPE', 'OCCUPATION_TYPE', 'REG_CITY_NOT_WORK_CITY'], [('EXT_SOURCE_1', 'mean'),\n",
    "                                                                                           ('EXT_SOURCE_2', 'mean')]),\n",
    "    (['NAME_EDUCATION_TYPE', 'OCCUPATION_TYPE'], [('AMT_CREDIT', 'mean'),\n",
    "                                                  ('AMT_REQ_CREDIT_BUREAU_YEAR', 'mean'),\n",
    "                                                  ('APARTMENTS_AVG', 'mean'),\n",
    "                                                  ('BASEMENTAREA_AVG', 'mean'),\n",
    "                                                  ('EXT_SOURCE_1', 'mean'),\n",
    "                                                  ('EXT_SOURCE_2', 'mean'),\n",
    "                                                  ('EXT_SOURCE_3', 'mean'),\n",
    "                                                  ('NONLIVINGAREA_AVG', 'mean'),\n",
    "                                                  ('OWN_CAR_AGE', 'mean'),\n",
    "                                                  ('YEARS_BUILD_AVG', 'mean')]),\n",
    "    (['NAME_EDUCATION_TYPE', 'OCCUPATION_TYPE', 'REG_CITY_NOT_WORK_CITY'], [('ELEVATORS_AVG', 'mean'),\n",
    "                                                                            ('EXT_SOURCE_1', 'mean')]),\n",
    "    (['OCCUPATION_TYPE'], [('AMT_ANNUITY', 'mean'),\n",
    "                           ('CNT_CHILDREN', 'mean'),\n",
    "                           ('CNT_FAM_MEMBERS', 'mean'),\n",
    "                           ('DAYS_BIRTH', 'mean'),\n",
    "                           ('DAYS_EMPLOYED', 'mean'),\n",
    "                           ('DAYS_ID_PUBLISH', 'mean'),\n",
    "                           ('DAYS_REGISTRATION', 'mean'),\n",
    "                           ('EXT_SOURCE_1', 'mean'),\n",
    "                           ('EXT_SOURCE_2', 'mean'),\n",
    "                           ('EXT_SOURCE_3', 'mean')]),\n",
    "]"
   ]
  },
  {
   "cell_type": "code",
   "execution_count": 9,
   "metadata": {
    "collapsed": false
   },
   "outputs": [
    {
     "name": "stdout",
     "output_type": "stream",
     "text": [
      "\n"
     ]
    }
   ],
   "source": [
    "groupby_aggregate_names  = []\n",
    "for groupby_cols, specs in tqdm(AGGREGATION_RECIPIES):\n",
    "    group_object = df.groupby(groupby_cols)\n",
    "    for select, agg in tqdm(specs):\n",
    "        groupby_aggregate_name = '{}_{}_{}'.format('_'.join(groupby_cols), agg, select)\n",
    "        df = df.merge(group_object[select]\n",
    "                              .agg(agg)\n",
    "                              .reset_index()\n",
    "                              .rename(index=str,\n",
    "                                      columns={select: groupby_aggregate_name})\n",
    "                              [groupby_cols + [groupby_aggregate_name]],\n",
    "                              on=groupby_cols,\n",
    "                              how='left')\n",
    "        groupby_aggregate_names.append(groupby_aggregate_name)"
   ]
  },
  {
   "cell_type": "code",
   "execution_count": 210,
   "metadata": {
    "collapsed": true
   },
   "outputs": [],
   "source": [
    "df_agg = df[groupby_aggregate_names + ['TARGET']]\n",
    "df_agg_corr = abs(df_agg.corr())"
   ]
  },
  {
   "cell_type": "code",
   "execution_count": 211,
   "metadata": {
    "collapsed": false
   },
   "outputs": [
    {
     "data": {
      "text/plain": [
       "TARGET                                                                                      1.000000\n",
       "NAME_EDUCATION_TYPE_OCCUPATION_TYPE_REG_CITY_NOT_WORK_CITY_mean_EXT_SOURCE_1                0.090216\n",
       "CODE_GENDER_NAME_EDUCATION_TYPE_OCCUPATION_TYPE_REG_CITY_NOT_WORK_CITY_mean_EXT_SOURCE_2    0.089492\n",
       "CODE_GENDER_NAME_EDUCATION_TYPE_OCCUPATION_TYPE_REG_CITY_NOT_WORK_CITY_mean_EXT_SOURCE_1    0.086751\n",
       "NAME_EDUCATION_TYPE_OCCUPATION_TYPE_mean_EXT_SOURCE_1                                       0.083721\n",
       "NAME_EDUCATION_TYPE_OCCUPATION_TYPE_mean_EXT_SOURCE_2                                       0.082725\n",
       "NAME_EDUCATION_TYPE_OCCUPATION_TYPE_REG_CITY_NOT_WORK_CITY_mean_ELEVATORS_AVG               0.078333\n",
       "OCCUPATION_TYPE_mean_EXT_SOURCE_1                                                           0.076804\n",
       "NAME_EDUCATION_TYPE_OCCUPATION_TYPE_mean_NONLIVINGAREA_AVG                                  0.075561\n",
       "NAME_EDUCATION_TYPE_OCCUPATION_TYPE_mean_AMT_REQ_CREDIT_BUREAU_YEAR                         0.074305\n",
       "NAME_EDUCATION_TYPE_OCCUPATION_TYPE_mean_YEARS_BUILD_AVG                                    0.074141\n",
       "NAME_EDUCATION_TYPE_OCCUPATION_TYPE_mean_OWN_CAR_AGE                                        0.073545\n",
       "NAME_EDUCATION_TYPE_OCCUPATION_TYPE_mean_APARTMENTS_AVG                                     0.073496\n",
       "NAME_EDUCATION_TYPE_OCCUPATION_TYPE_mean_BASEMENTAREA_AVG                                   0.072779\n",
       "CODE_GENDER_NAME_EDUCATION_TYPE_mean_EXT_SOURCE_1                                           0.071519\n",
       "NAME_EDUCATION_TYPE_OCCUPATION_TYPE_mean_AMT_CREDIT                                         0.071191\n",
       "OCCUPATION_TYPE_mean_EXT_SOURCE_2                                                           0.070671\n",
       "CODE_GENDER_NAME_EDUCATION_TYPE_max_OWN_CAR_AGE                                             0.067614\n",
       "CODE_GENDER_REG_CITY_NOT_WORK_CITY_mean_CNT_CHILDREN                                        0.066543\n",
       "CODE_GENDER_NAME_EDUCATION_TYPE_max_AMT_ANNUITY                                             0.066477\n",
       "CODE_GENDER_NAME_EDUCATION_TYPE_max_AMT_CREDIT                                              0.065363\n",
       "CODE_GENDER_NAME_EDUCATION_TYPE_mean_EXT_SOURCE_2                                           0.064160\n",
       "CODE_GENDER_NAME_EDUCATION_TYPE_sum_OWN_CAR_AGE                                             0.062291\n",
       "CODE_GENDER_ORGANIZATION_TYPE_mean_EXT_SOURCE_1                                             0.056769\n",
       "OCCUPATION_TYPE_mean_DAYS_EMPLOYED                                                          0.050222\n",
       "CODE_GENDER_REG_CITY_NOT_WORK_CITY_mean_AMT_ANNUITY                                         0.049341\n",
       "OCCUPATION_TYPE_mean_AMT_ANNUITY                                                            0.046378\n",
       "CODE_GENDER_REG_CITY_NOT_WORK_CITY_mean_DAYS_ID_PUBLISH                                     0.042616\n",
       "OCCUPATION_TYPE_mean_DAYS_REGISTRATION                                                      0.034950\n",
       "CODE_GENDER_ORGANIZATION_TYPE_mean_AMT_INCOME_TOTAL                                         0.029107\n",
       "CODE_GENDER_ORGANIZATION_TYPE_mean_AMT_ANNUITY                                              0.027795\n",
       "CODE_GENDER_ORGANIZATION_TYPE_mean_DAYS_REGISTRATION                                        0.024881\n",
       "OCCUPATION_TYPE_mean_CNT_CHILDREN                                                           0.023074\n",
       "OCCUPATION_TYPE_mean_CNT_FAM_MEMBERS                                                        0.008822\n",
       "NAME_EDUCATION_TYPE_OCCUPATION_TYPE_mean_EXT_SOURCE_3                                       0.006647\n",
       "OCCUPATION_TYPE_mean_DAYS_BIRTH                                                             0.003171\n",
       "OCCUPATION_TYPE_mean_EXT_SOURCE_3                                                           0.000840\n",
       "OCCUPATION_TYPE_mean_DAYS_ID_PUBLISH                                                        0.000152\n",
       "Name: TARGET, dtype: float64"
      ]
     },
     "execution_count": 211,
     "metadata": {},
     "output_type": "execute_result"
    }
   ],
   "source": [
    "df_agg_corr.sort_values('TARGET', ascending=False)['TARGET']"
   ]
  },
  {
   "cell_type": "code",
   "execution_count": 212,
   "metadata": {
    "collapsed": false
   },
   "outputs": [
    {
     "data": {
      "text/plain": [
       "<matplotlib.axes._subplots.AxesSubplot at 0x1156493d0>"
      ]
     },
     "execution_count": 212,
     "metadata": {},
     "output_type": "execute_result"
    },
    {
     "data": {
      "image/png": "[encoded data removed]",
      "text/plain": [
       "<matplotlib.figure.Figure at 0x11354bc10>"
      ]
     },
     "metadata": {},
     "output_type": "display_data"
    }
   ],
   "source": [
    "sns.heatmap(df_agg_corr)"
   ]
  },
  {
   "cell_type": "code",
   "execution_count": 10,
   "metadata": {
    "collapsed": false
   },
   "outputs": [
    {
     "name": "stdout",
     "output_type": "stream",
     "text": [
      "\n"
     ]
    }
   ],
   "source": [
    "diff_feature_names = []\n",
    "for groupby_cols, specs in tqdm(AGGREGATION_RECIPIES):\n",
    "    for select, agg in tqdm(specs):\n",
    "        if agg in ['mean','median','max','min']:\n",
    "            groupby_aggregate_name = '{}_{}_{}'.format('_'.join(groupby_cols), agg, select)\n",
    "            diff_name = '{}_diff'.format(groupby_aggregate_name)\n",
    "            abs_diff_name = '{}_abs_diff'.format(groupby_aggregate_name)\n",
    "\n",
    "            df[diff_name] = df[select] - df[groupby_aggregate_name] \n",
    "            df[abs_diff_name] = np.abs(df[select] - df[groupby_aggregate_name]) \n",
    "\n",
    "            diff_feature_names.append(diff_name)\n",
    "            diff_feature_names.append(abs_diff_name)"
   ]
  },
  {
   "cell_type": "code",
   "execution_count": 214,
   "metadata": {
    "collapsed": false
   },
   "outputs": [
    {
     "data": {
      "text/plain": [
       "TARGET                                                                                               1.000000\n",
       "NAME_EDUCATION_TYPE_OCCUPATION_TYPE_mean_EXT_SOURCE_3_diff                                           0.180977\n",
       "OCCUPATION_TYPE_mean_EXT_SOURCE_3_diff                                                               0.180450\n",
       "OCCUPATION_TYPE_mean_EXT_SOURCE_2_diff                                                               0.163087\n",
       "NAME_EDUCATION_TYPE_OCCUPATION_TYPE_mean_EXT_SOURCE_2_diff                                           0.160000\n",
       "CODE_GENDER_NAME_EDUCATION_TYPE_OCCUPATION_TYPE_REG_CITY_NOT_WORK_CITY_mean_EXT_SOURCE_2_diff        0.157532\n",
       "CODE_GENDER_NAME_EDUCATION_TYPE_mean_EXT_SOURCE_2_diff                                               0.153578\n",
       "CODE_GENDER_ORGANIZATION_TYPE_mean_EXT_SOURCE_1_diff                                                 0.147380\n",
       "CODE_GENDER_NAME_EDUCATION_TYPE_mean_EXT_SOURCE_1_diff                                               0.142501\n",
       "OCCUPATION_TYPE_mean_EXT_SOURCE_1_diff                                                               0.141374\n",
       "NAME_EDUCATION_TYPE_OCCUPATION_TYPE_mean_EXT_SOURCE_1_diff                                           0.138392\n",
       "NAME_EDUCATION_TYPE_OCCUPATION_TYPE_REG_CITY_NOT_WORK_CITY_mean_EXT_SOURCE_1_diff                    0.135671\n",
       "CODE_GENDER_NAME_EDUCATION_TYPE_OCCUPATION_TYPE_REG_CITY_NOT_WORK_CITY_mean_EXT_SOURCE_1_diff        0.134490\n",
       "OCCUPATION_TYPE_mean_EXT_SOURCE_2_abs_diff                                                           0.099504\n",
       "NAME_EDUCATION_TYPE_OCCUPATION_TYPE_mean_EXT_SOURCE_2_abs_diff                                       0.099319\n",
       "CODE_GENDER_NAME_EDUCATION_TYPE_OCCUPATION_TYPE_REG_CITY_NOT_WORK_CITY_mean_EXT_SOURCE_2_abs_diff    0.098511\n",
       "NAME_EDUCATION_TYPE_OCCUPATION_TYPE_mean_EXT_SOURCE_3_abs_diff                                       0.096812\n",
       "OCCUPATION_TYPE_mean_EXT_SOURCE_3_abs_diff                                                           0.096131\n",
       "CODE_GENDER_NAME_EDUCATION_TYPE_mean_EXT_SOURCE_2_abs_diff                                           0.092299\n",
       "OCCUPATION_TYPE_mean_DAYS_BIRTH_diff                                                                 0.067785\n",
       "OCCUPATION_TYPE_mean_DAYS_EMPLOYED_diff                                                              0.067391\n",
       "NAME_EDUCATION_TYPE_OCCUPATION_TYPE_mean_AMT_CREDIT_abs_diff                                         0.058451\n",
       "CODE_GENDER_NAME_EDUCATION_TYPE_max_AMT_ANNUITY_abs_diff                                             0.053884\n",
       "CODE_GENDER_NAME_EDUCATION_TYPE_max_AMT_ANNUITY_diff                                                 0.053884\n",
       "CODE_GENDER_NAME_EDUCATION_TYPE_mean_EXT_SOURCE_1_abs_diff                                           0.050154\n",
       "CODE_GENDER_ORGANIZATION_TYPE_mean_EXT_SOURCE_1_abs_diff                                             0.047768\n",
       "CODE_GENDER_REG_CITY_NOT_WORK_CITY_mean_DAYS_ID_PUBLISH_diff                                         0.047135\n",
       "OCCUPATION_TYPE_mean_AMT_ANNUITY_abs_diff                                                            0.044023\n",
       "CODE_GENDER_ORGANIZATION_TYPE_mean_AMT_ANNUITY_abs_diff                                              0.041642\n",
       "OCCUPATION_TYPE_mean_DAYS_ID_PUBLISH_diff                                                            0.040105\n",
       "                                                                                                       ...   \n",
       "NAME_EDUCATION_TYPE_OCCUPATION_TYPE_mean_APARTMENTS_AVG_diff                                         0.025955\n",
       "NAME_EDUCATION_TYPE_OCCUPATION_TYPE_REG_CITY_NOT_WORK_CITY_mean_ELEVATORS_AVG_abs_diff               0.025138\n",
       "CODE_GENDER_ORGANIZATION_TYPE_mean_AMT_ANNUITY_diff                                                  0.023272\n",
       "CODE_GENDER_NAME_EDUCATION_TYPE_max_OWN_CAR_AGE_diff                                                 0.020822\n",
       "CODE_GENDER_NAME_EDUCATION_TYPE_max_OWN_CAR_AGE_abs_diff                                             0.020822\n",
       "NAME_EDUCATION_TYPE_OCCUPATION_TYPE_mean_BASEMENTAREA_AVG_diff                                       0.019657\n",
       "CODE_GENDER_REG_CITY_NOT_WORK_CITY_mean_CNT_CHILDREN_abs_diff                                        0.019312\n",
       "NAME_EDUCATION_TYPE_OCCUPATION_TYPE_mean_YEARS_BUILD_AVG_diff                                        0.018700\n",
       "NAME_EDUCATION_TYPE_OCCUPATION_TYPE_mean_AMT_REQ_CREDIT_BUREAU_YEAR_diff                             0.018645\n",
       "CODE_GENDER_ORGANIZATION_TYPE_mean_DAYS_REGISTRATION_abs_diff                                        0.016852\n",
       "CODE_GENDER_REG_CITY_NOT_WORK_CITY_mean_AMT_ANNUITY_diff                                             0.016776\n",
       "NAME_EDUCATION_TYPE_OCCUPATION_TYPE_mean_NONLIVINGAREA_AVG_abs_diff                                  0.016445\n",
       "OCCUPATION_TYPE_mean_DAYS_REGISTRATION_abs_diff                                                      0.015382\n",
       "NAME_EDUCATION_TYPE_OCCUPATION_TYPE_mean_BASEMENTAREA_AVG_abs_diff                                   0.014492\n",
       "OCCUPATION_TYPE_mean_CNT_FAM_MEMBERS_abs_diff                                                        0.014274\n",
       "CODE_GENDER_REG_CITY_NOT_WORK_CITY_mean_CNT_CHILDREN_diff                                            0.013793\n",
       "NAME_EDUCATION_TYPE_OCCUPATION_TYPE_mean_APARTMENTS_AVG_abs_diff                                     0.012070\n",
       "NAME_EDUCATION_TYPE_OCCUPATION_TYPE_mean_AMT_REQ_CREDIT_BUREAU_YEAR_abs_diff                         0.011345\n",
       "NAME_EDUCATION_TYPE_OCCUPATION_TYPE_mean_NONLIVINGAREA_AVG_diff                                      0.010313\n",
       "OCCUPATION_TYPE_mean_AMT_ANNUITY_diff                                                                0.010279\n",
       "CODE_GENDER_ORGANIZATION_TYPE_mean_AMT_INCOME_TOTAL_diff                                             0.009917\n",
       "NAME_EDUCATION_TYPE_OCCUPATION_TYPE_mean_OWN_CAR_AGE_abs_diff                                        0.009761\n",
       "OCCUPATION_TYPE_mean_CNT_CHILDREN_diff                                                               0.009166\n",
       "CODE_GENDER_REG_CITY_NOT_WORK_CITY_mean_DAYS_ID_PUBLISH_abs_diff                                     0.007783\n",
       "OCCUPATION_TYPE_mean_CNT_CHILDREN_abs_diff                                                           0.005348\n",
       "NAME_EDUCATION_TYPE_OCCUPATION_TYPE_mean_YEARS_BUILD_AVG_abs_diff                                    0.003779\n",
       "OCCUPATION_TYPE_mean_DAYS_BIRTH_abs_diff                                                             0.002918\n",
       "OCCUPATION_TYPE_mean_DAYS_ID_PUBLISH_abs_diff                                                        0.002570\n",
       "CODE_GENDER_ORGANIZATION_TYPE_mean_AMT_INCOME_TOTAL_abs_diff                                         0.001902\n",
       "OCCUPATION_TYPE_mean_CNT_FAM_MEMBERS_diff                                                            0.001327\n",
       "Name: TARGET, dtype: float64"
      ]
     },
     "execution_count": 214,
     "metadata": {},
     "output_type": "execute_result"
    }
   ],
   "source": [
    "df_diff = df[diff_feature_names + ['TARGET']]\n",
    "df_diff_corr = abs(df_diff.corr())\n",
    "df_diff_corr.sort_values('TARGET', ascending=False)['TARGET']"
   ]
  },
  {
   "cell_type": "code",
   "execution_count": 11,
   "metadata": {
    "collapsed": false
   },
   "outputs": [],
   "source": [
    "df['long_employment'] = (df['DAYS_EMPLOYED'] > -2000).astype(int)"
   ]
  },
  {
   "cell_type": "code",
   "execution_count": 12,
   "metadata": {
    "collapsed": true
   },
   "outputs": [],
   "source": [
    "df['retirement_age'] = (df['DAYS_BIRTH'] > -14000).astype(int)"
   ]
  },
  {
   "cell_type": "code",
   "execution_count": 13,
   "metadata": {
    "collapsed": true
   },
   "outputs": [],
   "source": [
    "df['cnt_non_child'] = df['CNT_FAM_MEMBERS'] - df['CNT_CHILDREN']\n",
    "df['child_to_non_child_ratio'] = df['CNT_CHILDREN'] / df['cnt_non_child']\n",
    "df['income_per_non_child'] = df['AMT_INCOME_TOTAL'] / df['cnt_non_child']\n",
    "df['credit_per_person'] = df['AMT_CREDIT'] / df['CNT_FAM_MEMBERS']\n",
    "df['credit_per_child'] = df['AMT_CREDIT'] / (1 + df['CNT_CHILDREN'])\n",
    "df['credit_per_non_child'] = df['AMT_CREDIT'] / df['cnt_non_child']"
   ]
  },
  {
   "cell_type": "code",
   "execution_count": 14,
   "metadata": {
    "collapsed": false
   },
   "outputs": [
    {
     "data": {
      "text/plain": [
       "(356255, 260)"
      ]
     },
     "execution_count": 14,
     "metadata": {},
     "output_type": "execute_result"
    }
   ],
   "source": [
    "df.shape"
   ]
  },
  {
   "cell_type": "code",
   "execution_count": 219,
   "metadata": {
    "collapsed": true
   },
   "outputs": [],
   "source": [
    "feature_names = ['cnt_non_child',\n",
    "                 'child_to_non_child_ratio',\n",
    "                 'income_per_non_child',\n",
    "                 'credit_per_person',\n",
    "                 'credit_per_child',\n",
    "                 'credit_per_non_child']"
   ]
  },
  {
   "cell_type": "code",
   "execution_count": 220,
   "metadata": {
    "collapsed": false
   },
   "outputs": [
    {
     "data": {
      "text/plain": [
       "TARGET                      1.000000\n",
       "credit_per_child            0.033503\n",
       "credit_per_person           0.023462\n",
       "child_to_non_child_ratio    0.020943\n",
       "credit_per_non_child        0.020244\n",
       "cnt_non_child               0.012195\n",
       "income_per_non_child        0.001947\n",
       "Name: TARGET, dtype: float64"
      ]
     },
     "execution_count": 220,
     "metadata": {},
     "output_type": "execute_result"
    }
   ],
   "source": [
    "df_family = df[feature_names + ['TARGET']]\n",
    "df_family_corr = abs(df_family.corr())\n",
    "df_family_corr.sort_values('TARGET', ascending=False)['TARGET']"
   ]
  },
  {
   "cell_type": "code",
   "execution_count": 221,
   "metadata": {
    "collapsed": false
   },
   "outputs": [
    {
     "data": {
      "text/plain": [
       "(356255, 260)"
      ]
     },
     "execution_count": 221,
     "metadata": {},
     "output_type": "execute_result"
    }
   ],
   "source": [
    "df.shape"
   ]
  },
  {
   "cell_type": "code",
   "execution_count": 15,
   "metadata": {
    "collapsed": true
   },
   "outputs": [],
   "source": [
    "categorical_columns = [col for col in df.columns if df[col].dtype == 'object']"
   ]
  },
  {
   "cell_type": "code",
   "execution_count": 16,
   "metadata": {
    "collapsed": false
   },
   "outputs": [
    {
     "data": {
      "text/plain": [
       "['CODE_GENDER',\n",
       " 'EMERGENCYSTATE_MODE',\n",
       " 'FLAG_OWN_CAR',\n",
       " 'FLAG_OWN_REALTY',\n",
       " 'FONDKAPREMONT_MODE',\n",
       " 'HOUSETYPE_MODE',\n",
       " 'NAME_CONTRACT_TYPE',\n",
       " 'NAME_EDUCATION_TYPE',\n",
       " 'NAME_FAMILY_STATUS',\n",
       " 'NAME_HOUSING_TYPE',\n",
       " 'NAME_INCOME_TYPE',\n",
       " 'NAME_TYPE_SUITE',\n",
       " 'OCCUPATION_TYPE',\n",
       " 'ORGANIZATION_TYPE',\n",
       " 'WALLSMATERIAL_MODE',\n",
       " 'WEEKDAY_APPR_PROCESS_START']"
      ]
     },
     "execution_count": 16,
     "metadata": {},
     "output_type": "execute_result"
    }
   ],
   "source": [
    "categorical_columns"
   ]
  },
  {
   "cell_type": "code",
   "execution_count": 17,
   "metadata": {
    "collapsed": false
   },
   "outputs": [
    {
     "data": {
      "text/plain": [
       "16"
      ]
     },
     "execution_count": 17,
     "metadata": {},
     "output_type": "execute_result"
    }
   ],
   "source": [
    "len(categorical_columns)"
   ]
  },
  {
   "cell_type": "code",
   "execution_count": 18,
   "metadata": {
    "collapsed": true
   },
   "outputs": [],
   "source": [
    "bureau = pd.read_csv('bureau.csv')\n",
    "#bb = pd.read_csv('bureau_balance.csv')"
   ]
  },
  {
   "cell_type": "code",
   "execution_count": 19,
   "metadata": {
    "collapsed": false
   },
   "outputs": [
    {
     "name": "stderr",
     "output_type": "stream",
     "text": [
      "/Users/shuozhang/anaconda/lib/python2.7/site-packages/ipykernel_launcher.py:1: SettingWithCopyWarning: \n",
      "A value is trying to be set on a copy of a slice from a DataFrame\n",
      "\n",
      "See the caveats in the documentation: http://pandas.pydata.org/pandas-docs/stable/indexing.html#indexing-view-versus-copy\n",
      "  \"\"\"Entry point for launching an IPython kernel.\n",
      "/Users/shuozhang/anaconda/lib/python2.7/site-packages/ipykernel_launcher.py:2: SettingWithCopyWarning: \n",
      "A value is trying to be set on a copy of a slice from a DataFrame\n",
      "\n",
      "See the caveats in the documentation: http://pandas.pydata.org/pandas-docs/stable/indexing.html#indexing-view-versus-copy\n",
      "  \n",
      "/Users/shuozhang/anaconda/lib/python2.7/site-packages/ipykernel_launcher.py:3: SettingWithCopyWarning: \n",
      "A value is trying to be set on a copy of a slice from a DataFrame\n",
      "\n",
      "See the caveats in the documentation: http://pandas.pydata.org/pandas-docs/stable/indexing.html#indexing-view-versus-copy\n",
      "  This is separate from the ipykernel package so we can avoid doing imports until\n"
     ]
    }
   ],
   "source": [
    "bureau['DAYS_CREDIT_ENDDATE'][bureau['DAYS_CREDIT_ENDDATE'] < -40000] = np.nan\n",
    "bureau['DAYS_CREDIT_UPDATE'][bureau['DAYS_CREDIT_UPDATE'] < -40000] = np.nan\n",
    "bureau['DAYS_ENDDATE_FACT'][bureau['DAYS_ENDDATE_FACT'] < -40000] = np.nan"
   ]
  },
  {
   "cell_type": "code",
   "execution_count": 20,
   "metadata": {
    "collapsed": true
   },
   "outputs": [],
   "source": [
    "bureau['AMT_CREDIT_SUM'].fillna(0, inplace=True)\n",
    "bureau['AMT_CREDIT_SUM_DEBT'].fillna(0, inplace=True)\n",
    "bureau['AMT_CREDIT_SUM_OVERDUE'].fillna(0, inplace=True)\n",
    "bureau['CNT_CREDIT_PROLONG'].fillna(0, inplace=True)"
   ]
  },
  {
   "cell_type": "code",
   "execution_count": 21,
   "metadata": {
    "collapsed": true
   },
   "outputs": [],
   "source": [
    "bureau['bureau_credit_active_binary'] = (bureau['CREDIT_ACTIVE'] != 'Closed').astype(int)\n",
    "bureau['bureau_credit_enddate_binary'] = (bureau['DAYS_CREDIT_ENDDATE'] > 0).astype(int)\n",
    "\n",
    "groupby_SK_ID_CURR = bureau.groupby(by=['SK_ID_CURR'])"
   ]
  },
  {
   "cell_type": "code",
   "execution_count": 22,
   "metadata": {
    "collapsed": false
   },
   "outputs": [],
   "source": [
    "features = pd.DataFrame({'SK_ID_CURR':bureau['SK_ID_CURR'].unique()})"
   ]
  },
  {
   "cell_type": "code",
   "execution_count": 23,
   "metadata": {
    "collapsed": false
   },
   "outputs": [
    {
     "data": {
      "text/html": [
       "<div>\n",
       "<table border=\"1\" class=\"dataframe\">\n",
       "  <thead>\n",
       "    <tr style=\"text-align: right;\">\n",
       "      <th></th>\n",
       "      <th>SK_ID_CURR</th>\n",
       "      <th>bureau_number_of_past_loans</th>\n",
       "    </tr>\n",
       "  </thead>\n",
       "  <tbody>\n",
       "    <tr>\n",
       "      <th>0</th>\n",
       "      <td>215354</td>\n",
       "      <td>11</td>\n",
       "    </tr>\n",
       "    <tr>\n",
       "      <th>1</th>\n",
       "      <td>162297</td>\n",
       "      <td>6</td>\n",
       "    </tr>\n",
       "    <tr>\n",
       "      <th>2</th>\n",
       "      <td>402440</td>\n",
       "      <td>1</td>\n",
       "    </tr>\n",
       "    <tr>\n",
       "      <th>3</th>\n",
       "      <td>238881</td>\n",
       "      <td>8</td>\n",
       "    </tr>\n",
       "    <tr>\n",
       "      <th>4</th>\n",
       "      <td>222183</td>\n",
       "      <td>8</td>\n",
       "    </tr>\n",
       "  </tbody>\n",
       "</table>\n",
       "</div>"
      ],
      "text/plain": [
       "   SK_ID_CURR  bureau_number_of_past_loans\n",
       "0      215354                           11\n",
       "1      162297                            6\n",
       "2      402440                            1\n",
       "3      238881                            8\n",
       "4      222183                            8"
      ]
     },
     "execution_count": 23,
     "metadata": {},
     "output_type": "execute_result"
    }
   ],
   "source": [
    "group_object = groupby_SK_ID_CURR['DAYS_CREDIT'].agg('count').reset_index()\n",
    "group_object.rename(index=str, columns={'DAYS_CREDIT': 'bureau_number_of_past_loans'},inplace=True)\n",
    "\n",
    "features = features.merge(group_object, on=['SK_ID_CURR'], how='left')\n",
    "features.head()"
   ]
  },
  {
   "cell_type": "code",
   "execution_count": 24,
   "metadata": {
    "collapsed": false
   },
   "outputs": [
    {
     "data": {
      "text/html": [
       "<div>\n",
       "<table border=\"1\" class=\"dataframe\">\n",
       "  <thead>\n",
       "    <tr style=\"text-align: right;\">\n",
       "      <th></th>\n",
       "      <th>SK_ID_CURR</th>\n",
       "      <th>bureau_number_of_past_loans</th>\n",
       "      <th>bureau_number_of_loan_types</th>\n",
       "    </tr>\n",
       "  </thead>\n",
       "  <tbody>\n",
       "    <tr>\n",
       "      <th>0</th>\n",
       "      <td>215354</td>\n",
       "      <td>11</td>\n",
       "      <td>3</td>\n",
       "    </tr>\n",
       "    <tr>\n",
       "      <th>1</th>\n",
       "      <td>162297</td>\n",
       "      <td>6</td>\n",
       "      <td>3</td>\n",
       "    </tr>\n",
       "    <tr>\n",
       "      <th>2</th>\n",
       "      <td>402440</td>\n",
       "      <td>1</td>\n",
       "      <td>1</td>\n",
       "    </tr>\n",
       "    <tr>\n",
       "      <th>3</th>\n",
       "      <td>238881</td>\n",
       "      <td>8</td>\n",
       "      <td>2</td>\n",
       "    </tr>\n",
       "    <tr>\n",
       "      <th>4</th>\n",
       "      <td>222183</td>\n",
       "      <td>8</td>\n",
       "      <td>3</td>\n",
       "    </tr>\n",
       "  </tbody>\n",
       "</table>\n",
       "</div>"
      ],
      "text/plain": [
       "   SK_ID_CURR  bureau_number_of_past_loans  bureau_number_of_loan_types\n",
       "0      215354                           11                            3\n",
       "1      162297                            6                            3\n",
       "2      402440                            1                            1\n",
       "3      238881                            8                            2\n",
       "4      222183                            8                            3"
      ]
     },
     "execution_count": 24,
     "metadata": {},
     "output_type": "execute_result"
    }
   ],
   "source": [
    "group_object = groupby_SK_ID_CURR['CREDIT_TYPE'].agg('nunique').reset_index()\n",
    "group_object.rename(index=str, columns={'CREDIT_TYPE': 'bureau_number_of_loan_types'},inplace=True)\n",
    "\n",
    "features = features.merge(group_object, on=['SK_ID_CURR'], how='left')\n",
    "features.head()"
   ]
  },
  {
   "cell_type": "code",
   "execution_count": 25,
   "metadata": {
    "collapsed": false
   },
   "outputs": [
    {
     "data": {
      "text/html": [
       "<div>\n",
       "<table border=\"1\" class=\"dataframe\">\n",
       "  <thead>\n",
       "    <tr style=\"text-align: right;\">\n",
       "      <th></th>\n",
       "      <th>SK_ID_CURR</th>\n",
       "      <th>bureau_number_of_past_loans</th>\n",
       "      <th>bureau_number_of_loan_types</th>\n",
       "      <th>bureau_average_of_past_loans_per_type</th>\n",
       "    </tr>\n",
       "  </thead>\n",
       "  <tbody>\n",
       "    <tr>\n",
       "      <th>0</th>\n",
       "      <td>215354</td>\n",
       "      <td>11</td>\n",
       "      <td>3</td>\n",
       "      <td>3.666667</td>\n",
       "    </tr>\n",
       "    <tr>\n",
       "      <th>1</th>\n",
       "      <td>162297</td>\n",
       "      <td>6</td>\n",
       "      <td>3</td>\n",
       "      <td>2.000000</td>\n",
       "    </tr>\n",
       "    <tr>\n",
       "      <th>2</th>\n",
       "      <td>402440</td>\n",
       "      <td>1</td>\n",
       "      <td>1</td>\n",
       "      <td>1.000000</td>\n",
       "    </tr>\n",
       "    <tr>\n",
       "      <th>3</th>\n",
       "      <td>238881</td>\n",
       "      <td>8</td>\n",
       "      <td>2</td>\n",
       "      <td>4.000000</td>\n",
       "    </tr>\n",
       "    <tr>\n",
       "      <th>4</th>\n",
       "      <td>222183</td>\n",
       "      <td>8</td>\n",
       "      <td>3</td>\n",
       "      <td>2.666667</td>\n",
       "    </tr>\n",
       "  </tbody>\n",
       "</table>\n",
       "</div>"
      ],
      "text/plain": [
       "   SK_ID_CURR  bureau_number_of_past_loans  bureau_number_of_loan_types  \\\n",
       "0      215354                           11                            3   \n",
       "1      162297                            6                            3   \n",
       "2      402440                            1                            1   \n",
       "3      238881                            8                            2   \n",
       "4      222183                            8                            3   \n",
       "\n",
       "   bureau_average_of_past_loans_per_type  \n",
       "0                               3.666667  \n",
       "1                               2.000000  \n",
       "2                               1.000000  \n",
       "3                               4.000000  \n",
       "4                               2.666667  "
      ]
     },
     "execution_count": 25,
     "metadata": {},
     "output_type": "execute_result"
    }
   ],
   "source": [
    "features['bureau_average_of_past_loans_per_type'] = \\\n",
    "    features['bureau_number_of_past_loans'] / features['bureau_number_of_loan_types']\n",
    "    \n",
    "features.head()"
   ]
  },
  {
   "cell_type": "code",
   "execution_count": 26,
   "metadata": {
    "collapsed": false
   },
   "outputs": [
    {
     "data": {
      "text/html": [
       "<div>\n",
       "<table border=\"1\" class=\"dataframe\">\n",
       "  <thead>\n",
       "    <tr style=\"text-align: right;\">\n",
       "      <th></th>\n",
       "      <th>SK_ID_CURR</th>\n",
       "      <th>bureau_number_of_past_loans</th>\n",
       "      <th>bureau_number_of_loan_types</th>\n",
       "      <th>bureau_average_of_past_loans_per_type</th>\n",
       "      <th>bureau_credit_active_binary</th>\n",
       "    </tr>\n",
       "  </thead>\n",
       "  <tbody>\n",
       "    <tr>\n",
       "      <th>0</th>\n",
       "      <td>215354</td>\n",
       "      <td>11</td>\n",
       "      <td>3</td>\n",
       "      <td>3.666667</td>\n",
       "      <td>0.545455</td>\n",
       "    </tr>\n",
       "    <tr>\n",
       "      <th>1</th>\n",
       "      <td>162297</td>\n",
       "      <td>6</td>\n",
       "      <td>3</td>\n",
       "      <td>2.000000</td>\n",
       "      <td>0.500000</td>\n",
       "    </tr>\n",
       "    <tr>\n",
       "      <th>2</th>\n",
       "      <td>402440</td>\n",
       "      <td>1</td>\n",
       "      <td>1</td>\n",
       "      <td>1.000000</td>\n",
       "      <td>1.000000</td>\n",
       "    </tr>\n",
       "    <tr>\n",
       "      <th>3</th>\n",
       "      <td>238881</td>\n",
       "      <td>8</td>\n",
       "      <td>2</td>\n",
       "      <td>4.000000</td>\n",
       "      <td>0.375000</td>\n",
       "    </tr>\n",
       "    <tr>\n",
       "      <th>4</th>\n",
       "      <td>222183</td>\n",
       "      <td>8</td>\n",
       "      <td>3</td>\n",
       "      <td>2.666667</td>\n",
       "      <td>0.625000</td>\n",
       "    </tr>\n",
       "  </tbody>\n",
       "</table>\n",
       "</div>"
      ],
      "text/plain": [
       "   SK_ID_CURR  bureau_number_of_past_loans  bureau_number_of_loan_types  \\\n",
       "0      215354                           11                            3   \n",
       "1      162297                            6                            3   \n",
       "2      402440                            1                            1   \n",
       "3      238881                            8                            2   \n",
       "4      222183                            8                            3   \n",
       "\n",
       "   bureau_average_of_past_loans_per_type  bureau_credit_active_binary  \n",
       "0                               3.666667                     0.545455  \n",
       "1                               2.000000                     0.500000  \n",
       "2                               1.000000                     1.000000  \n",
       "3                               4.000000                     0.375000  \n",
       "4                               2.666667                     0.625000  "
      ]
     },
     "execution_count": 26,
     "metadata": {},
     "output_type": "execute_result"
    }
   ],
   "source": [
    "group_object = groupby_SK_ID_CURR['bureau_credit_active_binary'].agg('mean').reset_index()\n",
    "\n",
    "features = features.merge(group_object, on=['SK_ID_CURR'], how='left')\n",
    "features.head()"
   ]
  },
  {
   "cell_type": "code",
   "execution_count": 27,
   "metadata": {
    "collapsed": false
   },
   "outputs": [
    {
     "data": {
      "text/html": [
       "<div>\n",
       "<table border=\"1\" class=\"dataframe\">\n",
       "  <thead>\n",
       "    <tr style=\"text-align: right;\">\n",
       "      <th></th>\n",
       "      <th>SK_ID_CURR</th>\n",
       "      <th>bureau_number_of_past_loans</th>\n",
       "      <th>bureau_number_of_loan_types</th>\n",
       "      <th>bureau_average_of_past_loans_per_type</th>\n",
       "      <th>bureau_credit_active_binary</th>\n",
       "      <th>bureau_total_customer_debt</th>\n",
       "    </tr>\n",
       "  </thead>\n",
       "  <tbody>\n",
       "    <tr>\n",
       "      <th>0</th>\n",
       "      <td>215354</td>\n",
       "      <td>11</td>\n",
       "      <td>3</td>\n",
       "      <td>3.666667</td>\n",
       "      <td>0.545455</td>\n",
       "      <td>284463.18</td>\n",
       "    </tr>\n",
       "    <tr>\n",
       "      <th>1</th>\n",
       "      <td>162297</td>\n",
       "      <td>6</td>\n",
       "      <td>3</td>\n",
       "      <td>2.000000</td>\n",
       "      <td>0.500000</td>\n",
       "      <td>0.00</td>\n",
       "    </tr>\n",
       "    <tr>\n",
       "      <th>2</th>\n",
       "      <td>402440</td>\n",
       "      <td>1</td>\n",
       "      <td>1</td>\n",
       "      <td>1.000000</td>\n",
       "      <td>1.000000</td>\n",
       "      <td>76905.00</td>\n",
       "    </tr>\n",
       "    <tr>\n",
       "      <th>3</th>\n",
       "      <td>238881</td>\n",
       "      <td>8</td>\n",
       "      <td>2</td>\n",
       "      <td>4.000000</td>\n",
       "      <td>0.375000</td>\n",
       "      <td>552730.50</td>\n",
       "    </tr>\n",
       "    <tr>\n",
       "      <th>4</th>\n",
       "      <td>222183</td>\n",
       "      <td>8</td>\n",
       "      <td>3</td>\n",
       "      <td>2.666667</td>\n",
       "      <td>0.625000</td>\n",
       "      <td>1185081.84</td>\n",
       "    </tr>\n",
       "  </tbody>\n",
       "</table>\n",
       "</div>"
      ],
      "text/plain": [
       "   SK_ID_CURR  bureau_number_of_past_loans  bureau_number_of_loan_types  \\\n",
       "0      215354                           11                            3   \n",
       "1      162297                            6                            3   \n",
       "2      402440                            1                            1   \n",
       "3      238881                            8                            2   \n",
       "4      222183                            8                            3   \n",
       "\n",
       "   bureau_average_of_past_loans_per_type  bureau_credit_active_binary  \\\n",
       "0                               3.666667                     0.545455   \n",
       "1                               2.000000                     0.500000   \n",
       "2                               1.000000                     1.000000   \n",
       "3                               4.000000                     0.375000   \n",
       "4                               2.666667                     0.625000   \n",
       "\n",
       "   bureau_total_customer_debt  \n",
       "0                   284463.18  \n",
       "1                        0.00  \n",
       "2                    76905.00  \n",
       "3                   552730.50  \n",
       "4                  1185081.84  "
      ]
     },
     "execution_count": 27,
     "metadata": {},
     "output_type": "execute_result"
    }
   ],
   "source": [
    "group_object = groupby_SK_ID_CURR['AMT_CREDIT_SUM_DEBT'].agg('sum').reset_index()\n",
    "group_object.rename(index=str, columns={'AMT_CREDIT_SUM_DEBT': 'bureau_total_customer_debt'},inplace=True)\n",
    "\n",
    "features = features.merge(group_object, on=['SK_ID_CURR'], how='left')\n",
    "features.head()"
   ]
  },
  {
   "cell_type": "code",
   "execution_count": 28,
   "metadata": {
    "collapsed": false
   },
   "outputs": [
    {
     "data": {
      "text/html": [
       "<div>\n",
       "<table border=\"1\" class=\"dataframe\">\n",
       "  <thead>\n",
       "    <tr style=\"text-align: right;\">\n",
       "      <th></th>\n",
       "      <th>SK_ID_CURR</th>\n",
       "      <th>bureau_number_of_past_loans</th>\n",
       "      <th>bureau_number_of_loan_types</th>\n",
       "      <th>bureau_average_of_past_loans_per_type</th>\n",
       "      <th>bureau_credit_active_binary</th>\n",
       "      <th>bureau_total_customer_debt</th>\n",
       "      <th>bureau_total_customer_credit</th>\n",
       "    </tr>\n",
       "  </thead>\n",
       "  <tbody>\n",
       "    <tr>\n",
       "      <th>0</th>\n",
       "      <td>215354</td>\n",
       "      <td>11</td>\n",
       "      <td>3</td>\n",
       "      <td>3.666667</td>\n",
       "      <td>0.545455</td>\n",
       "      <td>284463.18</td>\n",
       "      <td>5973945.30</td>\n",
       "    </tr>\n",
       "    <tr>\n",
       "      <th>1</th>\n",
       "      <td>162297</td>\n",
       "      <td>6</td>\n",
       "      <td>3</td>\n",
       "      <td>2.000000</td>\n",
       "      <td>0.500000</td>\n",
       "      <td>0.00</td>\n",
       "      <td>8230386.15</td>\n",
       "    </tr>\n",
       "    <tr>\n",
       "      <th>2</th>\n",
       "      <td>402440</td>\n",
       "      <td>1</td>\n",
       "      <td>1</td>\n",
       "      <td>1.000000</td>\n",
       "      <td>1.000000</td>\n",
       "      <td>76905.00</td>\n",
       "      <td>89910.00</td>\n",
       "    </tr>\n",
       "    <tr>\n",
       "      <th>3</th>\n",
       "      <td>238881</td>\n",
       "      <td>8</td>\n",
       "      <td>2</td>\n",
       "      <td>4.000000</td>\n",
       "      <td>0.375000</td>\n",
       "      <td>552730.50</td>\n",
       "      <td>1285239.06</td>\n",
       "    </tr>\n",
       "    <tr>\n",
       "      <th>4</th>\n",
       "      <td>222183</td>\n",
       "      <td>8</td>\n",
       "      <td>3</td>\n",
       "      <td>2.666667</td>\n",
       "      <td>0.625000</td>\n",
       "      <td>1185081.84</td>\n",
       "      <td>7158960.00</td>\n",
       "    </tr>\n",
       "  </tbody>\n",
       "</table>\n",
       "</div>"
      ],
      "text/plain": [
       "   SK_ID_CURR  bureau_number_of_past_loans  bureau_number_of_loan_types  \\\n",
       "0      215354                           11                            3   \n",
       "1      162297                            6                            3   \n",
       "2      402440                            1                            1   \n",
       "3      238881                            8                            2   \n",
       "4      222183                            8                            3   \n",
       "\n",
       "   bureau_average_of_past_loans_per_type  bureau_credit_active_binary  \\\n",
       "0                               3.666667                     0.545455   \n",
       "1                               2.000000                     0.500000   \n",
       "2                               1.000000                     1.000000   \n",
       "3                               4.000000                     0.375000   \n",
       "4                               2.666667                     0.625000   \n",
       "\n",
       "   bureau_total_customer_debt  bureau_total_customer_credit  \n",
       "0                   284463.18                    5973945.30  \n",
       "1                        0.00                    8230386.15  \n",
       "2                    76905.00                      89910.00  \n",
       "3                   552730.50                    1285239.06  \n",
       "4                  1185081.84                    7158960.00  "
      ]
     },
     "execution_count": 28,
     "metadata": {},
     "output_type": "execute_result"
    }
   ],
   "source": [
    "group_object = groupby_SK_ID_CURR['AMT_CREDIT_SUM'].agg('sum').reset_index()\n",
    "group_object.rename(index=str, columns={'AMT_CREDIT_SUM': 'bureau_total_customer_credit'},inplace=True)\n",
    "\n",
    "features = features.merge(group_object, on=['SK_ID_CURR'], how='left')\n",
    "features.head()"
   ]
  },
  {
   "cell_type": "code",
   "execution_count": 29,
   "metadata": {
    "collapsed": false
   },
   "outputs": [
    {
     "data": {
      "text/html": [
       "<div>\n",
       "<table border=\"1\" class=\"dataframe\">\n",
       "  <thead>\n",
       "    <tr style=\"text-align: right;\">\n",
       "      <th></th>\n",
       "      <th>SK_ID_CURR</th>\n",
       "      <th>bureau_number_of_past_loans</th>\n",
       "      <th>bureau_number_of_loan_types</th>\n",
       "      <th>bureau_average_of_past_loans_per_type</th>\n",
       "      <th>bureau_credit_active_binary</th>\n",
       "      <th>bureau_total_customer_debt</th>\n",
       "      <th>bureau_total_customer_credit</th>\n",
       "      <th>bureau_debt_credit_ratio</th>\n",
       "    </tr>\n",
       "  </thead>\n",
       "  <tbody>\n",
       "    <tr>\n",
       "      <th>0</th>\n",
       "      <td>215354</td>\n",
       "      <td>11</td>\n",
       "      <td>3</td>\n",
       "      <td>3.666667</td>\n",
       "      <td>0.545455</td>\n",
       "      <td>284463.18</td>\n",
       "      <td>5973945.30</td>\n",
       "      <td>0.047617</td>\n",
       "    </tr>\n",
       "    <tr>\n",
       "      <th>1</th>\n",
       "      <td>162297</td>\n",
       "      <td>6</td>\n",
       "      <td>3</td>\n",
       "      <td>2.000000</td>\n",
       "      <td>0.500000</td>\n",
       "      <td>0.00</td>\n",
       "      <td>8230386.15</td>\n",
       "      <td>0.000000</td>\n",
       "    </tr>\n",
       "    <tr>\n",
       "      <th>2</th>\n",
       "      <td>402440</td>\n",
       "      <td>1</td>\n",
       "      <td>1</td>\n",
       "      <td>1.000000</td>\n",
       "      <td>1.000000</td>\n",
       "      <td>76905.00</td>\n",
       "      <td>89910.00</td>\n",
       "      <td>0.855355</td>\n",
       "    </tr>\n",
       "    <tr>\n",
       "      <th>3</th>\n",
       "      <td>238881</td>\n",
       "      <td>8</td>\n",
       "      <td>2</td>\n",
       "      <td>4.000000</td>\n",
       "      <td>0.375000</td>\n",
       "      <td>552730.50</td>\n",
       "      <td>1285239.06</td>\n",
       "      <td>0.430060</td>\n",
       "    </tr>\n",
       "    <tr>\n",
       "      <th>4</th>\n",
       "      <td>222183</td>\n",
       "      <td>8</td>\n",
       "      <td>3</td>\n",
       "      <td>2.666667</td>\n",
       "      <td>0.625000</td>\n",
       "      <td>1185081.84</td>\n",
       "      <td>7158960.00</td>\n",
       "      <td>0.165538</td>\n",
       "    </tr>\n",
       "  </tbody>\n",
       "</table>\n",
       "</div>"
      ],
      "text/plain": [
       "   SK_ID_CURR  bureau_number_of_past_loans  bureau_number_of_loan_types  \\\n",
       "0      215354                           11                            3   \n",
       "1      162297                            6                            3   \n",
       "2      402440                            1                            1   \n",
       "3      238881                            8                            2   \n",
       "4      222183                            8                            3   \n",
       "\n",
       "   bureau_average_of_past_loans_per_type  bureau_credit_active_binary  \\\n",
       "0                               3.666667                     0.545455   \n",
       "1                               2.000000                     0.500000   \n",
       "2                               1.000000                     1.000000   \n",
       "3                               4.000000                     0.375000   \n",
       "4                               2.666667                     0.625000   \n",
       "\n",
       "   bureau_total_customer_debt  bureau_total_customer_credit  \\\n",
       "0                   284463.18                    5973945.30   \n",
       "1                        0.00                    8230386.15   \n",
       "2                    76905.00                      89910.00   \n",
       "3                   552730.50                    1285239.06   \n",
       "4                  1185081.84                    7158960.00   \n",
       "\n",
       "   bureau_debt_credit_ratio  \n",
       "0                  0.047617  \n",
       "1                  0.000000  \n",
       "2                  0.855355  \n",
       "3                  0.430060  \n",
       "4                  0.165538  "
      ]
     },
     "execution_count": 29,
     "metadata": {},
     "output_type": "execute_result"
    }
   ],
   "source": [
    "features['bureau_debt_credit_ratio'] = \\\n",
    "    features['bureau_total_customer_debt'] / features['bureau_total_customer_credit']\n",
    "    \n",
    "features.head()"
   ]
  },
  {
   "cell_type": "code",
   "execution_count": 30,
   "metadata": {
    "collapsed": false
   },
   "outputs": [
    {
     "data": {
      "text/html": [
       "<div>\n",
       "<table border=\"1\" class=\"dataframe\">\n",
       "  <thead>\n",
       "    <tr style=\"text-align: right;\">\n",
       "      <th></th>\n",
       "      <th>SK_ID_CURR</th>\n",
       "      <th>bureau_number_of_past_loans</th>\n",
       "      <th>bureau_number_of_loan_types</th>\n",
       "      <th>bureau_average_of_past_loans_per_type</th>\n",
       "      <th>bureau_credit_active_binary</th>\n",
       "      <th>bureau_total_customer_debt</th>\n",
       "      <th>bureau_total_customer_credit</th>\n",
       "      <th>bureau_debt_credit_ratio</th>\n",
       "      <th>bureau_total_customer_overdue</th>\n",
       "    </tr>\n",
       "  </thead>\n",
       "  <tbody>\n",
       "    <tr>\n",
       "      <th>0</th>\n",
       "      <td>215354</td>\n",
       "      <td>11</td>\n",
       "      <td>3</td>\n",
       "      <td>3.666667</td>\n",
       "      <td>0.545455</td>\n",
       "      <td>284463.18</td>\n",
       "      <td>5973945.30</td>\n",
       "      <td>0.047617</td>\n",
       "      <td>0.0</td>\n",
       "    </tr>\n",
       "    <tr>\n",
       "      <th>1</th>\n",
       "      <td>162297</td>\n",
       "      <td>6</td>\n",
       "      <td>3</td>\n",
       "      <td>2.000000</td>\n",
       "      <td>0.500000</td>\n",
       "      <td>0.00</td>\n",
       "      <td>8230386.15</td>\n",
       "      <td>0.000000</td>\n",
       "      <td>0.0</td>\n",
       "    </tr>\n",
       "    <tr>\n",
       "      <th>2</th>\n",
       "      <td>402440</td>\n",
       "      <td>1</td>\n",
       "      <td>1</td>\n",
       "      <td>1.000000</td>\n",
       "      <td>1.000000</td>\n",
       "      <td>76905.00</td>\n",
       "      <td>89910.00</td>\n",
       "      <td>0.855355</td>\n",
       "      <td>0.0</td>\n",
       "    </tr>\n",
       "    <tr>\n",
       "      <th>3</th>\n",
       "      <td>238881</td>\n",
       "      <td>8</td>\n",
       "      <td>2</td>\n",
       "      <td>4.000000</td>\n",
       "      <td>0.375000</td>\n",
       "      <td>552730.50</td>\n",
       "      <td>1285239.06</td>\n",
       "      <td>0.430060</td>\n",
       "      <td>0.0</td>\n",
       "    </tr>\n",
       "    <tr>\n",
       "      <th>4</th>\n",
       "      <td>222183</td>\n",
       "      <td>8</td>\n",
       "      <td>3</td>\n",
       "      <td>2.666667</td>\n",
       "      <td>0.625000</td>\n",
       "      <td>1185081.84</td>\n",
       "      <td>7158960.00</td>\n",
       "      <td>0.165538</td>\n",
       "      <td>0.0</td>\n",
       "    </tr>\n",
       "  </tbody>\n",
       "</table>\n",
       "</div>"
      ],
      "text/plain": [
       "   SK_ID_CURR  bureau_number_of_past_loans  bureau_number_of_loan_types  \\\n",
       "0      215354                           11                            3   \n",
       "1      162297                            6                            3   \n",
       "2      402440                            1                            1   \n",
       "3      238881                            8                            2   \n",
       "4      222183                            8                            3   \n",
       "\n",
       "   bureau_average_of_past_loans_per_type  bureau_credit_active_binary  \\\n",
       "0                               3.666667                     0.545455   \n",
       "1                               2.000000                     0.500000   \n",
       "2                               1.000000                     1.000000   \n",
       "3                               4.000000                     0.375000   \n",
       "4                               2.666667                     0.625000   \n",
       "\n",
       "   bureau_total_customer_debt  bureau_total_customer_credit  \\\n",
       "0                   284463.18                    5973945.30   \n",
       "1                        0.00                    8230386.15   \n",
       "2                    76905.00                      89910.00   \n",
       "3                   552730.50                    1285239.06   \n",
       "4                  1185081.84                    7158960.00   \n",
       "\n",
       "   bureau_debt_credit_ratio  bureau_total_customer_overdue  \n",
       "0                  0.047617                            0.0  \n",
       "1                  0.000000                            0.0  \n",
       "2                  0.855355                            0.0  \n",
       "3                  0.430060                            0.0  \n",
       "4                  0.165538                            0.0  "
      ]
     },
     "execution_count": 30,
     "metadata": {},
     "output_type": "execute_result"
    }
   ],
   "source": [
    "group_object = groupby_SK_ID_CURR['AMT_CREDIT_SUM_OVERDUE'].agg('sum').reset_index()\n",
    "group_object.rename(index=str, columns={'AMT_CREDIT_SUM_OVERDUE': 'bureau_total_customer_overdue'},inplace=True)\n",
    "\n",
    "features = features.merge(group_object, on=['SK_ID_CURR'], how='left')\n",
    "features.head()"
   ]
  },
  {
   "cell_type": "code",
   "execution_count": 31,
   "metadata": {
    "collapsed": false
   },
   "outputs": [
    {
     "data": {
      "text/html": [
       "<div>\n",
       "<table border=\"1\" class=\"dataframe\">\n",
       "  <thead>\n",
       "    <tr style=\"text-align: right;\">\n",
       "      <th></th>\n",
       "      <th>SK_ID_CURR</th>\n",
       "      <th>bureau_number_of_past_loans</th>\n",
       "      <th>bureau_number_of_loan_types</th>\n",
       "      <th>bureau_average_of_past_loans_per_type</th>\n",
       "      <th>bureau_credit_active_binary</th>\n",
       "      <th>bureau_total_customer_debt</th>\n",
       "      <th>bureau_total_customer_credit</th>\n",
       "      <th>bureau_debt_credit_ratio</th>\n",
       "      <th>bureau_total_customer_overdue</th>\n",
       "      <th>bureau_overdue_debt_ratio</th>\n",
       "    </tr>\n",
       "  </thead>\n",
       "  <tbody>\n",
       "    <tr>\n",
       "      <th>0</th>\n",
       "      <td>215354</td>\n",
       "      <td>11</td>\n",
       "      <td>3</td>\n",
       "      <td>3.666667</td>\n",
       "      <td>0.545455</td>\n",
       "      <td>284463.18</td>\n",
       "      <td>5973945.30</td>\n",
       "      <td>0.047617</td>\n",
       "      <td>0.0</td>\n",
       "      <td>0.0</td>\n",
       "    </tr>\n",
       "    <tr>\n",
       "      <th>1</th>\n",
       "      <td>162297</td>\n",
       "      <td>6</td>\n",
       "      <td>3</td>\n",
       "      <td>2.000000</td>\n",
       "      <td>0.500000</td>\n",
       "      <td>0.00</td>\n",
       "      <td>8230386.15</td>\n",
       "      <td>0.000000</td>\n",
       "      <td>0.0</td>\n",
       "      <td>NaN</td>\n",
       "    </tr>\n",
       "    <tr>\n",
       "      <th>2</th>\n",
       "      <td>402440</td>\n",
       "      <td>1</td>\n",
       "      <td>1</td>\n",
       "      <td>1.000000</td>\n",
       "      <td>1.000000</td>\n",
       "      <td>76905.00</td>\n",
       "      <td>89910.00</td>\n",
       "      <td>0.855355</td>\n",
       "      <td>0.0</td>\n",
       "      <td>0.0</td>\n",
       "    </tr>\n",
       "    <tr>\n",
       "      <th>3</th>\n",
       "      <td>238881</td>\n",
       "      <td>8</td>\n",
       "      <td>2</td>\n",
       "      <td>4.000000</td>\n",
       "      <td>0.375000</td>\n",
       "      <td>552730.50</td>\n",
       "      <td>1285239.06</td>\n",
       "      <td>0.430060</td>\n",
       "      <td>0.0</td>\n",
       "      <td>0.0</td>\n",
       "    </tr>\n",
       "    <tr>\n",
       "      <th>4</th>\n",
       "      <td>222183</td>\n",
       "      <td>8</td>\n",
       "      <td>3</td>\n",
       "      <td>2.666667</td>\n",
       "      <td>0.625000</td>\n",
       "      <td>1185081.84</td>\n",
       "      <td>7158960.00</td>\n",
       "      <td>0.165538</td>\n",
       "      <td>0.0</td>\n",
       "      <td>0.0</td>\n",
       "    </tr>\n",
       "  </tbody>\n",
       "</table>\n",
       "</div>"
      ],
      "text/plain": [
       "   SK_ID_CURR  bureau_number_of_past_loans  bureau_number_of_loan_types  \\\n",
       "0      215354                           11                            3   \n",
       "1      162297                            6                            3   \n",
       "2      402440                            1                            1   \n",
       "3      238881                            8                            2   \n",
       "4      222183                            8                            3   \n",
       "\n",
       "   bureau_average_of_past_loans_per_type  bureau_credit_active_binary  \\\n",
       "0                               3.666667                     0.545455   \n",
       "1                               2.000000                     0.500000   \n",
       "2                               1.000000                     1.000000   \n",
       "3                               4.000000                     0.375000   \n",
       "4                               2.666667                     0.625000   \n",
       "\n",
       "   bureau_total_customer_debt  bureau_total_customer_credit  \\\n",
       "0                   284463.18                    5973945.30   \n",
       "1                        0.00                    8230386.15   \n",
       "2                    76905.00                      89910.00   \n",
       "3                   552730.50                    1285239.06   \n",
       "4                  1185081.84                    7158960.00   \n",
       "\n",
       "   bureau_debt_credit_ratio  bureau_total_customer_overdue  \\\n",
       "0                  0.047617                            0.0   \n",
       "1                  0.000000                            0.0   \n",
       "2                  0.855355                            0.0   \n",
       "3                  0.430060                            0.0   \n",
       "4                  0.165538                            0.0   \n",
       "\n",
       "   bureau_overdue_debt_ratio  \n",
       "0                        0.0  \n",
       "1                        NaN  \n",
       "2                        0.0  \n",
       "3                        0.0  \n",
       "4                        0.0  "
      ]
     },
     "execution_count": 31,
     "metadata": {},
     "output_type": "execute_result"
    }
   ],
   "source": [
    "features['bureau_overdue_debt_ratio'] = \\\n",
    "    features['bureau_total_customer_overdue'] / features['bureau_total_customer_debt']\n",
    "    \n",
    "features.head()"
   ]
  },
  {
   "cell_type": "code",
   "execution_count": 32,
   "metadata": {
    "collapsed": false
   },
   "outputs": [
    {
     "data": {
      "text/html": [
       "<div>\n",
       "<table border=\"1\" class=\"dataframe\">\n",
       "  <thead>\n",
       "    <tr style=\"text-align: right;\">\n",
       "      <th></th>\n",
       "      <th>SK_ID_CURR</th>\n",
       "      <th>bureau_number_of_past_loans</th>\n",
       "      <th>bureau_number_of_loan_types</th>\n",
       "      <th>bureau_average_of_past_loans_per_type</th>\n",
       "      <th>bureau_credit_active_binary</th>\n",
       "      <th>bureau_total_customer_debt</th>\n",
       "      <th>bureau_total_customer_credit</th>\n",
       "      <th>bureau_debt_credit_ratio</th>\n",
       "      <th>bureau_total_customer_overdue</th>\n",
       "      <th>bureau_overdue_debt_ratio</th>\n",
       "      <th>bureau_average_creditdays_prolonged</th>\n",
       "    </tr>\n",
       "  </thead>\n",
       "  <tbody>\n",
       "    <tr>\n",
       "      <th>0</th>\n",
       "      <td>215354</td>\n",
       "      <td>11</td>\n",
       "      <td>3</td>\n",
       "      <td>3.666667</td>\n",
       "      <td>0.545455</td>\n",
       "      <td>284463.18</td>\n",
       "      <td>5973945.30</td>\n",
       "      <td>0.047617</td>\n",
       "      <td>0.0</td>\n",
       "      <td>0.0</td>\n",
       "      <td>0</td>\n",
       "    </tr>\n",
       "    <tr>\n",
       "      <th>1</th>\n",
       "      <td>162297</td>\n",
       "      <td>6</td>\n",
       "      <td>3</td>\n",
       "      <td>2.000000</td>\n",
       "      <td>0.500000</td>\n",
       "      <td>0.00</td>\n",
       "      <td>8230386.15</td>\n",
       "      <td>0.000000</td>\n",
       "      <td>0.0</td>\n",
       "      <td>NaN</td>\n",
       "      <td>0</td>\n",
       "    </tr>\n",
       "    <tr>\n",
       "      <th>2</th>\n",
       "      <td>402440</td>\n",
       "      <td>1</td>\n",
       "      <td>1</td>\n",
       "      <td>1.000000</td>\n",
       "      <td>1.000000</td>\n",
       "      <td>76905.00</td>\n",
       "      <td>89910.00</td>\n",
       "      <td>0.855355</td>\n",
       "      <td>0.0</td>\n",
       "      <td>0.0</td>\n",
       "      <td>0</td>\n",
       "    </tr>\n",
       "    <tr>\n",
       "      <th>3</th>\n",
       "      <td>238881</td>\n",
       "      <td>8</td>\n",
       "      <td>2</td>\n",
       "      <td>4.000000</td>\n",
       "      <td>0.375000</td>\n",
       "      <td>552730.50</td>\n",
       "      <td>1285239.06</td>\n",
       "      <td>0.430060</td>\n",
       "      <td>0.0</td>\n",
       "      <td>0.0</td>\n",
       "      <td>0</td>\n",
       "    </tr>\n",
       "    <tr>\n",
       "      <th>4</th>\n",
       "      <td>222183</td>\n",
       "      <td>8</td>\n",
       "      <td>3</td>\n",
       "      <td>2.666667</td>\n",
       "      <td>0.625000</td>\n",
       "      <td>1185081.84</td>\n",
       "      <td>7158960.00</td>\n",
       "      <td>0.165538</td>\n",
       "      <td>0.0</td>\n",
       "      <td>0.0</td>\n",
       "      <td>0</td>\n",
       "    </tr>\n",
       "  </tbody>\n",
       "</table>\n",
       "</div>"
      ],
      "text/plain": [
       "   SK_ID_CURR  bureau_number_of_past_loans  bureau_number_of_loan_types  \\\n",
       "0      215354                           11                            3   \n",
       "1      162297                            6                            3   \n",
       "2      402440                            1                            1   \n",
       "3      238881                            8                            2   \n",
       "4      222183                            8                            3   \n",
       "\n",
       "   bureau_average_of_past_loans_per_type  bureau_credit_active_binary  \\\n",
       "0                               3.666667                     0.545455   \n",
       "1                               2.000000                     0.500000   \n",
       "2                               1.000000                     1.000000   \n",
       "3                               4.000000                     0.375000   \n",
       "4                               2.666667                     0.625000   \n",
       "\n",
       "   bureau_total_customer_debt  bureau_total_customer_credit  \\\n",
       "0                   284463.18                    5973945.30   \n",
       "1                        0.00                    8230386.15   \n",
       "2                    76905.00                      89910.00   \n",
       "3                   552730.50                    1285239.06   \n",
       "4                  1185081.84                    7158960.00   \n",
       "\n",
       "   bureau_debt_credit_ratio  bureau_total_customer_overdue  \\\n",
       "0                  0.047617                            0.0   \n",
       "1                  0.000000                            0.0   \n",
       "2                  0.855355                            0.0   \n",
       "3                  0.430060                            0.0   \n",
       "4                  0.165538                            0.0   \n",
       "\n",
       "   bureau_overdue_debt_ratio  bureau_average_creditdays_prolonged  \n",
       "0                        0.0                                    0  \n",
       "1                        NaN                                    0  \n",
       "2                        0.0                                    0  \n",
       "3                        0.0                                    0  \n",
       "4                        0.0                                    0  "
      ]
     },
     "execution_count": 32,
     "metadata": {},
     "output_type": "execute_result"
    }
   ],
   "source": [
    "group_object = groupby_SK_ID_CURR['CNT_CREDIT_PROLONG'].agg('sum').reset_index()\n",
    "group_object.rename(index=str, columns={'CNT_CREDIT_PROLONG': 'bureau_average_creditdays_prolonged'},inplace=True)\n",
    "\n",
    "features = features.merge(group_object, on=['SK_ID_CURR'], how='left')\n",
    "features.head()"
   ]
  },
  {
   "cell_type": "code",
   "execution_count": 33,
   "metadata": {
    "collapsed": false
   },
   "outputs": [
    {
     "data": {
      "text/html": [
       "<div>\n",
       "<table border=\"1\" class=\"dataframe\">\n",
       "  <thead>\n",
       "    <tr style=\"text-align: right;\">\n",
       "      <th></th>\n",
       "      <th>SK_ID_CURR</th>\n",
       "      <th>bureau_number_of_past_loans</th>\n",
       "      <th>bureau_number_of_loan_types</th>\n",
       "      <th>bureau_average_of_past_loans_per_type</th>\n",
       "      <th>bureau_credit_active_binary</th>\n",
       "      <th>bureau_total_customer_debt</th>\n",
       "      <th>bureau_total_customer_credit</th>\n",
       "      <th>bureau_debt_credit_ratio</th>\n",
       "      <th>bureau_total_customer_overdue</th>\n",
       "      <th>bureau_overdue_debt_ratio</th>\n",
       "      <th>bureau_average_creditdays_prolonged</th>\n",
       "      <th>bureau_credit_enddate_percentage</th>\n",
       "    </tr>\n",
       "  </thead>\n",
       "  <tbody>\n",
       "    <tr>\n",
       "      <th>0</th>\n",
       "      <td>215354</td>\n",
       "      <td>11</td>\n",
       "      <td>3</td>\n",
       "      <td>3.666667</td>\n",
       "      <td>0.545455</td>\n",
       "      <td>284463.18</td>\n",
       "      <td>5973945.30</td>\n",
       "      <td>0.047617</td>\n",
       "      <td>0.0</td>\n",
       "      <td>0.0</td>\n",
       "      <td>0</td>\n",
       "      <td>0.454545</td>\n",
       "    </tr>\n",
       "    <tr>\n",
       "      <th>1</th>\n",
       "      <td>162297</td>\n",
       "      <td>6</td>\n",
       "      <td>3</td>\n",
       "      <td>2.000000</td>\n",
       "      <td>0.500000</td>\n",
       "      <td>0.00</td>\n",
       "      <td>8230386.15</td>\n",
       "      <td>0.000000</td>\n",
       "      <td>0.0</td>\n",
       "      <td>NaN</td>\n",
       "      <td>0</td>\n",
       "      <td>0.166667</td>\n",
       "    </tr>\n",
       "    <tr>\n",
       "      <th>2</th>\n",
       "      <td>402440</td>\n",
       "      <td>1</td>\n",
       "      <td>1</td>\n",
       "      <td>1.000000</td>\n",
       "      <td>1.000000</td>\n",
       "      <td>76905.00</td>\n",
       "      <td>89910.00</td>\n",
       "      <td>0.855355</td>\n",
       "      <td>0.0</td>\n",
       "      <td>0.0</td>\n",
       "      <td>0</td>\n",
       "      <td>1.000000</td>\n",
       "    </tr>\n",
       "    <tr>\n",
       "      <th>3</th>\n",
       "      <td>238881</td>\n",
       "      <td>8</td>\n",
       "      <td>2</td>\n",
       "      <td>4.000000</td>\n",
       "      <td>0.375000</td>\n",
       "      <td>552730.50</td>\n",
       "      <td>1285239.06</td>\n",
       "      <td>0.430060</td>\n",
       "      <td>0.0</td>\n",
       "      <td>0.0</td>\n",
       "      <td>0</td>\n",
       "      <td>0.125000</td>\n",
       "    </tr>\n",
       "    <tr>\n",
       "      <th>4</th>\n",
       "      <td>222183</td>\n",
       "      <td>8</td>\n",
       "      <td>3</td>\n",
       "      <td>2.666667</td>\n",
       "      <td>0.625000</td>\n",
       "      <td>1185081.84</td>\n",
       "      <td>7158960.00</td>\n",
       "      <td>0.165538</td>\n",
       "      <td>0.0</td>\n",
       "      <td>0.0</td>\n",
       "      <td>0</td>\n",
       "      <td>0.625000</td>\n",
       "    </tr>\n",
       "  </tbody>\n",
       "</table>\n",
       "</div>"
      ],
      "text/plain": [
       "   SK_ID_CURR  bureau_number_of_past_loans  bureau_number_of_loan_types  \\\n",
       "0      215354                           11                            3   \n",
       "1      162297                            6                            3   \n",
       "2      402440                            1                            1   \n",
       "3      238881                            8                            2   \n",
       "4      222183                            8                            3   \n",
       "\n",
       "   bureau_average_of_past_loans_per_type  bureau_credit_active_binary  \\\n",
       "0                               3.666667                     0.545455   \n",
       "1                               2.000000                     0.500000   \n",
       "2                               1.000000                     1.000000   \n",
       "3                               4.000000                     0.375000   \n",
       "4                               2.666667                     0.625000   \n",
       "\n",
       "   bureau_total_customer_debt  bureau_total_customer_credit  \\\n",
       "0                   284463.18                    5973945.30   \n",
       "1                        0.00                    8230386.15   \n",
       "2                    76905.00                      89910.00   \n",
       "3                   552730.50                    1285239.06   \n",
       "4                  1185081.84                    7158960.00   \n",
       "\n",
       "   bureau_debt_credit_ratio  bureau_total_customer_overdue  \\\n",
       "0                  0.047617                            0.0   \n",
       "1                  0.000000                            0.0   \n",
       "2                  0.855355                            0.0   \n",
       "3                  0.430060                            0.0   \n",
       "4                  0.165538                            0.0   \n",
       "\n",
       "   bureau_overdue_debt_ratio  bureau_average_creditdays_prolonged  \\\n",
       "0                        0.0                                    0   \n",
       "1                        NaN                                    0   \n",
       "2                        0.0                                    0   \n",
       "3                        0.0                                    0   \n",
       "4                        0.0                                    0   \n",
       "\n",
       "   bureau_credit_enddate_percentage  \n",
       "0                          0.454545  \n",
       "1                          0.166667  \n",
       "2                          1.000000  \n",
       "3                          0.125000  \n",
       "4                          0.625000  "
      ]
     },
     "execution_count": 33,
     "metadata": {},
     "output_type": "execute_result"
    }
   ],
   "source": [
    "group_object = groupby_SK_ID_CURR['bureau_credit_enddate_binary'].agg('mean').reset_index()\n",
    "group_object.rename(index=str, columns={'bureau_credit_enddate_binary': 'bureau_credit_enddate_percentage'},inplace=True)\n",
    "\n",
    "features = features.merge(group_object, on=['SK_ID_CURR'], how='left')\n",
    "features.head()"
   ]
  },
  {
   "cell_type": "code",
   "execution_count": 34,
   "metadata": {
    "collapsed": false
   },
   "outputs": [],
   "source": [
    "df = df.merge(features,\n",
    "            left_on=['SK_ID_CURR'],\n",
    "            right_on=['SK_ID_CURR'],\n",
    "            how='left')"
   ]
  },
  {
   "cell_type": "code",
   "execution_count": 35,
   "metadata": {
    "collapsed": false
   },
   "outputs": [
    {
     "data": {
      "text/plain": [
       "(356255, 271)"
      ]
     },
     "execution_count": 35,
     "metadata": {},
     "output_type": "execute_result"
    }
   ],
   "source": [
    "df.shape"
   ]
  },
  {
   "cell_type": "code",
   "execution_count": 36,
   "metadata": {
    "collapsed": false
   },
   "outputs": [
    {
     "data": {
      "text/plain": [
       "406"
      ]
     },
     "execution_count": 36,
     "metadata": {},
     "output_type": "execute_result"
    }
   ],
   "source": [
    "del features\n",
    "gc.collect()"
   ]
  },
  {
   "cell_type": "code",
   "execution_count": 243,
   "metadata": {
    "collapsed": true
   },
   "outputs": [],
   "source": [
    "engineered_numerical_columns = list(features.columns)\n",
    "engineered_numerical_columns.remove('SK_ID_CURR')\n",
    "bureau_eng = df[engineered_numerical_columns + ['TARGET']]\n",
    "bureau_eng_corr = abs(bureau_eng.corr())"
   ]
  },
  {
   "cell_type": "code",
   "execution_count": 244,
   "metadata": {
    "collapsed": false
   },
   "outputs": [
    {
     "data": {
      "text/plain": [
       "TARGET                                   1.000000\n",
       "bureau_credit_active_binary              0.079369\n",
       "bureau_debt_credit_ratio                 0.060235\n",
       "bureau_credit_enddate_percentage         0.055305\n",
       "bureau_total_customer_credit             0.014057\n",
       "bureau_total_customer_overdue            0.013335\n",
       "bureau_total_customer_debt               0.007144\n",
       "bureau_average_of_past_loans_per_type    0.006118\n",
       "bureau_number_of_loan_types              0.004624\n",
       "bureau_average_creditdays_prolonged      0.004058\n",
       "bureau_number_of_past_loans              0.004056\n",
       "bureau_overdue_debt_ratio                0.000939\n",
       "Name: TARGET, dtype: float64"
      ]
     },
     "execution_count": 244,
     "metadata": {},
     "output_type": "execute_result"
    }
   ],
   "source": [
    "bureau_eng_corr.sort_values('TARGET', ascending=False)['TARGET']"
   ]
  },
  {
   "cell_type": "code",
   "execution_count": 37,
   "metadata": {
    "collapsed": false
   },
   "outputs": [],
   "source": [
    "BUREAU_AGGREGATION_RECIPIES  = [('CREDIT_TYPE', 'count'),\n",
    "                               ('CREDIT_ACTIVE', 'size')\n",
    "                               ]\n",
    "for agg in ['mean', 'min', 'max', 'sum', 'var']:\n",
    "    for select in ['AMT_ANNUITY',\n",
    "                   'AMT_CREDIT_SUM',\n",
    "                   'AMT_CREDIT_SUM_DEBT',\n",
    "                   'AMT_CREDIT_SUM_LIMIT',\n",
    "                   'AMT_CREDIT_SUM_OVERDUE',\n",
    "                   'AMT_CREDIT_MAX_OVERDUE',\n",
    "                   'CNT_CREDIT_PROLONG',\n",
    "                   'CREDIT_DAY_OVERDUE',\n",
    "                   'DAYS_CREDIT',\n",
    "                   'DAYS_CREDIT_ENDDATE',\n",
    "                   'DAYS_CREDIT_UPDATE'\n",
    "                   ]:\n",
    "        BUREAU_AGGREGATION_RECIPIES.append((select, agg))\n",
    "BUREAU_AGGREGATION_RECIPIES = [(['SK_ID_CURR'], BUREAU_AGGREGATION_RECIPIES)]"
   ]
  },
  {
   "cell_type": "code",
   "execution_count": 246,
   "metadata": {
    "collapsed": false
   },
   "outputs": [
    {
     "data": {
      "text/plain": [
       "[(['SK_ID_CURR'],\n",
       "  [('CREDIT_TYPE', 'count'),\n",
       "   ('CREDIT_ACTIVE', 'size'),\n",
       "   ('AMT_ANNUITY', 'mean'),\n",
       "   ('AMT_CREDIT_SUM', 'mean'),\n",
       "   ('AMT_CREDIT_SUM_DEBT', 'mean'),\n",
       "   ('AMT_CREDIT_SUM_LIMIT', 'mean'),\n",
       "   ('AMT_CREDIT_SUM_OVERDUE', 'mean'),\n",
       "   ('AMT_CREDIT_MAX_OVERDUE', 'mean'),\n",
       "   ('CNT_CREDIT_PROLONG', 'mean'),\n",
       "   ('CREDIT_DAY_OVERDUE', 'mean'),\n",
       "   ('DAYS_CREDIT', 'mean'),\n",
       "   ('DAYS_CREDIT_ENDDATE', 'mean'),\n",
       "   ('DAYS_CREDIT_UPDATE', 'mean'),\n",
       "   ('AMT_ANNUITY', 'min'),\n",
       "   ('AMT_CREDIT_SUM', 'min'),\n",
       "   ('AMT_CREDIT_SUM_DEBT', 'min'),\n",
       "   ('AMT_CREDIT_SUM_LIMIT', 'min'),\n",
       "   ('AMT_CREDIT_SUM_OVERDUE', 'min'),\n",
       "   ('AMT_CREDIT_MAX_OVERDUE', 'min'),\n",
       "   ('CNT_CREDIT_PROLONG', 'min'),\n",
       "   ('CREDIT_DAY_OVERDUE', 'min'),\n",
       "   ('DAYS_CREDIT', 'min'),\n",
       "   ('DAYS_CREDIT_ENDDATE', 'min'),\n",
       "   ('DAYS_CREDIT_UPDATE', 'min'),\n",
       "   ('AMT_ANNUITY', 'max'),\n",
       "   ('AMT_CREDIT_SUM', 'max'),\n",
       "   ('AMT_CREDIT_SUM_DEBT', 'max'),\n",
       "   ('AMT_CREDIT_SUM_LIMIT', 'max'),\n",
       "   ('AMT_CREDIT_SUM_OVERDUE', 'max'),\n",
       "   ('AMT_CREDIT_MAX_OVERDUE', 'max'),\n",
       "   ('CNT_CREDIT_PROLONG', 'max'),\n",
       "   ('CREDIT_DAY_OVERDUE', 'max'),\n",
       "   ('DAYS_CREDIT', 'max'),\n",
       "   ('DAYS_CREDIT_ENDDATE', 'max'),\n",
       "   ('DAYS_CREDIT_UPDATE', 'max'),\n",
       "   ('AMT_ANNUITY', 'sum'),\n",
       "   ('AMT_CREDIT_SUM', 'sum'),\n",
       "   ('AMT_CREDIT_SUM_DEBT', 'sum'),\n",
       "   ('AMT_CREDIT_SUM_LIMIT', 'sum'),\n",
       "   ('AMT_CREDIT_SUM_OVERDUE', 'sum'),\n",
       "   ('AMT_CREDIT_MAX_OVERDUE', 'sum'),\n",
       "   ('CNT_CREDIT_PROLONG', 'sum'),\n",
       "   ('CREDIT_DAY_OVERDUE', 'sum'),\n",
       "   ('DAYS_CREDIT', 'sum'),\n",
       "   ('DAYS_CREDIT_ENDDATE', 'sum'),\n",
       "   ('DAYS_CREDIT_UPDATE', 'sum'),\n",
       "   ('AMT_ANNUITY', 'var'),\n",
       "   ('AMT_CREDIT_SUM', 'var'),\n",
       "   ('AMT_CREDIT_SUM_DEBT', 'var'),\n",
       "   ('AMT_CREDIT_SUM_LIMIT', 'var'),\n",
       "   ('AMT_CREDIT_SUM_OVERDUE', 'var'),\n",
       "   ('AMT_CREDIT_MAX_OVERDUE', 'var'),\n",
       "   ('CNT_CREDIT_PROLONG', 'var'),\n",
       "   ('CREDIT_DAY_OVERDUE', 'var'),\n",
       "   ('DAYS_CREDIT', 'var'),\n",
       "   ('DAYS_CREDIT_ENDDATE', 'var'),\n",
       "   ('DAYS_CREDIT_UPDATE', 'var')])]"
      ]
     },
     "execution_count": 246,
     "metadata": {},
     "output_type": "execute_result"
    }
   ],
   "source": [
    "BUREAU_AGGREGATION_RECIPIES"
   ]
  },
  {
   "cell_type": "code",
   "execution_count": 38,
   "metadata": {
    "collapsed": false
   },
   "outputs": [
    {
     "name": "stdout",
     "output_type": "stream",
     "text": [
      "\n"
     ]
    }
   ],
   "source": [
    "#57\n",
    "groupby_aggregate_namesgroupby  = []\n",
    "for groupby_cols, specs in tqdm(BUREAU_AGGREGATION_RECIPIES):\n",
    "    group_object = bureau.groupby(groupby_cols)\n",
    "    for select, agg in tqdm(specs):\n",
    "        groupby_aggregate_name = '{}_{}_{}'.format('_'.join(groupby_cols), agg, select)\n",
    "        df = df.merge(group_object[select]\n",
    "                              .agg(agg)\n",
    "                              .reset_index()\n",
    "                              .rename(index=str,\n",
    "                                      columns={select: groupby_aggregate_name}),\n",
    "                              on=groupby_cols,\n",
    "                              how='left')\n",
    "        groupby_aggregate_names.append(groupby_aggregate_name)"
   ]
  },
  {
   "cell_type": "code",
   "execution_count": 39,
   "metadata": {
    "collapsed": false
   },
   "outputs": [
    {
     "data": {
      "text/plain": [
       "(356255, 328)"
      ]
     },
     "execution_count": 39,
     "metadata": {},
     "output_type": "execute_result"
    }
   ],
   "source": [
    "df.shape"
   ]
  },
  {
   "cell_type": "code",
   "execution_count": 249,
   "metadata": {
    "collapsed": false
   },
   "outputs": [
    {
     "data": {
      "text/plain": [
       "Index([                                u'index',\n",
       "                                 u'AMT_ANNUITY',\n",
       "                                  u'AMT_CREDIT',\n",
       "                             u'AMT_GOODS_PRICE',\n",
       "                            u'AMT_INCOME_TOTAL',\n",
       "                   u'AMT_REQ_CREDIT_BUREAU_DAY',\n",
       "                  u'AMT_REQ_CREDIT_BUREAU_HOUR',\n",
       "                   u'AMT_REQ_CREDIT_BUREAU_MON',\n",
       "                   u'AMT_REQ_CREDIT_BUREAU_QRT',\n",
       "                  u'AMT_REQ_CREDIT_BUREAU_WEEK',\n",
       "       ...\n",
       "               u'SK_ID_CURR_var_AMT_CREDIT_SUM',\n",
       "          u'SK_ID_CURR_var_AMT_CREDIT_SUM_DEBT',\n",
       "         u'SK_ID_CURR_var_AMT_CREDIT_SUM_LIMIT',\n",
       "       u'SK_ID_CURR_var_AMT_CREDIT_SUM_OVERDUE',\n",
       "       u'SK_ID_CURR_var_AMT_CREDIT_MAX_OVERDUE',\n",
       "           u'SK_ID_CURR_var_CNT_CREDIT_PROLONG',\n",
       "           u'SK_ID_CURR_var_CREDIT_DAY_OVERDUE',\n",
       "                  u'SK_ID_CURR_var_DAYS_CREDIT',\n",
       "          u'SK_ID_CURR_var_DAYS_CREDIT_ENDDATE',\n",
       "           u'SK_ID_CURR_var_DAYS_CREDIT_UPDATE'],\n",
       "      dtype='object', length=328)"
      ]
     },
     "execution_count": 249,
     "metadata": {},
     "output_type": "execute_result"
    }
   ],
   "source": [
    "df.columns"
   ]
  },
  {
   "cell_type": "code",
   "execution_count": 40,
   "metadata": {
    "collapsed": true
   },
   "outputs": [],
   "source": [
    "credit_card = pd.read_csv('credit_card_balance.csv')"
   ]
  },
  {
   "cell_type": "code",
   "execution_count": 41,
   "metadata": {
    "collapsed": false
   },
   "outputs": [
    {
     "name": "stderr",
     "output_type": "stream",
     "text": [
      "/Users/shuozhang/anaconda/lib/python2.7/site-packages/ipykernel_launcher.py:1: SettingWithCopyWarning: \n",
      "A value is trying to be set on a copy of a slice from a DataFrame\n",
      "\n",
      "See the caveats in the documentation: http://pandas.pydata.org/pandas-docs/stable/indexing.html#indexing-view-versus-copy\n",
      "  \"\"\"Entry point for launching an IPython kernel.\n",
      "/Users/shuozhang/anaconda/lib/python2.7/site-packages/ipykernel_launcher.py:2: SettingWithCopyWarning: \n",
      "A value is trying to be set on a copy of a slice from a DataFrame\n",
      "\n",
      "See the caveats in the documentation: http://pandas.pydata.org/pandas-docs/stable/indexing.html#indexing-view-versus-copy\n",
      "  \n"
     ]
    }
   ],
   "source": [
    "credit_card['AMT_DRAWINGS_ATM_CURRENT'][credit_card['AMT_DRAWINGS_ATM_CURRENT'] < 0] = np.nan\n",
    "credit_card['AMT_DRAWINGS_CURRENT'][credit_card['AMT_DRAWINGS_CURRENT'] < 0] = np.nan"
   ]
  },
  {
   "cell_type": "code",
   "execution_count": 42,
   "metadata": {
    "collapsed": false
   },
   "outputs": [
    {
     "name": "stderr",
     "output_type": "stream",
     "text": [
      "/Users/shuozhang/anaconda/lib/python2.7/site-packages/ipykernel_launcher.py:7: RuntimeWarning: invalid value encountered in double_scalars\n",
      "  import sys\n",
      "/Users/shuozhang/anaconda/lib/python2.7/site-packages/ipykernel_launcher.py:7: RuntimeWarning: divide by zero encountered in double_scalars\n",
      "  import sys\n"
     ]
    }
   ],
   "source": [
    "credit_card['number_of_instalments'] = credit_card.groupby(\n",
    "    by=['SK_ID_CURR', 'SK_ID_PREV'])['CNT_INSTALMENT_MATURE_CUM'].agg('max').reset_index()[\n",
    "    'CNT_INSTALMENT_MATURE_CUM']\n",
    "\n",
    "credit_card['credit_card_max_loading_of_credit_limit'] = credit_card.groupby(\n",
    "    by=['SK_ID_CURR', 'SK_ID_PREV', 'AMT_CREDIT_LIMIT_ACTUAL']).apply(\n",
    "    lambda x: x.AMT_BALANCE.max() / x.AMT_CREDIT_LIMIT_ACTUAL.max()).reset_index()[0]"
   ]
  },
  {
   "cell_type": "code",
   "execution_count": 43,
   "metadata": {
    "collapsed": false
   },
   "outputs": [
    {
     "data": {
      "text/html": [
       "<div>\n",
       "<table border=\"1\" class=\"dataframe\">\n",
       "  <thead>\n",
       "    <tr style=\"text-align: right;\">\n",
       "      <th></th>\n",
       "      <th>SK_ID_CURR</th>\n",
       "    </tr>\n",
       "  </thead>\n",
       "  <tbody>\n",
       "    <tr>\n",
       "      <th>0</th>\n",
       "      <td>378907</td>\n",
       "    </tr>\n",
       "    <tr>\n",
       "      <th>1</th>\n",
       "      <td>363914</td>\n",
       "    </tr>\n",
       "    <tr>\n",
       "      <th>2</th>\n",
       "      <td>371185</td>\n",
       "    </tr>\n",
       "    <tr>\n",
       "      <th>3</th>\n",
       "      <td>337855</td>\n",
       "    </tr>\n",
       "    <tr>\n",
       "      <th>4</th>\n",
       "      <td>126868</td>\n",
       "    </tr>\n",
       "  </tbody>\n",
       "</table>\n",
       "</div>"
      ],
      "text/plain": [
       "   SK_ID_CURR\n",
       "0      378907\n",
       "1      363914\n",
       "2      371185\n",
       "3      337855\n",
       "4      126868"
      ]
     },
     "execution_count": 43,
     "metadata": {},
     "output_type": "execute_result"
    }
   ],
   "source": [
    "features = pd.DataFrame({'SK_ID_CURR':credit_card['SK_ID_CURR'].unique()})\n",
    "features.head()"
   ]
  },
  {
   "cell_type": "code",
   "execution_count": 44,
   "metadata": {
    "collapsed": false
   },
   "outputs": [
    {
     "data": {
      "text/html": [
       "<div>\n",
       "<table border=\"1\" class=\"dataframe\">\n",
       "  <thead>\n",
       "    <tr style=\"text-align: right;\">\n",
       "      <th></th>\n",
       "      <th>SK_ID_CURR</th>\n",
       "      <th>credit_card_number_of_loans</th>\n",
       "    </tr>\n",
       "  </thead>\n",
       "  <tbody>\n",
       "    <tr>\n",
       "      <th>0</th>\n",
       "      <td>378907</td>\n",
       "      <td>1</td>\n",
       "    </tr>\n",
       "    <tr>\n",
       "      <th>1</th>\n",
       "      <td>363914</td>\n",
       "      <td>1</td>\n",
       "    </tr>\n",
       "    <tr>\n",
       "      <th>2</th>\n",
       "      <td>371185</td>\n",
       "      <td>1</td>\n",
       "    </tr>\n",
       "    <tr>\n",
       "      <th>3</th>\n",
       "      <td>337855</td>\n",
       "      <td>1</td>\n",
       "    </tr>\n",
       "    <tr>\n",
       "      <th>4</th>\n",
       "      <td>126868</td>\n",
       "      <td>1</td>\n",
       "    </tr>\n",
       "  </tbody>\n",
       "</table>\n",
       "</div>"
      ],
      "text/plain": [
       "   SK_ID_CURR  credit_card_number_of_loans\n",
       "0      378907                            1\n",
       "1      363914                            1\n",
       "2      371185                            1\n",
       "3      337855                            1\n",
       "4      126868                            1"
      ]
     },
     "execution_count": 44,
     "metadata": {},
     "output_type": "execute_result"
    }
   ],
   "source": [
    "group_object = credit_card.groupby(by=['SK_ID_CURR'])['SK_ID_PREV'].agg('nunique').reset_index()\n",
    "group_object.rename(index=str, columns={'SK_ID_PREV': 'credit_card_number_of_loans'},inplace=True)\n",
    "\n",
    "features = features.merge(group_object, on=['SK_ID_CURR'], how='left')\n",
    "features.head()"
   ]
  },
  {
   "cell_type": "code",
   "execution_count": 45,
   "metadata": {
    "collapsed": false
   },
   "outputs": [
    {
     "data": {
      "text/plain": [
       "1    102818\n",
       "2       732\n",
       "3         7\n",
       "4         1\n",
       "Name: credit_card_number_of_loans, dtype: int64"
      ]
     },
     "execution_count": 45,
     "metadata": {},
     "output_type": "execute_result"
    }
   ],
   "source": [
    "features['credit_card_number_of_loans'].value_counts()"
   ]
  },
  {
   "cell_type": "code",
   "execution_count": 46,
   "metadata": {
    "collapsed": false
   },
   "outputs": [
    {
     "data": {
      "text/html": [
       "<div>\n",
       "<table border=\"1\" class=\"dataframe\">\n",
       "  <thead>\n",
       "    <tr style=\"text-align: right;\">\n",
       "      <th></th>\n",
       "      <th>SK_ID_CURR</th>\n",
       "      <th>credit_card_number_of_loans</th>\n",
       "      <th>credit_card_total_instalments</th>\n",
       "    </tr>\n",
       "  </thead>\n",
       "  <tbody>\n",
       "    <tr>\n",
       "      <th>0</th>\n",
       "      <td>378907</td>\n",
       "      <td>1</td>\n",
       "      <td>0.0</td>\n",
       "    </tr>\n",
       "    <tr>\n",
       "      <th>1</th>\n",
       "      <td>363914</td>\n",
       "      <td>1</td>\n",
       "      <td>94.0</td>\n",
       "    </tr>\n",
       "    <tr>\n",
       "      <th>2</th>\n",
       "      <td>371185</td>\n",
       "      <td>1</td>\n",
       "      <td>63.0</td>\n",
       "    </tr>\n",
       "    <tr>\n",
       "      <th>3</th>\n",
       "      <td>337855</td>\n",
       "      <td>1</td>\n",
       "      <td>0.0</td>\n",
       "    </tr>\n",
       "    <tr>\n",
       "      <th>4</th>\n",
       "      <td>126868</td>\n",
       "      <td>1</td>\n",
       "      <td>23.0</td>\n",
       "    </tr>\n",
       "  </tbody>\n",
       "</table>\n",
       "</div>"
      ],
      "text/plain": [
       "   SK_ID_CURR  credit_card_number_of_loans  credit_card_total_instalments\n",
       "0      378907                            1                            0.0\n",
       "1      363914                            1                           94.0\n",
       "2      371185                            1                           63.0\n",
       "3      337855                            1                            0.0\n",
       "4      126868                            1                           23.0"
      ]
     },
     "execution_count": 46,
     "metadata": {},
     "output_type": "execute_result"
    }
   ],
   "source": [
    "group_object= credit_card.groupby(by=['SK_ID_CURR'])['number_of_instalments'].sum().reset_index()\n",
    "group_object.rename(index=str, columns={'number_of_instalments': 'credit_card_total_instalments'},inplace=True)\n",
    "\n",
    "features = features.merge(group_object, on=['SK_ID_CURR'], how='left')\n",
    "features.head()"
   ]
  },
  {
   "cell_type": "code",
   "execution_count": 257,
   "metadata": {
    "collapsed": false
   },
   "outputs": [
    {
     "data": {
      "text/plain": [
       "0.0     10641\n",
       "5.0      1541\n",
       "6.0      1507\n",
       "7.0      1431\n",
       "8.0      1278\n",
       "9.0      1167\n",
       "10.0     1062\n",
       "Name: credit_card_total_instalments, dtype: int64"
      ]
     },
     "execution_count": 257,
     "metadata": {},
     "output_type": "execute_result"
    }
   ],
   "source": [
    "features['credit_card_total_instalments'].value_counts()[:10]"
   ]
  },
  {
   "cell_type": "code",
   "execution_count": 47,
   "metadata": {
    "collapsed": false
   },
   "outputs": [
    {
     "data": {
      "text/html": [
       "<div>\n",
       "<table border=\"1\" class=\"dataframe\">\n",
       "  <thead>\n",
       "    <tr style=\"text-align: right;\">\n",
       "      <th></th>\n",
       "      <th>SK_ID_CURR</th>\n",
       "      <th>credit_card_number_of_loans</th>\n",
       "      <th>credit_card_total_instalments</th>\n",
       "      <th>credit_card_installments_per_loan</th>\n",
       "    </tr>\n",
       "  </thead>\n",
       "  <tbody>\n",
       "    <tr>\n",
       "      <th>0</th>\n",
       "      <td>378907</td>\n",
       "      <td>1</td>\n",
       "      <td>0.0</td>\n",
       "      <td>0.0</td>\n",
       "    </tr>\n",
       "    <tr>\n",
       "      <th>1</th>\n",
       "      <td>363914</td>\n",
       "      <td>1</td>\n",
       "      <td>94.0</td>\n",
       "      <td>94.0</td>\n",
       "    </tr>\n",
       "    <tr>\n",
       "      <th>2</th>\n",
       "      <td>371185</td>\n",
       "      <td>1</td>\n",
       "      <td>63.0</td>\n",
       "      <td>63.0</td>\n",
       "    </tr>\n",
       "    <tr>\n",
       "      <th>3</th>\n",
       "      <td>337855</td>\n",
       "      <td>1</td>\n",
       "      <td>0.0</td>\n",
       "      <td>0.0</td>\n",
       "    </tr>\n",
       "    <tr>\n",
       "      <th>4</th>\n",
       "      <td>126868</td>\n",
       "      <td>1</td>\n",
       "      <td>23.0</td>\n",
       "      <td>23.0</td>\n",
       "    </tr>\n",
       "  </tbody>\n",
       "</table>\n",
       "</div>"
      ],
      "text/plain": [
       "   SK_ID_CURR  credit_card_number_of_loans  credit_card_total_instalments  \\\n",
       "0      378907                            1                            0.0   \n",
       "1      363914                            1                           94.0   \n",
       "2      371185                            1                           63.0   \n",
       "3      337855                            1                            0.0   \n",
       "4      126868                            1                           23.0   \n",
       "\n",
       "   credit_card_installments_per_loan  \n",
       "0                                0.0  \n",
       "1                               94.0  \n",
       "2                               63.0  \n",
       "3                                0.0  \n",
       "4                               23.0  "
      ]
     },
     "execution_count": 47,
     "metadata": {},
     "output_type": "execute_result"
    }
   ],
   "source": [
    "features['credit_card_installments_per_loan'] = (\n",
    "    features['credit_card_total_instalments'] / features['credit_card_number_of_loans'])\n",
    "    \n",
    "features.head()"
   ]
  },
  {
   "cell_type": "code",
   "execution_count": 48,
   "metadata": {
    "collapsed": false
   },
   "outputs": [
    {
     "data": {
      "text/html": [
       "<div>\n",
       "<table border=\"1\" class=\"dataframe\">\n",
       "  <thead>\n",
       "    <tr style=\"text-align: right;\">\n",
       "      <th></th>\n",
       "      <th>SK_ID_CURR</th>\n",
       "      <th>credit_card_number_of_loans</th>\n",
       "      <th>credit_card_total_instalments</th>\n",
       "      <th>credit_card_installments_per_loan</th>\n",
       "      <th>credit_card_avg_loading_of_credit_limit</th>\n",
       "    </tr>\n",
       "  </thead>\n",
       "  <tbody>\n",
       "    <tr>\n",
       "      <th>0</th>\n",
       "      <td>378907</td>\n",
       "      <td>1</td>\n",
       "      <td>0.0</td>\n",
       "      <td>0.0</td>\n",
       "      <td>0.696487</td>\n",
       "    </tr>\n",
       "    <tr>\n",
       "      <th>1</th>\n",
       "      <td>363914</td>\n",
       "      <td>1</td>\n",
       "      <td>94.0</td>\n",
       "      <td>94.0</td>\n",
       "      <td>0.202349</td>\n",
       "    </tr>\n",
       "    <tr>\n",
       "      <th>2</th>\n",
       "      <td>371185</td>\n",
       "      <td>1</td>\n",
       "      <td>63.0</td>\n",
       "      <td>63.0</td>\n",
       "      <td>0.525000</td>\n",
       "    </tr>\n",
       "    <tr>\n",
       "      <th>3</th>\n",
       "      <td>337855</td>\n",
       "      <td>1</td>\n",
       "      <td>0.0</td>\n",
       "      <td>0.0</td>\n",
       "      <td>0.000000</td>\n",
       "    </tr>\n",
       "    <tr>\n",
       "      <th>4</th>\n",
       "      <td>126868</td>\n",
       "      <td>1</td>\n",
       "      <td>23.0</td>\n",
       "      <td>23.0</td>\n",
       "      <td>1.043303</td>\n",
       "    </tr>\n",
       "  </tbody>\n",
       "</table>\n",
       "</div>"
      ],
      "text/plain": [
       "   SK_ID_CURR  credit_card_number_of_loans  credit_card_total_instalments  \\\n",
       "0      378907                            1                            0.0   \n",
       "1      363914                            1                           94.0   \n",
       "2      371185                            1                           63.0   \n",
       "3      337855                            1                            0.0   \n",
       "4      126868                            1                           23.0   \n",
       "\n",
       "   credit_card_installments_per_loan  credit_card_avg_loading_of_credit_limit  \n",
       "0                                0.0                                 0.696487  \n",
       "1                               94.0                                 0.202349  \n",
       "2                               63.0                                 0.525000  \n",
       "3                                0.0                                 0.000000  \n",
       "4                               23.0                                 1.043303  "
      ]
     },
     "execution_count": 48,
     "metadata": {},
     "output_type": "execute_result"
    }
   ],
   "source": [
    "group_object = credit_card.groupby(by=['SK_ID_CURR'])['credit_card_max_loading_of_credit_limit'].agg('mean').reset_index()\n",
    "group_object.rename(index=str, columns={'credit_card_max_loading_of_credit_limit': 'credit_card_avg_loading_of_credit_limit'},inplace=True)\n",
    "\n",
    "features = features.merge(group_object, on=['SK_ID_CURR'], how='left')\n",
    "features.head()"
   ]
  },
  {
   "cell_type": "code",
   "execution_count": 49,
   "metadata": {
    "collapsed": false
   },
   "outputs": [
    {
     "data": {
      "text/html": [
       "<div>\n",
       "<table border=\"1\" class=\"dataframe\">\n",
       "  <thead>\n",
       "    <tr style=\"text-align: right;\">\n",
       "      <th></th>\n",
       "      <th>SK_ID_CURR</th>\n",
       "      <th>credit_card_number_of_loans</th>\n",
       "      <th>credit_card_total_instalments</th>\n",
       "      <th>credit_card_installments_per_loan</th>\n",
       "      <th>credit_card_avg_loading_of_credit_limit</th>\n",
       "      <th>credit_card_average_of_days_past_due</th>\n",
       "    </tr>\n",
       "  </thead>\n",
       "  <tbody>\n",
       "    <tr>\n",
       "      <th>0</th>\n",
       "      <td>378907</td>\n",
       "      <td>1</td>\n",
       "      <td>0.0</td>\n",
       "      <td>0.0</td>\n",
       "      <td>0.696487</td>\n",
       "      <td>0.127660</td>\n",
       "    </tr>\n",
       "    <tr>\n",
       "      <th>1</th>\n",
       "      <td>363914</td>\n",
       "      <td>1</td>\n",
       "      <td>94.0</td>\n",
       "      <td>94.0</td>\n",
       "      <td>0.202349</td>\n",
       "      <td>0.010417</td>\n",
       "    </tr>\n",
       "    <tr>\n",
       "      <th>2</th>\n",
       "      <td>371185</td>\n",
       "      <td>1</td>\n",
       "      <td>63.0</td>\n",
       "      <td>63.0</td>\n",
       "      <td>0.525000</td>\n",
       "      <td>0.000000</td>\n",
       "    </tr>\n",
       "    <tr>\n",
       "      <th>3</th>\n",
       "      <td>337855</td>\n",
       "      <td>1</td>\n",
       "      <td>0.0</td>\n",
       "      <td>0.0</td>\n",
       "      <td>0.000000</td>\n",
       "      <td>0.000000</td>\n",
       "    </tr>\n",
       "    <tr>\n",
       "      <th>4</th>\n",
       "      <td>126868</td>\n",
       "      <td>1</td>\n",
       "      <td>23.0</td>\n",
       "      <td>23.0</td>\n",
       "      <td>1.043303</td>\n",
       "      <td>0.010417</td>\n",
       "    </tr>\n",
       "  </tbody>\n",
       "</table>\n",
       "</div>"
      ],
      "text/plain": [
       "   SK_ID_CURR  credit_card_number_of_loans  credit_card_total_instalments  \\\n",
       "0      378907                            1                            0.0   \n",
       "1      363914                            1                           94.0   \n",
       "2      371185                            1                           63.0   \n",
       "3      337855                            1                            0.0   \n",
       "4      126868                            1                           23.0   \n",
       "\n",
       "   credit_card_installments_per_loan  credit_card_avg_loading_of_credit_limit  \\\n",
       "0                                0.0                                 0.696487   \n",
       "1                               94.0                                 0.202349   \n",
       "2                               63.0                                 0.525000   \n",
       "3                                0.0                                 0.000000   \n",
       "4                               23.0                                 1.043303   \n",
       "\n",
       "   credit_card_average_of_days_past_due  \n",
       "0                              0.127660  \n",
       "1                              0.010417  \n",
       "2                              0.000000  \n",
       "3                              0.000000  \n",
       "4                              0.010417  "
      ]
     },
     "execution_count": 49,
     "metadata": {},
     "output_type": "execute_result"
    }
   ],
   "source": [
    "group_object = credit_card.groupby(\n",
    "    by=['SK_ID_CURR'])['SK_DPD'].agg('mean').reset_index()\n",
    "group_object.rename(index=str, columns={'SK_DPD': 'credit_card_average_of_days_past_due'},inplace=True)\n",
    "\n",
    "features = features.merge(group_object, on=['SK_ID_CURR'], how='left')\n",
    "features.head()"
   ]
  },
  {
   "cell_type": "code",
   "execution_count": 50,
   "metadata": {
    "collapsed": false
   },
   "outputs": [
    {
     "data": {
      "text/html": [
       "<div>\n",
       "<table border=\"1\" class=\"dataframe\">\n",
       "  <thead>\n",
       "    <tr style=\"text-align: right;\">\n",
       "      <th></th>\n",
       "      <th>SK_ID_CURR</th>\n",
       "      <th>credit_card_number_of_loans</th>\n",
       "      <th>credit_card_total_instalments</th>\n",
       "      <th>credit_card_installments_per_loan</th>\n",
       "      <th>credit_card_avg_loading_of_credit_limit</th>\n",
       "      <th>credit_card_average_of_days_past_due</th>\n",
       "      <th>credit_card_drawings_atm</th>\n",
       "    </tr>\n",
       "  </thead>\n",
       "  <tbody>\n",
       "    <tr>\n",
       "      <th>0</th>\n",
       "      <td>378907</td>\n",
       "      <td>1</td>\n",
       "      <td>0.0</td>\n",
       "      <td>0.0</td>\n",
       "      <td>0.696487</td>\n",
       "      <td>0.127660</td>\n",
       "      <td>67500.0</td>\n",
       "    </tr>\n",
       "    <tr>\n",
       "      <th>1</th>\n",
       "      <td>363914</td>\n",
       "      <td>1</td>\n",
       "      <td>94.0</td>\n",
       "      <td>94.0</td>\n",
       "      <td>0.202349</td>\n",
       "      <td>0.010417</td>\n",
       "      <td>293850.0</td>\n",
       "    </tr>\n",
       "    <tr>\n",
       "      <th>2</th>\n",
       "      <td>371185</td>\n",
       "      <td>1</td>\n",
       "      <td>63.0</td>\n",
       "      <td>63.0</td>\n",
       "      <td>0.525000</td>\n",
       "      <td>0.000000</td>\n",
       "      <td>506250.0</td>\n",
       "    </tr>\n",
       "    <tr>\n",
       "      <th>3</th>\n",
       "      <td>337855</td>\n",
       "      <td>1</td>\n",
       "      <td>0.0</td>\n",
       "      <td>0.0</td>\n",
       "      <td>0.000000</td>\n",
       "      <td>0.000000</td>\n",
       "      <td>50850.0</td>\n",
       "    </tr>\n",
       "    <tr>\n",
       "      <th>4</th>\n",
       "      <td>126868</td>\n",
       "      <td>1</td>\n",
       "      <td>23.0</td>\n",
       "      <td>23.0</td>\n",
       "      <td>1.043303</td>\n",
       "      <td>0.010417</td>\n",
       "      <td>763650.0</td>\n",
       "    </tr>\n",
       "  </tbody>\n",
       "</table>\n",
       "</div>"
      ],
      "text/plain": [
       "   SK_ID_CURR  credit_card_number_of_loans  credit_card_total_instalments  \\\n",
       "0      378907                            1                            0.0   \n",
       "1      363914                            1                           94.0   \n",
       "2      371185                            1                           63.0   \n",
       "3      337855                            1                            0.0   \n",
       "4      126868                            1                           23.0   \n",
       "\n",
       "   credit_card_installments_per_loan  credit_card_avg_loading_of_credit_limit  \\\n",
       "0                                0.0                                 0.696487   \n",
       "1                               94.0                                 0.202349   \n",
       "2                               63.0                                 0.525000   \n",
       "3                                0.0                                 0.000000   \n",
       "4                               23.0                                 1.043303   \n",
       "\n",
       "   credit_card_average_of_days_past_due  credit_card_drawings_atm  \n",
       "0                              0.127660                   67500.0  \n",
       "1                              0.010417                  293850.0  \n",
       "2                              0.000000                  506250.0  \n",
       "3                              0.000000                   50850.0  \n",
       "4                              0.010417                  763650.0  "
      ]
     },
     "execution_count": 50,
     "metadata": {},
     "output_type": "execute_result"
    }
   ],
   "source": [
    "group_object = credit_card.groupby(by=['SK_ID_CURR'])['AMT_DRAWINGS_ATM_CURRENT'].agg('sum').reset_index()\n",
    "group_object.rename(index=str, columns={'AMT_DRAWINGS_ATM_CURRENT': 'credit_card_drawings_atm'},inplace=True)\n",
    "\n",
    "features = features.merge(group_object, on=['SK_ID_CURR'], how='left')\n",
    "features.head()"
   ]
  },
  {
   "cell_type": "code",
   "execution_count": 51,
   "metadata": {
    "collapsed": false
   },
   "outputs": [
    {
     "data": {
      "text/html": [
       "<div>\n",
       "<table border=\"1\" class=\"dataframe\">\n",
       "  <thead>\n",
       "    <tr style=\"text-align: right;\">\n",
       "      <th></th>\n",
       "      <th>SK_ID_CURR</th>\n",
       "      <th>credit_card_number_of_loans</th>\n",
       "      <th>credit_card_total_instalments</th>\n",
       "      <th>credit_card_installments_per_loan</th>\n",
       "      <th>credit_card_avg_loading_of_credit_limit</th>\n",
       "      <th>credit_card_average_of_days_past_due</th>\n",
       "      <th>credit_card_drawings_atm</th>\n",
       "      <th>credit_card_drawings_total</th>\n",
       "    </tr>\n",
       "  </thead>\n",
       "  <tbody>\n",
       "    <tr>\n",
       "      <th>0</th>\n",
       "      <td>378907</td>\n",
       "      <td>1</td>\n",
       "      <td>0.0</td>\n",
       "      <td>0.0</td>\n",
       "      <td>0.696487</td>\n",
       "      <td>0.127660</td>\n",
       "      <td>67500.0</td>\n",
       "      <td>124941.645</td>\n",
       "    </tr>\n",
       "    <tr>\n",
       "      <th>1</th>\n",
       "      <td>363914</td>\n",
       "      <td>1</td>\n",
       "      <td>94.0</td>\n",
       "      <td>94.0</td>\n",
       "      <td>0.202349</td>\n",
       "      <td>0.010417</td>\n",
       "      <td>293850.0</td>\n",
       "      <td>358313.670</td>\n",
       "    </tr>\n",
       "    <tr>\n",
       "      <th>2</th>\n",
       "      <td>371185</td>\n",
       "      <td>1</td>\n",
       "      <td>63.0</td>\n",
       "      <td>63.0</td>\n",
       "      <td>0.525000</td>\n",
       "      <td>0.000000</td>\n",
       "      <td>506250.0</td>\n",
       "      <td>699566.715</td>\n",
       "    </tr>\n",
       "    <tr>\n",
       "      <th>3</th>\n",
       "      <td>337855</td>\n",
       "      <td>1</td>\n",
       "      <td>0.0</td>\n",
       "      <td>0.0</td>\n",
       "      <td>0.000000</td>\n",
       "      <td>0.000000</td>\n",
       "      <td>50850.0</td>\n",
       "      <td>259850.835</td>\n",
       "    </tr>\n",
       "    <tr>\n",
       "      <th>4</th>\n",
       "      <td>126868</td>\n",
       "      <td>1</td>\n",
       "      <td>23.0</td>\n",
       "      <td>23.0</td>\n",
       "      <td>1.043303</td>\n",
       "      <td>0.010417</td>\n",
       "      <td>763650.0</td>\n",
       "      <td>1372493.385</td>\n",
       "    </tr>\n",
       "  </tbody>\n",
       "</table>\n",
       "</div>"
      ],
      "text/plain": [
       "   SK_ID_CURR  credit_card_number_of_loans  credit_card_total_instalments  \\\n",
       "0      378907                            1                            0.0   \n",
       "1      363914                            1                           94.0   \n",
       "2      371185                            1                           63.0   \n",
       "3      337855                            1                            0.0   \n",
       "4      126868                            1                           23.0   \n",
       "\n",
       "   credit_card_installments_per_loan  credit_card_avg_loading_of_credit_limit  \\\n",
       "0                                0.0                                 0.696487   \n",
       "1                               94.0                                 0.202349   \n",
       "2                               63.0                                 0.525000   \n",
       "3                                0.0                                 0.000000   \n",
       "4                               23.0                                 1.043303   \n",
       "\n",
       "   credit_card_average_of_days_past_due  credit_card_drawings_atm  \\\n",
       "0                              0.127660                   67500.0   \n",
       "1                              0.010417                  293850.0   \n",
       "2                              0.000000                  506250.0   \n",
       "3                              0.000000                   50850.0   \n",
       "4                              0.010417                  763650.0   \n",
       "\n",
       "   credit_card_drawings_total  \n",
       "0                  124941.645  \n",
       "1                  358313.670  \n",
       "2                  699566.715  \n",
       "3                  259850.835  \n",
       "4                 1372493.385  "
      ]
     },
     "execution_count": 51,
     "metadata": {},
     "output_type": "execute_result"
    }
   ],
   "source": [
    "group_object = credit_card.groupby(by=['SK_ID_CURR'])['AMT_DRAWINGS_CURRENT'].agg('sum').reset_index()\n",
    "group_object.rename(index=str, columns={'AMT_DRAWINGS_CURRENT': 'credit_card_drawings_total'},inplace=True)\n",
    "\n",
    "features = features.merge(group_object, on=['SK_ID_CURR'], how='left')\n",
    "features.head()"
   ]
  },
  {
   "cell_type": "code",
   "execution_count": 52,
   "metadata": {
    "collapsed": false
   },
   "outputs": [
    {
     "data": {
      "text/html": [
       "<div>\n",
       "<table border=\"1\" class=\"dataframe\">\n",
       "  <thead>\n",
       "    <tr style=\"text-align: right;\">\n",
       "      <th></th>\n",
       "      <th>SK_ID_CURR</th>\n",
       "      <th>credit_card_number_of_loans</th>\n",
       "      <th>credit_card_total_instalments</th>\n",
       "      <th>credit_card_installments_per_loan</th>\n",
       "      <th>credit_card_avg_loading_of_credit_limit</th>\n",
       "      <th>credit_card_average_of_days_past_due</th>\n",
       "      <th>credit_card_drawings_atm</th>\n",
       "      <th>credit_card_drawings_total</th>\n",
       "      <th>credit_card_cash_card_ratio</th>\n",
       "    </tr>\n",
       "  </thead>\n",
       "  <tbody>\n",
       "    <tr>\n",
       "      <th>0</th>\n",
       "      <td>378907</td>\n",
       "      <td>1</td>\n",
       "      <td>0.0</td>\n",
       "      <td>0.0</td>\n",
       "      <td>0.696487</td>\n",
       "      <td>0.127660</td>\n",
       "      <td>67500.0</td>\n",
       "      <td>124941.645</td>\n",
       "      <td>0.540252</td>\n",
       "    </tr>\n",
       "    <tr>\n",
       "      <th>1</th>\n",
       "      <td>363914</td>\n",
       "      <td>1</td>\n",
       "      <td>94.0</td>\n",
       "      <td>94.0</td>\n",
       "      <td>0.202349</td>\n",
       "      <td>0.010417</td>\n",
       "      <td>293850.0</td>\n",
       "      <td>358313.670</td>\n",
       "      <td>0.820092</td>\n",
       "    </tr>\n",
       "    <tr>\n",
       "      <th>2</th>\n",
       "      <td>371185</td>\n",
       "      <td>1</td>\n",
       "      <td>63.0</td>\n",
       "      <td>63.0</td>\n",
       "      <td>0.525000</td>\n",
       "      <td>0.000000</td>\n",
       "      <td>506250.0</td>\n",
       "      <td>699566.715</td>\n",
       "      <td>0.723662</td>\n",
       "    </tr>\n",
       "    <tr>\n",
       "      <th>3</th>\n",
       "      <td>337855</td>\n",
       "      <td>1</td>\n",
       "      <td>0.0</td>\n",
       "      <td>0.0</td>\n",
       "      <td>0.000000</td>\n",
       "      <td>0.000000</td>\n",
       "      <td>50850.0</td>\n",
       "      <td>259850.835</td>\n",
       "      <td>0.195689</td>\n",
       "    </tr>\n",
       "    <tr>\n",
       "      <th>4</th>\n",
       "      <td>126868</td>\n",
       "      <td>1</td>\n",
       "      <td>23.0</td>\n",
       "      <td>23.0</td>\n",
       "      <td>1.043303</td>\n",
       "      <td>0.010417</td>\n",
       "      <td>763650.0</td>\n",
       "      <td>1372493.385</td>\n",
       "      <td>0.556396</td>\n",
       "    </tr>\n",
       "  </tbody>\n",
       "</table>\n",
       "</div>"
      ],
      "text/plain": [
       "   SK_ID_CURR  credit_card_number_of_loans  credit_card_total_instalments  \\\n",
       "0      378907                            1                            0.0   \n",
       "1      363914                            1                           94.0   \n",
       "2      371185                            1                           63.0   \n",
       "3      337855                            1                            0.0   \n",
       "4      126868                            1                           23.0   \n",
       "\n",
       "   credit_card_installments_per_loan  credit_card_avg_loading_of_credit_limit  \\\n",
       "0                                0.0                                 0.696487   \n",
       "1                               94.0                                 0.202349   \n",
       "2                               63.0                                 0.525000   \n",
       "3                                0.0                                 0.000000   \n",
       "4                               23.0                                 1.043303   \n",
       "\n",
       "   credit_card_average_of_days_past_due  credit_card_drawings_atm  \\\n",
       "0                              0.127660                   67500.0   \n",
       "1                              0.010417                  293850.0   \n",
       "2                              0.000000                  506250.0   \n",
       "3                              0.000000                   50850.0   \n",
       "4                              0.010417                  763650.0   \n",
       "\n",
       "   credit_card_drawings_total  credit_card_cash_card_ratio  \n",
       "0                  124941.645                     0.540252  \n",
       "1                  358313.670                     0.820092  \n",
       "2                  699566.715                     0.723662  \n",
       "3                  259850.835                     0.195689  \n",
       "4                 1372493.385                     0.556396  "
      ]
     },
     "execution_count": 52,
     "metadata": {},
     "output_type": "execute_result"
    }
   ],
   "source": [
    "features['credit_card_cash_card_ratio'] = features['credit_card_drawings_atm'] / features['credit_card_drawings_total']\n",
    "\n",
    "features.head()"
   ]
  },
  {
   "cell_type": "code",
   "execution_count": 53,
   "metadata": {
    "collapsed": false
   },
   "outputs": [],
   "source": [
    "df = df.merge(features,\n",
    "              left_on=['SK_ID_CURR'],\n",
    "               right_on=['SK_ID_CURR'],\n",
    "              how='left')"
   ]
  },
  {
   "cell_type": "code",
   "execution_count": 265,
   "metadata": {
    "collapsed": false
   },
   "outputs": [],
   "source": [
    "engineered_numerical_columns  = list(features.columns)\n",
    "engineered_numerical_columns.remove('SK_ID_CURR')\n",
    "credit_eng = df[engineered_numerical_columns + ['TARGET']]\n",
    "credit_eng_corr = abs(credit_eng.corr())"
   ]
  },
  {
   "cell_type": "code",
   "execution_count": 266,
   "metadata": {
    "collapsed": false
   },
   "outputs": [
    {
     "data": {
      "text/plain": [
       "TARGET                                     1.000000\n",
       "credit_card_drawings_total                 0.023680\n",
       "credit_card_drawings_atm                   0.009770\n",
       "credit_card_installments_per_loan          0.006356\n",
       "credit_card_total_instalments              0.005746\n",
       "credit_card_number_of_loans                0.004388\n",
       "credit_card_average_of_days_past_due       0.003195\n",
       "credit_card_avg_loading_of_credit_limit    0.002944\n",
       "credit_card_cash_card_ratio                0.002414\n",
       "Name: TARGET, dtype: float64"
      ]
     },
     "execution_count": 266,
     "metadata": {},
     "output_type": "execute_result"
    }
   ],
   "source": [
    "credit_eng_corr.sort_values('TARGET', ascending=False)['TARGET']"
   ]
  },
  {
   "cell_type": "code",
   "execution_count": 54,
   "metadata": {
    "collapsed": false
   },
   "outputs": [
    {
     "data": {
      "text/plain": [
       "(356255, 336)"
      ]
     },
     "execution_count": 54,
     "metadata": {},
     "output_type": "execute_result"
    }
   ],
   "source": [
    "df.shape"
   ]
  },
  {
   "cell_type": "code",
   "execution_count": 56,
   "metadata": {
    "collapsed": false
   },
   "outputs": [
    {
     "data": {
      "text/plain": [
       "204"
      ]
     },
     "execution_count": 56,
     "metadata": {},
     "output_type": "execute_result"
    }
   ],
   "source": [
    "del features,group_object\n",
    "gc.collect()"
   ]
  },
  {
   "cell_type": "code",
   "execution_count": 57,
   "metadata": {
    "collapsed": true
   },
   "outputs": [],
   "source": [
    "CREDIT_CARD_BALANCE_AGGREGATION_RECIPIES = []\n",
    "for agg in ['mean', 'min', 'max', 'sum', 'var']:\n",
    "    for select in ['AMT_BALANCE',\n",
    "                   'AMT_CREDIT_LIMIT_ACTUAL',\n",
    "                   'AMT_DRAWINGS_ATM_CURRENT',\n",
    "                   'AMT_DRAWINGS_CURRENT',\n",
    "                   'AMT_DRAWINGS_OTHER_CURRENT',\n",
    "                   'AMT_DRAWINGS_POS_CURRENT',\n",
    "                   'AMT_PAYMENT_CURRENT',\n",
    "                   'CNT_DRAWINGS_ATM_CURRENT',\n",
    "                   'CNT_DRAWINGS_CURRENT',\n",
    "                   'CNT_DRAWINGS_OTHER_CURRENT',\n",
    "                   'CNT_INSTALMENT_MATURE_CUM',\n",
    "                   'MONTHS_BALANCE',\n",
    "                   'SK_DPD',\n",
    "                   'SK_DPD_DEF'\n",
    "                   ]:\n",
    "        CREDIT_CARD_BALANCE_AGGREGATION_RECIPIES.append((select, agg))\n",
    "CREDIT_CARD_BALANCE_AGGREGATION_RECIPIES = [(['SK_ID_CURR'], CREDIT_CARD_BALANCE_AGGREGATION_RECIPIES)]"
   ]
  },
  {
   "cell_type": "code",
   "execution_count": 269,
   "metadata": {
    "collapsed": false
   },
   "outputs": [
    {
     "data": {
      "text/plain": [
       "[(['SK_ID_CURR'],\n",
       "  [('AMT_BALANCE', 'mean'),\n",
       "   ('AMT_CREDIT_LIMIT_ACTUAL', 'mean'),\n",
       "   ('AMT_DRAWINGS_ATM_CURRENT', 'mean'),\n",
       "   ('AMT_DRAWINGS_CURRENT', 'mean'),\n",
       "   ('AMT_DRAWINGS_OTHER_CURRENT', 'mean'),\n",
       "   ('AMT_DRAWINGS_POS_CURRENT', 'mean'),\n",
       "   ('AMT_PAYMENT_CURRENT', 'mean'),\n",
       "   ('CNT_DRAWINGS_ATM_CURRENT', 'mean'),\n",
       "   ('CNT_DRAWINGS_CURRENT', 'mean'),\n",
       "   ('CNT_DRAWINGS_OTHER_CURRENT', 'mean'),\n",
       "   ('CNT_INSTALMENT_MATURE_CUM', 'mean'),\n",
       "   ('MONTHS_BALANCE', 'mean'),\n",
       "   ('SK_DPD', 'mean'),\n",
       "   ('SK_DPD_DEF', 'mean'),\n",
       "   ('AMT_BALANCE', 'min'),\n",
       "   ('AMT_CREDIT_LIMIT_ACTUAL', 'min'),\n",
       "   ('AMT_DRAWINGS_ATM_CURRENT', 'min'),\n",
       "   ('AMT_DRAWINGS_CURRENT', 'min'),\n",
       "   ('AMT_DRAWINGS_OTHER_CURRENT', 'min'),\n",
       "   ('AMT_DRAWINGS_POS_CURRENT', 'min'),\n",
       "   ('AMT_PAYMENT_CURRENT', 'min'),\n",
       "   ('CNT_DRAWINGS_ATM_CURRENT', 'min'),\n",
       "   ('CNT_DRAWINGS_CURRENT', 'min'),\n",
       "   ('CNT_DRAWINGS_OTHER_CURRENT', 'min'),\n",
       "   ('CNT_INSTALMENT_MATURE_CUM', 'min'),\n",
       "   ('MONTHS_BALANCE', 'min'),\n",
       "   ('SK_DPD', 'min'),\n",
       "   ('SK_DPD_DEF', 'min'),\n",
       "   ('AMT_BALANCE', 'max'),\n",
       "   ('AMT_CREDIT_LIMIT_ACTUAL', 'max'),\n",
       "   ('AMT_DRAWINGS_ATM_CURRENT', 'max'),\n",
       "   ('AMT_DRAWINGS_CURRENT', 'max'),\n",
       "   ('AMT_DRAWINGS_OTHER_CURRENT', 'max'),\n",
       "   ('AMT_DRAWINGS_POS_CURRENT', 'max'),\n",
       "   ('AMT_PAYMENT_CURRENT', 'max'),\n",
       "   ('CNT_DRAWINGS_ATM_CURRENT', 'max'),\n",
       "   ('CNT_DRAWINGS_CURRENT', 'max'),\n",
       "   ('CNT_DRAWINGS_OTHER_CURRENT', 'max'),\n",
       "   ('CNT_INSTALMENT_MATURE_CUM', 'max'),\n",
       "   ('MONTHS_BALANCE', 'max'),\n",
       "   ('SK_DPD', 'max'),\n",
       "   ('SK_DPD_DEF', 'max'),\n",
       "   ('AMT_BALANCE', 'sum'),\n",
       "   ('AMT_CREDIT_LIMIT_ACTUAL', 'sum'),\n",
       "   ('AMT_DRAWINGS_ATM_CURRENT', 'sum'),\n",
       "   ('AMT_DRAWINGS_CURRENT', 'sum'),\n",
       "   ('AMT_DRAWINGS_OTHER_CURRENT', 'sum'),\n",
       "   ('AMT_DRAWINGS_POS_CURRENT', 'sum'),\n",
       "   ('AMT_PAYMENT_CURRENT', 'sum'),\n",
       "   ('CNT_DRAWINGS_ATM_CURRENT', 'sum'),\n",
       "   ('CNT_DRAWINGS_CURRENT', 'sum'),\n",
       "   ('CNT_DRAWINGS_OTHER_CURRENT', 'sum'),\n",
       "   ('CNT_INSTALMENT_MATURE_CUM', 'sum'),\n",
       "   ('MONTHS_BALANCE', 'sum'),\n",
       "   ('SK_DPD', 'sum'),\n",
       "   ('SK_DPD_DEF', 'sum'),\n",
       "   ('AMT_BALANCE', 'var'),\n",
       "   ('AMT_CREDIT_LIMIT_ACTUAL', 'var'),\n",
       "   ('AMT_DRAWINGS_ATM_CURRENT', 'var'),\n",
       "   ('AMT_DRAWINGS_CURRENT', 'var'),\n",
       "   ('AMT_DRAWINGS_OTHER_CURRENT', 'var'),\n",
       "   ('AMT_DRAWINGS_POS_CURRENT', 'var'),\n",
       "   ('AMT_PAYMENT_CURRENT', 'var'),\n",
       "   ('CNT_DRAWINGS_ATM_CURRENT', 'var'),\n",
       "   ('CNT_DRAWINGS_CURRENT', 'var'),\n",
       "   ('CNT_DRAWINGS_OTHER_CURRENT', 'var'),\n",
       "   ('CNT_INSTALMENT_MATURE_CUM', 'var'),\n",
       "   ('MONTHS_BALANCE', 'var'),\n",
       "   ('SK_DPD', 'var'),\n",
       "   ('SK_DPD_DEF', 'var')])]"
      ]
     },
     "execution_count": 269,
     "metadata": {},
     "output_type": "execute_result"
    }
   ],
   "source": [
    "CREDIT_CARD_BALANCE_AGGREGATION_RECIPIES"
   ]
  },
  {
   "cell_type": "code",
   "execution_count": 58,
   "metadata": {
    "collapsed": false
   },
   "outputs": [
    {
     "name": "stdout",
     "output_type": "stream",
     "text": [
      "\n"
     ]
    }
   ],
   "source": [
    "groupby_aggregate_names= []\n",
    "for groupby_cols, specs in tqdm(CREDIT_CARD_BALANCE_AGGREGATION_RECIPIES):\n",
    "    group_object = credit_card.groupby(groupby_cols)\n",
    "    for select, agg in tqdm(specs):\n",
    "        groupby_aggregate_name = '{}_{}_{}'.format('_'.join(groupby_cols), agg, select)\n",
    "        df = df.merge(group_object[select]\n",
    "                              .agg(agg)\n",
    "                              .reset_index()\n",
    "                              .rename(index=str,\n",
    "                                      columns={select: groupby_aggregate_name})\n",
    "                              [groupby_cols + [groupby_aggregate_name]],\n",
    "                              on=groupby_cols,\n",
    "                              how='left')\n",
    "        groupby_aggregate_names.append(groupby_aggregate_name)"
   ]
  },
  {
   "cell_type": "code",
   "execution_count": 59,
   "metadata": {
    "collapsed": false
   },
   "outputs": [
    {
     "data": {
      "text/plain": [
       "(356255, 406)"
      ]
     },
     "execution_count": 59,
     "metadata": {},
     "output_type": "execute_result"
    }
   ],
   "source": [
    "df.shape"
   ]
  },
  {
   "cell_type": "code",
   "execution_count": 272,
   "metadata": {
    "collapsed": true
   },
   "outputs": [],
   "source": [
    "application_agg = df[groupby_aggregate_names + ['TARGET']]\n",
    "application_agg_corr = abs(application_agg.corr())"
   ]
  },
  {
   "cell_type": "code",
   "execution_count": 273,
   "metadata": {
    "collapsed": false
   },
   "outputs": [
    {
     "data": {
      "text/plain": [
       "TARGET                                        1.000000\n",
       "SK_ID_CURR_mean_CNT_DRAWINGS_ATM_CURRENT      0.107692\n",
       "SK_ID_CURR_max_CNT_DRAWINGS_CURRENT           0.101389\n",
       "SK_ID_CURR_mean_AMT_BALANCE                   0.087177\n",
       "SK_ID_CURR_mean_CNT_DRAWINGS_CURRENT          0.082520\n",
       "SK_ID_CURR_max_AMT_BALANCE                    0.068798\n",
       "SK_ID_CURR_min_AMT_BALANCE                    0.064163\n",
       "SK_ID_CURR_max_CNT_DRAWINGS_ATM_CURRENT       0.063729\n",
       "SK_ID_CURR_var_CNT_DRAWINGS_CURRENT           0.062892\n",
       "SK_ID_CURR_mean_MONTHS_BALANCE                0.062081\n",
       "SK_ID_CURR_min_MONTHS_BALANCE                 0.061359\n",
       "SK_ID_CURR_var_CNT_DRAWINGS_ATM_CURRENT       0.061123\n",
       "SK_ID_CURR_mean_AMT_DRAWINGS_ATM_CURRENT      0.059925\n",
       "SK_ID_CURR_sum_MONTHS_BALANCE                 0.059051\n",
       "SK_ID_CURR_var_MONTHS_BALANCE                 0.058817\n",
       "SK_ID_CURR_mean_AMT_DRAWINGS_CURRENT          0.058732\n",
       "SK_ID_CURR_max_AMT_DRAWINGS_CURRENT           0.052318\n",
       "SK_ID_CURR_sum_CNT_DRAWINGS_CURRENT           0.050685\n",
       "SK_ID_CURR_sum_AMT_CREDIT_LIMIT_ACTUAL        0.045460\n",
       "SK_ID_CURR_sum_AMT_PAYMENT_CURRENT            0.044492\n",
       "SK_ID_CURR_sum_CNT_INSTALMENT_MATURE_CUM      0.042363\n",
       "SK_ID_CURR_var_AMT_BALANCE                    0.039218\n",
       "SK_ID_CURR_min_CNT_INSTALMENT_MATURE_CUM      0.031873\n",
       "SK_ID_CURR_mean_CNT_INSTALMENT_MATURE_CUM     0.028917\n",
       "SK_ID_CURR_var_CNT_INSTALMENT_MATURE_CUM      0.025260\n",
       "SK_ID_CURR_max_MONTHS_BALANCE                 0.025251\n",
       "SK_ID_CURR_min_CNT_DRAWINGS_CURRENT           0.024957\n",
       "SK_ID_CURR_max_AMT_DRAWINGS_ATM_CURRENT       0.024087\n",
       "SK_ID_CURR_sum_AMT_DRAWINGS_CURRENT           0.023680\n",
       "SK_ID_CURR_sum_CNT_DRAWINGS_ATM_CURRENT       0.023646\n",
       "                                                ...   \n",
       "SK_ID_CURR_min_AMT_DRAWINGS_CURRENT           0.010935\n",
       "SK_ID_CURR_var_AMT_DRAWINGS_POS_CURRENT       0.010298\n",
       "SK_ID_CURR_mean_AMT_DRAWINGS_OTHER_CURRENT    0.009798\n",
       "SK_ID_CURR_sum_AMT_DRAWINGS_ATM_CURRENT       0.009770\n",
       "SK_ID_CURR_max_AMT_DRAWINGS_POS_CURRENT       0.009217\n",
       "SK_ID_CURR_sum_CNT_DRAWINGS_OTHER_CURRENT     0.008942\n",
       "SK_ID_CURR_mean_AMT_CREDIT_LIMIT_ACTUAL       0.008852\n",
       "SK_ID_CURR_var_AMT_PAYMENT_CURRENT            0.007640\n",
       "SK_ID_CURR_var_AMT_CREDIT_LIMIT_ACTUAL        0.007619\n",
       "SK_ID_CURR_max_SK_DPD_DEF                     0.007089\n",
       "SK_ID_CURR_sum_SK_DPD_DEF                     0.006972\n",
       "SK_ID_CURR_var_SK_DPD_DEF                     0.006957\n",
       "SK_ID_CURR_mean_SK_DPD_DEF                    0.006660\n",
       "SK_ID_CURR_max_SK_DPD                         0.005975\n",
       "SK_ID_CURR_mean_AMT_PAYMENT_CURRENT           0.005274\n",
       "SK_ID_CURR_min_AMT_DRAWINGS_POS_CURRENT       0.004955\n",
       "SK_ID_CURR_mean_AMT_DRAWINGS_POS_CURRENT      0.004017\n",
       "SK_ID_CURR_max_AMT_DRAWINGS_OTHER_CURRENT     0.004003\n",
       "SK_ID_CURR_sum_SK_DPD                         0.003566\n",
       "SK_ID_CURR_var_SK_DPD                         0.003396\n",
       "SK_ID_CURR_var_AMT_DRAWINGS_OTHER_CURRENT     0.003360\n",
       "SK_ID_CURR_mean_SK_DPD                        0.003195\n",
       "SK_ID_CURR_min_CNT_DRAWINGS_OTHER_CURRENT     0.002867\n",
       "SK_ID_CURR_min_AMT_DRAWINGS_OTHER_CURRENT     0.002700\n",
       "SK_ID_CURR_min_AMT_CREDIT_LIMIT_ACTUAL        0.001352\n",
       "SK_ID_CURR_sum_AMT_DRAWINGS_OTHER_CURRENT     0.000876\n",
       "SK_ID_CURR_max_AMT_PAYMENT_CURRENT            0.000438\n",
       "SK_ID_CURR_max_CNT_DRAWINGS_OTHER_CURRENT     0.000008\n",
       "SK_ID_CURR_min_SK_DPD                              NaN\n",
       "SK_ID_CURR_min_SK_DPD_DEF                          NaN\n",
       "Name: TARGET, dtype: float64"
      ]
     },
     "execution_count": 273,
     "metadata": {},
     "output_type": "execute_result"
    }
   ],
   "source": [
    "application_agg_corr.sort_values('TARGET', ascending=False)['TARGET']"
   ]
  },
  {
   "cell_type": "code",
   "execution_count": 60,
   "metadata": {
    "collapsed": true
   },
   "outputs": [],
   "source": [
    "installments = pd.read_csv('installments_payments.csv')"
   ]
  },
  {
   "cell_type": "code",
   "execution_count": 61,
   "metadata": {
    "collapsed": true
   },
   "outputs": [],
   "source": [
    "INSTALLMENTS_PAYMENTS_AGGREGATION_RECIPIES = []\n",
    "for agg in ['mean', 'min', 'max', 'sum', 'var']:\n",
    "    for select in ['AMT_INSTALMENT',\n",
    "                   'AMT_PAYMENT',\n",
    "                   'DAYS_ENTRY_PAYMENT',\n",
    "                   'DAYS_INSTALMENT',\n",
    "                   'NUM_INSTALMENT_NUMBER',\n",
    "                   'NUM_INSTALMENT_VERSION'\n",
    "                   ]:\n",
    "        INSTALLMENTS_PAYMENTS_AGGREGATION_RECIPIES.append((select, agg))\n",
    "INSTALLMENTS_PAYMENTS_AGGREGATION_RECIPIES = [(['SK_ID_CURR'], INSTALLMENTS_PAYMENTS_AGGREGATION_RECIPIES)]"
   ]
  },
  {
   "cell_type": "code",
   "execution_count": 62,
   "metadata": {
    "collapsed": false
   },
   "outputs": [
    {
     "name": "stdout",
     "output_type": "stream",
     "text": [
      "\n"
     ]
    }
   ],
   "source": [
    "groupby_aggregate_names = []\n",
    "for groupby_cols, specs in tqdm(INSTALLMENTS_PAYMENTS_AGGREGATION_RECIPIES):\n",
    "    group_object = installments.groupby(groupby_cols)\n",
    "    for select, agg in tqdm(specs):\n",
    "        groupby_aggregate_name = '{}_{}_{}'.format('_'.join(groupby_cols), agg, select)\n",
    "        df = df.merge(group_object[select]\n",
    "                              .agg(agg)\n",
    "                              .reset_index()\n",
    "                              .rename(index=str,\n",
    "                                      columns={select: groupby_aggregate_name})\n",
    "                              [groupby_cols + [groupby_aggregate_name]],\n",
    "                              on=groupby_cols,\n",
    "                              how='left')\n",
    "        groupby_aggregate_names.append(groupby_aggregate_name)"
   ]
  },
  {
   "cell_type": "code",
   "execution_count": 63,
   "metadata": {
    "collapsed": false
   },
   "outputs": [
    {
     "data": {
      "text/plain": [
       "(356255, 436)"
      ]
     },
     "execution_count": 63,
     "metadata": {},
     "output_type": "execute_result"
    }
   ],
   "source": [
    "df.shape"
   ]
  },
  {
   "cell_type": "code",
   "execution_count": 278,
   "metadata": {
    "collapsed": true
   },
   "outputs": [],
   "source": [
    "application_agg = df[groupby_aggregate_names + ['TARGET']]\n",
    "application_agg_corr = abs(application_agg.corr())"
   ]
  },
  {
   "cell_type": "code",
   "execution_count": 279,
   "metadata": {
    "collapsed": false
   },
   "outputs": [
    {
     "data": {
      "text/plain": [
       "TARGET                                    1.000000\n",
       "SK_ID_CURR_min_DAYS_ENTRY_PAYMENT         0.058794\n",
       "SK_ID_CURR_min_DAYS_INSTALMENT            0.058648\n",
       "SK_ID_CURR_var_DAYS_INSTALMENT            0.052273\n",
       "SK_ID_CURR_var_DAYS_ENTRY_PAYMENT         0.052071\n",
       "SK_ID_CURR_mean_DAYS_ENTRY_PAYMENT        0.043992\n",
       "SK_ID_CURR_mean_DAYS_INSTALMENT           0.043509\n",
       "SK_ID_CURR_sum_DAYS_ENTRY_PAYMENT         0.035225\n",
       "SK_ID_CURR_sum_DAYS_INSTALMENT            0.035064\n",
       "SK_ID_CURR_min_NUM_INSTALMENT_VERSION     0.032039\n",
       "SK_ID_CURR_sum_NUM_INSTALMENT_VERSION     0.030063\n",
       "SK_ID_CURR_mean_NUM_INSTALMENT_VERSION    0.027323\n",
       "SK_ID_CURR_min_AMT_PAYMENT                0.025724\n",
       "SK_ID_CURR_sum_AMT_PAYMENT                0.024373\n",
       "SK_ID_CURR_mean_AMT_PAYMENT               0.023169\n",
       "SK_ID_CURR_min_AMT_INSTALMENT             0.020257\n",
       "SK_ID_CURR_sum_AMT_INSTALMENT             0.019811\n",
       "SK_ID_CURR_max_NUM_INSTALMENT_VERSION     0.018611\n",
       "SK_ID_CURR_mean_AMT_INSTALMENT            0.018409\n",
       "SK_ID_CURR_sum_NUM_INSTALMENT_NUMBER      0.017441\n",
       "SK_ID_CURR_var_NUM_INSTALMENT_VERSION     0.011427\n",
       "SK_ID_CURR_mean_NUM_INSTALMENT_NUMBER     0.009537\n",
       "SK_ID_CURR_max_NUM_INSTALMENT_NUMBER      0.006304\n",
       "SK_ID_CURR_var_AMT_PAYMENT                0.003841\n",
       "SK_ID_CURR_max_DAYS_INSTALMENT            0.003231\n",
       "SK_ID_CURR_min_NUM_INSTALMENT_NUMBER      0.002334\n",
       "SK_ID_CURR_max_AMT_INSTALMENT             0.002324\n",
       "SK_ID_CURR_max_DAYS_ENTRY_PAYMENT         0.002298\n",
       "SK_ID_CURR_var_AMT_INSTALMENT             0.002151\n",
       "SK_ID_CURR_max_AMT_PAYMENT                0.001554\n",
       "SK_ID_CURR_var_NUM_INSTALMENT_NUMBER      0.001040\n",
       "Name: TARGET, dtype: float64"
      ]
     },
     "execution_count": 279,
     "metadata": {},
     "output_type": "execute_result"
    }
   ],
   "source": [
    "application_agg_corr.sort_values('TARGET', ascending=False)['TARGET']"
   ]
  },
  {
   "cell_type": "code",
   "execution_count": 64,
   "metadata": {
    "collapsed": false
   },
   "outputs": [],
   "source": [
    "installments['instalment_paid_late_in_days'] = installments['DAYS_ENTRY_PAYMENT'] - installments['DAYS_INSTALMENT'] \n",
    "installments['instalment_paid_late'] = (installments['instalment_paid_late_in_days'] > 0).astype(int)\n",
    "installments['instalment_paid_over_amount'] = installments['AMT_PAYMENT'] - installments['AMT_INSTALMENT']\n",
    "installments['instalment_paid_over'] = (installments['instalment_paid_over_amount'] > 0).astype(int)"
   ]
  },
  {
   "cell_type": "code",
   "execution_count": 65,
   "metadata": {
    "collapsed": true
   },
   "outputs": [],
   "source": [
    "def add_features(feature_name, aggs, features, feature_names, groupby):\n",
    "    feature_names.extend(['{}_{}'.format(feature_name, agg) for agg in aggs])\n",
    "\n",
    "    for agg in aggs:\n",
    "        if agg == 'kurt':\n",
    "            agg_func = kurtosis\n",
    "        elif agg == 'iqr':\n",
    "            agg_func = iqr\n",
    "        else:\n",
    "            agg_func = agg\n",
    "        \n",
    "        g = groupby[feature_name].agg(agg_func).reset_index().rename(index=str,\n",
    "                                                                columns={feature_name: '{}_{}'.format(feature_name,\n",
    "                                                                                                      agg)})\n",
    "        features = features.merge(g, on='SK_ID_CURR', how='left')\n",
    "    return features, feature_names"
   ]
  },
  {
   "cell_type": "code",
   "execution_count": 88,
   "metadata": {
    "collapsed": false
   },
   "outputs": [],
   "source": [
    "features = pd.DataFrame({'SK_ID_CURR':installments['SK_ID_CURR'].unique()})\n",
    "groupby = installments.groupby(['SK_ID_CURR'])"
   ]
  },
  {
   "cell_type": "code",
   "execution_count": 89,
   "metadata": {
    "collapsed": false
   },
   "outputs": [],
   "source": [
    "feature_names = []\n",
    "\n",
    "features, feature_names = add_features('NUM_INSTALMENT_VERSION', \n",
    "                                       ['sum','mean','max','min','std', 'median','skew', 'kurt','iqr'],\n",
    "                                     features, feature_names, groupby)"
   ]
  },
  {
   "cell_type": "code",
   "execution_count": 90,
   "metadata": {
    "collapsed": false
   },
   "outputs": [],
   "source": [
    "features, feature_names = add_features('instalment_paid_late_in_days', \n",
    "                                       ['sum','mean','max','min','std', 'median','skew', 'kurt','iqr'],\n",
    "                                     features, feature_names, groupby)\n",
    "\n",
    "features, feature_names = add_features('instalment_paid_late', ['sum','mean'],\n",
    "                                     features, feature_names, groupby)\n",
    "\n",
    "features, feature_names = add_features('instalment_paid_over_amount', \n",
    "                                       ['sum','mean','max','min','std', 'median','skew', 'kurt','iqr'],\n",
    "                                     features, feature_names, groupby)\n",
    "\n",
    "features, feature_names = add_features('instalment_paid_over', ['sum','mean'],\n",
    "                                     features, feature_names, groupby)"
   ]
  },
  {
   "cell_type": "code",
   "execution_count": 91,
   "metadata": {
    "collapsed": false
   },
   "outputs": [
    {
     "data": {
      "text/plain": [
       "(339587, 32)"
      ]
     },
     "execution_count": 91,
     "metadata": {},
     "output_type": "execute_result"
    }
   ],
   "source": [
    "features.shape"
   ]
  },
  {
   "cell_type": "code",
   "execution_count": 75,
   "metadata": {
    "collapsed": true
   },
   "outputs": [],
   "source": [
    "def add_features_in_group(features, gr_, feature_name, aggs, prefix):\n",
    "    for agg in aggs:\n",
    "        if agg == 'sum':\n",
    "            features['{}{}_sum'.format(prefix, feature_name)] = gr_[feature_name].sum()\n",
    "        elif agg == 'mean':\n",
    "            features['{}{}_mean'.format(prefix, feature_name)] = gr_[feature_name].mean()\n",
    "        elif agg == 'max':\n",
    "            features['{}{}_max'.format(prefix, feature_name)] = gr_[feature_name].max()\n",
    "        elif agg == 'min':\n",
    "            features['{}{}_min'.format(prefix, feature_name)] = gr_[feature_name].min()\n",
    "        elif agg == 'std':\n",
    "            features['{}{}_std'.format(prefix, feature_name)] = gr_[feature_name].std()\n",
    "        elif agg == 'count':\n",
    "            features['{}{}_count'.format(prefix, feature_name)] = gr_[feature_name].count()\n",
    "        elif agg == 'skew':\n",
    "            features['{}{}_skew'.format(prefix, feature_name)] = skew(gr_[feature_name])\n",
    "        elif agg == 'kurt':\n",
    "            features['{}{}_kurt'.format(prefix, feature_name)] = kurtosis(gr_[feature_name])\n",
    "        elif agg == 'iqr':\n",
    "            features['{}{}_iqr'.format(prefix, feature_name)] = iqr(gr_[feature_name])\n",
    "        elif agg == 'median':\n",
    "            features['{}{}_median'.format(prefix, feature_name)] = gr_[feature_name].median()\n",
    "    return features"
   ]
  },
  {
   "cell_type": "code",
   "execution_count": 76,
   "metadata": {
    "collapsed": true
   },
   "outputs": [],
   "source": [
    "def last_k_instalment_features(gr, periods):\n",
    "    gr_ = gr.copy()\n",
    "    gr_.sort_values(['DAYS_INSTALMENT'],ascending=False, inplace=True)\n",
    "    \n",
    "    features = {}\n",
    "\n",
    "    for period in periods:\n",
    "        gr_period = gr_.iloc[:period]\n",
    "\n",
    "        features = add_features_in_group(features,gr_period, 'NUM_INSTALMENT_VERSION', \n",
    "                                       ['sum','mean','max','min','std', 'median','skew', 'kurt','iqr'],\n",
    "                                         'last_{}_'.format(period))\n",
    "        \n",
    "        features = add_features_in_group(features,gr_period, 'instalment_paid_late_in_days', \n",
    "                                       ['sum','mean','max','min','std', 'median','skew', 'kurt','iqr'],\n",
    "                                         'last_{}_'.format(period))\n",
    "        features = add_features_in_group(features,gr_period ,'instalment_paid_late', \n",
    "                                     ['count','mean'],\n",
    "                                         'last_{}_'.format(period))\n",
    "        features = add_features_in_group(features,gr_period ,'instalment_paid_over_amount', \n",
    "                                       ['sum','mean','max','min','std', 'median','skew', 'kurt','iqr'],\n",
    "                                         'last_{}_'.format(period))\n",
    "        features = add_features_in_group(features,gr_period,'instalment_paid_over', \n",
    "                                     ['count','mean'],\n",
    "                                         'last_{}_'.format(period))        \n",
    "    \n",
    "    return features"
   ]
  },
  {
   "cell_type": "code",
   "execution_count": 345,
   "metadata": {
    "collapsed": false
   },
   "outputs": [
    {
     "data": {
      "text/plain": [
       "(13605401, 12)"
      ]
     },
     "execution_count": 345,
     "metadata": {},
     "output_type": "execute_result"
    }
   ],
   "source": [
    "installments.shape"
   ]
  },
  {
   "cell_type": "code",
   "execution_count": 77,
   "metadata": {
    "collapsed": false
   },
   "outputs": [],
   "source": [
    "import logging\n",
    "import os\n",
    "import random\n",
    "import sys\n",
    "import multiprocessing as mp\n",
    "from functools import reduce\n",
    "\n",
    "import glob\n",
    "import numpy as np\n",
    "import pandas as pd\n",
    "from tqdm import tqdm\n",
    "import yaml"
   ]
  },
  {
   "cell_type": "code",
   "execution_count": 78,
   "metadata": {
    "collapsed": false
   },
   "outputs": [],
   "source": [
    "def parallel_apply(groups, func, index_name='Index', num_workers=1, chunk_size=100000):\n",
    "    n_chunks = np.ceil(1.0 * groups.ngroups / chunk_size)\n",
    "    indeces, features = [], []\n",
    "    for index_chunk, groups_chunk in tqdm(chunk_groups(groups, chunk_size), total=n_chunks):\n",
    "        Pool= mp.pool.Pool(num_workers) \n",
    "        features_chunk = Pool.map(func, groups_chunk)\n",
    "        features.extend(features_chunk)\n",
    "        indeces.extend(index_chunk)\n",
    "        Pool.close()\n",
    "        Pool.join()\n",
    "\n",
    "    features = pd.DataFrame(features)\n",
    "    features.index = indeces\n",
    "    features.index.name = index_name\n",
    "    return features"
   ]
  },
  {
   "cell_type": "code",
   "execution_count": 79,
   "metadata": {
    "collapsed": true
   },
   "outputs": [],
   "source": [
    "import copy\n",
    "def chunk_groups(groupby_object, chunk_size):\n",
    "    n_groups = groupby_object.ngroups\n",
    "    group_chunk, index_chunk = [], []\n",
    "    for i, (index, df) in enumerate(groupby_object):\n",
    "        group_chunk.append(df)\n",
    "        index_chunk.append(index)\n",
    "\n",
    "        if (i + 1) % chunk_size == 0 or i + 1 == n_groups:\n",
    "            group_chunk_, index_chunk_ = copy.copy(group_chunk), copy.copy(index_chunk)\n",
    "            group_chunk, index_chunk = [], []\n",
    "            yield index_chunk_, group_chunk_"
   ]
  },
  {
   "cell_type": "code",
   "execution_count": 80,
   "metadata": {
    "collapsed": true
   },
   "outputs": [],
   "source": [
    "from functools import partial\n",
    "sys.path.append('../')"
   ]
  },
  {
   "cell_type": "code",
   "execution_count": 81,
   "metadata": {
    "collapsed": false
   },
   "outputs": [
    {
     "name": "stderr",
     "output_type": "stream",
     "text": [
      "100%|██████████| 34/34.0 [1:35:07<00:00, 167.87s/it]\n"
     ]
    }
   ],
   "source": [
    "func = partial(last_k_instalment_features, periods=[1,5,10,20,50,100])\n",
    "g = parallel_apply(groupby, func, index_name='SK_ID_CURR',num_workers=16, chunk_size=10000).reset_index()\n",
    "#features = features.merge(g, on='SK_ID_CURR', how='left')"
   ]
  },
  {
   "cell_type": "code",
   "execution_count": 82,
   "metadata": {
    "collapsed": false
   },
   "outputs": [
    {
     "data": {
      "text/html": [
       "<div>\n",
       "<table border=\"1\" class=\"dataframe\">\n",
       "  <thead>\n",
       "    <tr style=\"text-align: right;\">\n",
       "      <th></th>\n",
       "      <th>SK_ID_CURR</th>\n",
       "      <th>last_100_NUM_INSTALMENT_VERSION_iqr</th>\n",
       "      <th>last_100_NUM_INSTALMENT_VERSION_kurt</th>\n",
       "      <th>last_100_NUM_INSTALMENT_VERSION_max</th>\n",
       "      <th>last_100_NUM_INSTALMENT_VERSION_mean</th>\n",
       "      <th>last_100_NUM_INSTALMENT_VERSION_median</th>\n",
       "      <th>last_100_NUM_INSTALMENT_VERSION_min</th>\n",
       "      <th>last_100_NUM_INSTALMENT_VERSION_skew</th>\n",
       "      <th>last_100_NUM_INSTALMENT_VERSION_std</th>\n",
       "      <th>last_100_NUM_INSTALMENT_VERSION_sum</th>\n",
       "      <th>...</th>\n",
       "      <th>last_5_instalment_paid_over_amount_kurt</th>\n",
       "      <th>last_5_instalment_paid_over_amount_max</th>\n",
       "      <th>last_5_instalment_paid_over_amount_mean</th>\n",
       "      <th>last_5_instalment_paid_over_amount_median</th>\n",
       "      <th>last_5_instalment_paid_over_amount_min</th>\n",
       "      <th>last_5_instalment_paid_over_amount_skew</th>\n",
       "      <th>last_5_instalment_paid_over_amount_std</th>\n",
       "      <th>last_5_instalment_paid_over_amount_sum</th>\n",
       "      <th>last_5_instalment_paid_over_count</th>\n",
       "      <th>last_5_instalment_paid_over_mean</th>\n",
       "    </tr>\n",
       "  </thead>\n",
       "  <tbody>\n",
       "    <tr>\n",
       "      <th>0</th>\n",
       "      <td>100001</td>\n",
       "      <td>0.0</td>\n",
       "      <td>2.166667</td>\n",
       "      <td>2.0</td>\n",
       "      <td>1.142857</td>\n",
       "      <td>1.0</td>\n",
       "      <td>1.0</td>\n",
       "      <td>2.041241</td>\n",
       "      <td>0.377964</td>\n",
       "      <td>8.0</td>\n",
       "      <td>...</td>\n",
       "      <td>-3.0</td>\n",
       "      <td>0.0</td>\n",
       "      <td>0.0</td>\n",
       "      <td>0.0</td>\n",
       "      <td>0.0</td>\n",
       "      <td>0.0</td>\n",
       "      <td>0.0</td>\n",
       "      <td>0.0</td>\n",
       "      <td>5</td>\n",
       "      <td>0.0</td>\n",
       "    </tr>\n",
       "    <tr>\n",
       "      <th>1</th>\n",
       "      <td>100002</td>\n",
       "      <td>0.0</td>\n",
       "      <td>14.055556</td>\n",
       "      <td>2.0</td>\n",
       "      <td>1.052632</td>\n",
       "      <td>1.0</td>\n",
       "      <td>1.0</td>\n",
       "      <td>4.006938</td>\n",
       "      <td>0.229416</td>\n",
       "      <td>20.0</td>\n",
       "      <td>...</td>\n",
       "      <td>-3.0</td>\n",
       "      <td>0.0</td>\n",
       "      <td>0.0</td>\n",
       "      <td>0.0</td>\n",
       "      <td>0.0</td>\n",
       "      <td>0.0</td>\n",
       "      <td>0.0</td>\n",
       "      <td>0.0</td>\n",
       "      <td>5</td>\n",
       "      <td>0.0</td>\n",
       "    </tr>\n",
       "    <tr>\n",
       "      <th>2</th>\n",
       "      <td>100003</td>\n",
       "      <td>0.0</td>\n",
       "      <td>20.041667</td>\n",
       "      <td>2.0</td>\n",
       "      <td>1.040000</td>\n",
       "      <td>1.0</td>\n",
       "      <td>1.0</td>\n",
       "      <td>4.694855</td>\n",
       "      <td>0.200000</td>\n",
       "      <td>26.0</td>\n",
       "      <td>...</td>\n",
       "      <td>-3.0</td>\n",
       "      <td>0.0</td>\n",
       "      <td>0.0</td>\n",
       "      <td>0.0</td>\n",
       "      <td>0.0</td>\n",
       "      <td>0.0</td>\n",
       "      <td>0.0</td>\n",
       "      <td>0.0</td>\n",
       "      <td>5</td>\n",
       "      <td>0.0</td>\n",
       "    </tr>\n",
       "    <tr>\n",
       "      <th>3</th>\n",
       "      <td>100004</td>\n",
       "      <td>0.5</td>\n",
       "      <td>-1.500000</td>\n",
       "      <td>2.0</td>\n",
       "      <td>1.333333</td>\n",
       "      <td>1.0</td>\n",
       "      <td>1.0</td>\n",
       "      <td>0.707107</td>\n",
       "      <td>0.577350</td>\n",
       "      <td>4.0</td>\n",
       "      <td>...</td>\n",
       "      <td>-3.0</td>\n",
       "      <td>0.0</td>\n",
       "      <td>0.0</td>\n",
       "      <td>0.0</td>\n",
       "      <td>0.0</td>\n",
       "      <td>0.0</td>\n",
       "      <td>0.0</td>\n",
       "      <td>0.0</td>\n",
       "      <td>3</td>\n",
       "      <td>0.0</td>\n",
       "    </tr>\n",
       "    <tr>\n",
       "      <th>4</th>\n",
       "      <td>100005</td>\n",
       "      <td>0.0</td>\n",
       "      <td>4.125000</td>\n",
       "      <td>2.0</td>\n",
       "      <td>1.111111</td>\n",
       "      <td>1.0</td>\n",
       "      <td>1.0</td>\n",
       "      <td>2.474874</td>\n",
       "      <td>0.333333</td>\n",
       "      <td>10.0</td>\n",
       "      <td>...</td>\n",
       "      <td>-3.0</td>\n",
       "      <td>0.0</td>\n",
       "      <td>0.0</td>\n",
       "      <td>0.0</td>\n",
       "      <td>0.0</td>\n",
       "      <td>0.0</td>\n",
       "      <td>0.0</td>\n",
       "      <td>0.0</td>\n",
       "      <td>5</td>\n",
       "      <td>0.0</td>\n",
       "    </tr>\n",
       "  </tbody>\n",
       "</table>\n",
       "<p>5 rows × 187 columns</p>\n",
       "</div>"
      ],
      "text/plain": [
       "   SK_ID_CURR  last_100_NUM_INSTALMENT_VERSION_iqr  \\\n",
       "0      100001                                  0.0   \n",
       "1      100002                                  0.0   \n",
       "2      100003                                  0.0   \n",
       "3      100004                                  0.5   \n",
       "4      100005                                  0.0   \n",
       "\n",
       "   last_100_NUM_INSTALMENT_VERSION_kurt  last_100_NUM_INSTALMENT_VERSION_max  \\\n",
       "0                              2.166667                                  2.0   \n",
       "1                             14.055556                                  2.0   \n",
       "2                             20.041667                                  2.0   \n",
       "3                             -1.500000                                  2.0   \n",
       "4                              4.125000                                  2.0   \n",
       "\n",
       "   last_100_NUM_INSTALMENT_VERSION_mean  \\\n",
       "0                              1.142857   \n",
       "1                              1.052632   \n",
       "2                              1.040000   \n",
       "3                              1.333333   \n",
       "4                              1.111111   \n",
       "\n",
       "   last_100_NUM_INSTALMENT_VERSION_median  \\\n",
       "0                                     1.0   \n",
       "1                                     1.0   \n",
       "2                                     1.0   \n",
       "3                                     1.0   \n",
       "4                                     1.0   \n",
       "\n",
       "   last_100_NUM_INSTALMENT_VERSION_min  last_100_NUM_INSTALMENT_VERSION_skew  \\\n",
       "0                                  1.0                              2.041241   \n",
       "1                                  1.0                              4.006938   \n",
       "2                                  1.0                              4.694855   \n",
       "3                                  1.0                              0.707107   \n",
       "4                                  1.0                              2.474874   \n",
       "\n",
       "   last_100_NUM_INSTALMENT_VERSION_std  last_100_NUM_INSTALMENT_VERSION_sum  \\\n",
       "0                             0.377964                                  8.0   \n",
       "1                             0.229416                                 20.0   \n",
       "2                             0.200000                                 26.0   \n",
       "3                             0.577350                                  4.0   \n",
       "4                             0.333333                                 10.0   \n",
       "\n",
       "                 ...                 last_5_instalment_paid_over_amount_kurt  \\\n",
       "0                ...                                                    -3.0   \n",
       "1                ...                                                    -3.0   \n",
       "2                ...                                                    -3.0   \n",
       "3                ...                                                    -3.0   \n",
       "4                ...                                                    -3.0   \n",
       "\n",
       "   last_5_instalment_paid_over_amount_max  \\\n",
       "0                                     0.0   \n",
       "1                                     0.0   \n",
       "2                                     0.0   \n",
       "3                                     0.0   \n",
       "4                                     0.0   \n",
       "\n",
       "   last_5_instalment_paid_over_amount_mean  \\\n",
       "0                                      0.0   \n",
       "1                                      0.0   \n",
       "2                                      0.0   \n",
       "3                                      0.0   \n",
       "4                                      0.0   \n",
       "\n",
       "   last_5_instalment_paid_over_amount_median  \\\n",
       "0                                        0.0   \n",
       "1                                        0.0   \n",
       "2                                        0.0   \n",
       "3                                        0.0   \n",
       "4                                        0.0   \n",
       "\n",
       "   last_5_instalment_paid_over_amount_min  \\\n",
       "0                                     0.0   \n",
       "1                                     0.0   \n",
       "2                                     0.0   \n",
       "3                                     0.0   \n",
       "4                                     0.0   \n",
       "\n",
       "   last_5_instalment_paid_over_amount_skew  \\\n",
       "0                                      0.0   \n",
       "1                                      0.0   \n",
       "2                                      0.0   \n",
       "3                                      0.0   \n",
       "4                                      0.0   \n",
       "\n",
       "   last_5_instalment_paid_over_amount_std  \\\n",
       "0                                     0.0   \n",
       "1                                     0.0   \n",
       "2                                     0.0   \n",
       "3                                     0.0   \n",
       "4                                     0.0   \n",
       "\n",
       "   last_5_instalment_paid_over_amount_sum  last_5_instalment_paid_over_count  \\\n",
       "0                                     0.0                                  5   \n",
       "1                                     0.0                                  5   \n",
       "2                                     0.0                                  5   \n",
       "3                                     0.0                                  3   \n",
       "4                                     0.0                                  5   \n",
       "\n",
       "   last_5_instalment_paid_over_mean  \n",
       "0                               0.0  \n",
       "1                               0.0  \n",
       "2                               0.0  \n",
       "3                               0.0  \n",
       "4                               0.0  \n",
       "\n",
       "[5 rows x 187 columns]"
      ]
     },
     "execution_count": 82,
     "metadata": {},
     "output_type": "execute_result"
    }
   ],
   "source": [
    "g.head()"
   ]
  },
  {
   "cell_type": "code",
   "execution_count": 83,
   "metadata": {
    "collapsed": false
   },
   "outputs": [
    {
     "data": {
      "text/plain": [
       "(339587, 187)"
      ]
     },
     "execution_count": 83,
     "metadata": {},
     "output_type": "execute_result"
    }
   ],
   "source": [
    "g.shape"
   ]
  },
  {
   "cell_type": "code",
   "execution_count": 92,
   "metadata": {
    "collapsed": false
   },
   "outputs": [
    {
     "data": {
      "text/plain": [
       "(339587, 218)"
      ]
     },
     "execution_count": 92,
     "metadata": {},
     "output_type": "execute_result"
    }
   ],
   "source": [
    "features = features.merge(g, on='SK_ID_CURR', how='left')\n",
    "features.shape"
   ]
  },
  {
   "cell_type": "code",
   "execution_count": 93,
   "metadata": {
    "collapsed": false
   },
   "outputs": [
    {
     "data": {
      "text/plain": [
       "260"
      ]
     },
     "execution_count": 93,
     "metadata": {},
     "output_type": "execute_result"
    }
   ],
   "source": [
    "del g\n",
    "gc.collect()"
   ]
  },
  {
   "cell_type": "code",
   "execution_count": 94,
   "metadata": {
    "collapsed": true
   },
   "outputs": [],
   "source": [
    "from sklearn.linear_model import LinearRegression"
   ]
  },
  {
   "cell_type": "code",
   "execution_count": 95,
   "metadata": {
    "collapsed": true
   },
   "outputs": [],
   "source": [
    "def trend_in_last_k_instalment_features(gr, periods):\n",
    "    gr_ = gr.copy()\n",
    "    gr_.sort_values(['DAYS_INSTALMENT'],ascending=False, inplace=True)\n",
    "    \n",
    "    features = {}\n",
    "\n",
    "    for period in periods:\n",
    "        gr_period = gr_.iloc[:period]\n",
    "\n",
    "\n",
    "        features = _add_trend_feature(features,gr_period,\n",
    "                                      'instalment_paid_late_in_days','{}_period_trend_'.format(period)\n",
    "                                     )\n",
    "        features = _add_trend_feature(features,gr_period,\n",
    "                                      'instalment_paid_over_amount','{}_period_trend_'.format(period)\n",
    "                                     )\n",
    "    return features"
   ]
  },
  {
   "cell_type": "code",
   "execution_count": 96,
   "metadata": {
    "collapsed": true
   },
   "outputs": [],
   "source": [
    "def _add_trend_feature(features,gr,feature_name, prefix):\n",
    "    y = gr[feature_name].values\n",
    "    try:\n",
    "        x = np.arange(0,len(y)).reshape(-1,1)\n",
    "        lr = LinearRegression()\n",
    "        lr.fit(x,y)\n",
    "        trend = lr.coef_[0]\n",
    "    except:\n",
    "        trend=np.nan\n",
    "    features['{}{}'.format(prefix,feature_name)] = trend\n",
    "    return features"
   ]
  },
  {
   "cell_type": "code",
   "execution_count": 97,
   "metadata": {
    "collapsed": false
   },
   "outputs": [
    {
     "name": "stderr",
     "output_type": "stream",
     "text": [
      "100%|██████████| 34/34.0 [37:19<00:00, 65.87s/it]\n"
     ]
    }
   ],
   "source": [
    "func = partial(trend_in_last_k_instalment_features, periods=[10,50,100,500])\n",
    "\n",
    "g = parallel_apply(groupby, func, index_name='SK_ID_CURR',\n",
    "                   num_workers=16, chunk_size=10000).reset_index()"
   ]
  },
  {
   "cell_type": "code",
   "execution_count": 98,
   "metadata": {
    "collapsed": false
   },
   "outputs": [
    {
     "data": {
      "text/html": [
       "<div>\n",
       "<table border=\"1\" class=\"dataframe\">\n",
       "  <thead>\n",
       "    <tr style=\"text-align: right;\">\n",
       "      <th></th>\n",
       "      <th>SK_ID_CURR</th>\n",
       "      <th>100_period_trend_instalment_paid_late_in_days</th>\n",
       "      <th>100_period_trend_instalment_paid_over_amount</th>\n",
       "      <th>10_period_trend_instalment_paid_late_in_days</th>\n",
       "      <th>10_period_trend_instalment_paid_over_amount</th>\n",
       "      <th>500_period_trend_instalment_paid_late_in_days</th>\n",
       "      <th>500_period_trend_instalment_paid_over_amount</th>\n",
       "      <th>50_period_trend_instalment_paid_late_in_days</th>\n",
       "      <th>50_period_trend_instalment_paid_over_amount</th>\n",
       "    </tr>\n",
       "  </thead>\n",
       "  <tbody>\n",
       "    <tr>\n",
       "      <th>0</th>\n",
       "      <td>100001</td>\n",
       "      <td>3.821429</td>\n",
       "      <td>0.0</td>\n",
       "      <td>3.821429</td>\n",
       "      <td>0.0</td>\n",
       "      <td>3.821429</td>\n",
       "      <td>0.0</td>\n",
       "      <td>3.821429</td>\n",
       "      <td>0.0</td>\n",
       "    </tr>\n",
       "    <tr>\n",
       "      <th>1</th>\n",
       "      <td>100002</td>\n",
       "      <td>-0.568421</td>\n",
       "      <td>0.0</td>\n",
       "      <td>0.012121</td>\n",
       "      <td>0.0</td>\n",
       "      <td>-0.568421</td>\n",
       "      <td>0.0</td>\n",
       "      <td>-0.568421</td>\n",
       "      <td>0.0</td>\n",
       "    </tr>\n",
       "    <tr>\n",
       "      <th>2</th>\n",
       "      <td>100003</td>\n",
       "      <td>-0.085385</td>\n",
       "      <td>0.0</td>\n",
       "      <td>-0.193939</td>\n",
       "      <td>0.0</td>\n",
       "      <td>-0.085385</td>\n",
       "      <td>0.0</td>\n",
       "      <td>-0.085385</td>\n",
       "      <td>0.0</td>\n",
       "    </tr>\n",
       "    <tr>\n",
       "      <th>3</th>\n",
       "      <td>100004</td>\n",
       "      <td>-4.000000</td>\n",
       "      <td>0.0</td>\n",
       "      <td>-4.000000</td>\n",
       "      <td>0.0</td>\n",
       "      <td>-4.000000</td>\n",
       "      <td>0.0</td>\n",
       "      <td>-4.000000</td>\n",
       "      <td>0.0</td>\n",
       "    </tr>\n",
       "    <tr>\n",
       "      <th>4</th>\n",
       "      <td>100005</td>\n",
       "      <td>-2.816667</td>\n",
       "      <td>0.0</td>\n",
       "      <td>-2.816667</td>\n",
       "      <td>0.0</td>\n",
       "      <td>-2.816667</td>\n",
       "      <td>0.0</td>\n",
       "      <td>-2.816667</td>\n",
       "      <td>0.0</td>\n",
       "    </tr>\n",
       "  </tbody>\n",
       "</table>\n",
       "</div>"
      ],
      "text/plain": [
       "   SK_ID_CURR  100_period_trend_instalment_paid_late_in_days  \\\n",
       "0      100001                                       3.821429   \n",
       "1      100002                                      -0.568421   \n",
       "2      100003                                      -0.085385   \n",
       "3      100004                                      -4.000000   \n",
       "4      100005                                      -2.816667   \n",
       "\n",
       "   100_period_trend_instalment_paid_over_amount  \\\n",
       "0                                           0.0   \n",
       "1                                           0.0   \n",
       "2                                           0.0   \n",
       "3                                           0.0   \n",
       "4                                           0.0   \n",
       "\n",
       "   10_period_trend_instalment_paid_late_in_days  \\\n",
       "0                                      3.821429   \n",
       "1                                      0.012121   \n",
       "2                                     -0.193939   \n",
       "3                                     -4.000000   \n",
       "4                                     -2.816667   \n",
       "\n",
       "   10_period_trend_instalment_paid_over_amount  \\\n",
       "0                                          0.0   \n",
       "1                                          0.0   \n",
       "2                                          0.0   \n",
       "3                                          0.0   \n",
       "4                                          0.0   \n",
       "\n",
       "   500_period_trend_instalment_paid_late_in_days  \\\n",
       "0                                       3.821429   \n",
       "1                                      -0.568421   \n",
       "2                                      -0.085385   \n",
       "3                                      -4.000000   \n",
       "4                                      -2.816667   \n",
       "\n",
       "   500_period_trend_instalment_paid_over_amount  \\\n",
       "0                                           0.0   \n",
       "1                                           0.0   \n",
       "2                                           0.0   \n",
       "3                                           0.0   \n",
       "4                                           0.0   \n",
       "\n",
       "   50_period_trend_instalment_paid_late_in_days  \\\n",
       "0                                      3.821429   \n",
       "1                                     -0.568421   \n",
       "2                                     -0.085385   \n",
       "3                                     -4.000000   \n",
       "4                                     -2.816667   \n",
       "\n",
       "   50_period_trend_instalment_paid_over_amount  \n",
       "0                                          0.0  \n",
       "1                                          0.0  \n",
       "2                                          0.0  \n",
       "3                                          0.0  \n",
       "4                                          0.0  "
      ]
     },
     "execution_count": 98,
     "metadata": {},
     "output_type": "execute_result"
    }
   ],
   "source": [
    "g.head()"
   ]
  },
  {
   "cell_type": "code",
   "execution_count": 99,
   "metadata": {
    "collapsed": true
   },
   "outputs": [],
   "source": [
    "features = features.merge(g, on='SK_ID_CURR', how='left')"
   ]
  },
  {
   "cell_type": "code",
   "execution_count": 100,
   "metadata": {
    "collapsed": false
   },
   "outputs": [
    {
     "data": {
      "text/plain": [
       "(339587, 226)"
      ]
     },
     "execution_count": 100,
     "metadata": {},
     "output_type": "execute_result"
    }
   ],
   "source": [
    "features.shape"
   ]
  },
  {
   "cell_type": "code",
   "execution_count": 101,
   "metadata": {
    "collapsed": false
   },
   "outputs": [
    {
     "data": {
      "text/plain": [
       "42"
      ]
     },
     "execution_count": 101,
     "metadata": {},
     "output_type": "execute_result"
    }
   ],
   "source": [
    "del g\n",
    "gc.collect()"
   ]
  },
  {
   "cell_type": "code",
   "execution_count": 102,
   "metadata": {
    "collapsed": true
   },
   "outputs": [],
   "source": [
    "def last_k_instalment_features_with_fractions(gr, periods, fraction_periods):\n",
    "    gr_ = gr.copy()\n",
    "    gr_.sort_values(['DAYS_INSTALMENT'],ascending=False, inplace=True)\n",
    "    \n",
    "    features = {}\n",
    "\n",
    "    for period in periods:\n",
    "        gr_period = gr_.iloc[:period]\n",
    "\n",
    "        features = add_features_in_group(features,gr_period, 'NUM_INSTALMENT_VERSION', \n",
    "                                       ['sum','mean','max','min','std', 'median','skew', 'kurt','iqr'],\n",
    "                                         'last_{}_'.format(period))\n",
    "        \n",
    "        features = add_features_in_group(features,gr_period, 'instalment_paid_late_in_days', \n",
    "                                       ['sum','mean','max','min','std', 'median','skew', 'kurt','iqr'],\n",
    "                                         'last_{}_'.format(period))\n",
    "        features = add_features_in_group(features,gr_period ,'instalment_paid_late', \n",
    "                                     ['count','mean'],\n",
    "                                         'last_{}_'.format(period))\n",
    "        features = add_features_in_group(features,gr_period ,'instalment_paid_over_amount', \n",
    "                                       ['sum','mean','max','min','std', 'median','skew', 'kurt','iqr'],\n",
    "                                         'last_{}_'.format(period))\n",
    "        features = add_features_in_group(features,gr_period,'instalment_paid_over', \n",
    "                                     ['count','mean'],\n",
    "                                         'last_{}_'.format(period)) \n",
    "    for short_period, long_period in fraction_periods:\n",
    "        short_feature_names = _get_feature_names(features, short_period)\n",
    "        long_feature_names = _get_feature_names(features, long_period)\n",
    "        \n",
    "        for short_feature, long_feature in zip(short_feature_names, long_feature_names):\n",
    "            old_name_chunk = '_{}_'.format(short_period)\n",
    "            new_name_chunk ='_{}by{}_fraction_'.format(short_period, long_period)\n",
    "            fraction_feature_name = short_feature.replace(old_name_chunk, new_name_chunk)\n",
    "            features[fraction_feature_name] = safe_div(features[short_feature], features[long_feature])\n",
    "    return pd.Series(features)\n",
    "\n",
    "def _get_feature_names(features, period):\n",
    "    return sorted([feat for feat in features.keys() if '_{}_'.format(period) in feat])\n",
    "\n",
    "\n",
    "def safe_div(a,b):\n",
    "    try:\n",
    "        return float(a)/float(b)\n",
    "    except:\n",
    "        return 0.0"
   ]
  },
  {
   "cell_type": "code",
   "execution_count": 103,
   "metadata": {
    "collapsed": false
   },
   "outputs": [
    {
     "name": "stderr",
     "output_type": "stream",
     "text": [
      "100%|██████████| 340/340.0 [2:09:42<00:00, 22.89s/it]  \n"
     ]
    }
   ],
   "source": [
    "func = partial(last_k_instalment_features_with_fractions, \n",
    "               periods=[1,5,10,20,50,100],\n",
    "               fraction_periods=[(5,20),(5,50),(10,100)])\n",
    "\n",
    "g = parallel_apply(groupby, func, index_name='SK_ID_CURR',\n",
    "                   num_workers=16, chunk_size=1000).reset_index()\n",
    "features = features.merge(g, on='SK_ID_CURR', how='left')"
   ]
  },
  {
   "cell_type": "code",
   "execution_count": 104,
   "metadata": {
    "collapsed": false
   },
   "outputs": [
    {
     "data": {
      "text/plain": [
       "(339587, 505)"
      ]
     },
     "execution_count": 104,
     "metadata": {},
     "output_type": "execute_result"
    }
   ],
   "source": [
    "features.shape"
   ]
  },
  {
   "cell_type": "code",
   "execution_count": 105,
   "metadata": {
    "collapsed": false
   },
   "outputs": [
    {
     "data": {
      "text/plain": [
       "2377144"
      ]
     },
     "execution_count": 105,
     "metadata": {},
     "output_type": "execute_result"
    }
   ],
   "source": [
    "del g\n",
    "gc.collect()"
   ]
  },
  {
   "cell_type": "code",
   "execution_count": 106,
   "metadata": {
    "collapsed": true
   },
   "outputs": [],
   "source": [
    "df =df.merge(features, on=['SK_ID_CURR'], how='left')"
   ]
  },
  {
   "cell_type": "code",
   "execution_count": 107,
   "metadata": {
    "collapsed": false
   },
   "outputs": [
    {
     "data": {
      "text/plain": [
       "(356255, 940)"
      ]
     },
     "execution_count": 107,
     "metadata": {},
     "output_type": "execute_result"
    }
   ],
   "source": [
    "df.shape"
   ]
  },
  {
   "cell_type": "code",
   "execution_count": 108,
   "metadata": {
    "collapsed": false
   },
   "outputs": [
    {
     "data": {
      "text/plain": [
       "14"
      ]
     },
     "execution_count": 108,
     "metadata": {},
     "output_type": "execute_result"
    }
   ],
   "source": [
    "del features\n",
    "gc.collect()"
   ]
  },
  {
   "cell_type": "code",
   "execution_count": 109,
   "metadata": {
    "collapsed": true
   },
   "outputs": [],
   "source": [
    "pos_cash_balance=pd.read_csv('POS_CASH_balance.csv')"
   ]
  },
  {
   "cell_type": "code",
   "execution_count": 110,
   "metadata": {
    "collapsed": true
   },
   "outputs": [],
   "source": [
    "POS_CASH_BALANCE_AGGREGATION_RECIPIES = []\n",
    "for agg in ['mean', 'min', 'max', 'sum', 'var']:\n",
    "    for select in ['MONTHS_BALANCE',\n",
    "                   'SK_DPD',\n",
    "                   'SK_DPD_DEF'\n",
    "                   ]:\n",
    "        POS_CASH_BALANCE_AGGREGATION_RECIPIES.append((select, agg))\n",
    "POS_CASH_BALANCE_AGGREGATION_RECIPIES = [(['SK_ID_CURR'], POS_CASH_BALANCE_AGGREGATION_RECIPIES)]"
   ]
  },
  {
   "cell_type": "code",
   "execution_count": 111,
   "metadata": {
    "collapsed": false
   },
   "outputs": [
    {
     "name": "stderr",
     "output_type": "stream",
     "text": [
      "  0%|          | 0/1 [00:00<?, ?it/s]\n",
      "  0%|          | 0/15 [00:00<?, ?it/s]\u001b[A\n",
      "  7%|▋         | 1/15 [00:13<03:02, 13.07s/it]\u001b[A\n",
      " 13%|█▎        | 2/15 [00:18<02:01,  9.32s/it]\u001b[A\n",
      " 20%|██        | 3/15 [00:23<01:35,  7.92s/it]\u001b[A\n",
      " 27%|██▋       | 4/15 [00:28<01:19,  7.24s/it]\u001b[A\n",
      " 33%|███▎      | 5/15 [00:33<01:07,  6.78s/it]\u001b[A\n",
      " 40%|████      | 6/15 [00:39<00:58,  6.51s/it]\u001b[A\n",
      " 47%|████▋     | 7/15 [00:44<00:50,  6.29s/it]\u001b[A\n",
      " 53%|█████▎    | 8/15 [00:49<00:42,  6.14s/it]\u001b[A\n",
      " 60%|██████    | 9/15 [00:54<00:36,  6.10s/it]\u001b[A\n",
      " 67%|██████▋   | 10/15 [01:00<00:30,  6.01s/it]\u001b[A\n",
      " 73%|███████▎  | 11/15 [01:05<00:23,  5.95s/it]\u001b[A\n",
      " 80%|████████  | 12/15 [01:10<00:17,  5.90s/it]\u001b[A\n",
      " 87%|████████▋ | 13/15 [01:16<00:11,  5.85s/it]\u001b[A\n",
      " 93%|█████████▎| 14/15 [01:21<00:05,  5.81s/it]\u001b[A\n",
      "100%|██████████| 15/15 [01:26<00:00,  5.78s/it]\u001b[A\n",
      "100%|██████████| 1/1 [01:26<00:00, 86.72s/it]\n"
     ]
    }
   ],
   "source": [
    "groupby_aggregate_names = []\n",
    "for groupby_cols, specs in tqdm(POS_CASH_BALANCE_AGGREGATION_RECIPIES):\n",
    "    group_object = pos_cash_balance.groupby(groupby_cols)\n",
    "    for select, agg in tqdm(specs):\n",
    "        groupby_aggregate_name = '{}_{}_{}'.format('_'.join(groupby_cols), agg, select)\n",
    "        df = df.merge(group_object[select]\n",
    "                              .agg(agg)\n",
    "                              .reset_index()\n",
    "                              .rename(index=str,\n",
    "                                      columns={select: groupby_aggregate_name})\n",
    "                              [groupby_cols + [groupby_aggregate_name]],\n",
    "                              on=groupby_cols,\n",
    "                              how='left')\n",
    "        groupby_aggregate_names.append(groupby_aggregate_name)"
   ]
  },
  {
   "cell_type": "code",
   "execution_count": 112,
   "metadata": {
    "collapsed": true
   },
   "outputs": [],
   "source": [
    "features  = pd.DataFrame({'SK_ID_CURR': pos_cash_balance['SK_ID_CURR'].unique()})"
   ]
  },
  {
   "cell_type": "code",
   "execution_count": 113,
   "metadata": {
    "collapsed": true
   },
   "outputs": [],
   "source": [
    "pos_cash_sorted = pos_cash_balance.sort_values(['SK_ID_CURR', 'MONTHS_BALANCE'])\n",
    "group_object = pos_cash_sorted.groupby('SK_ID_CURR')['CNT_INSTALMENT_FUTURE'].last().reset_index()\n",
    "group_object.rename(index=str,\n",
    "                    columns={'CNT_INSTALMENT_FUTURE': 'pos_cash_remaining_installments'},\n",
    "                    inplace=True)\n",
    "\n",
    "features = features.merge(group_object, on=['SK_ID_CURR'], how='left')"
   ]
  },
  {
   "cell_type": "code",
   "execution_count": 114,
   "metadata": {
    "collapsed": false
   },
   "outputs": [
    {
     "data": {
      "text/plain": [
       "(337252, 2)"
      ]
     },
     "execution_count": 114,
     "metadata": {},
     "output_type": "execute_result"
    }
   ],
   "source": [
    "features.shape"
   ]
  },
  {
   "cell_type": "code",
   "execution_count": 115,
   "metadata": {
    "collapsed": true
   },
   "outputs": [],
   "source": [
    "pos_cash_balance['is_contract_status_completed'] = pos_cash_balance['NAME_CONTRACT_STATUS'] == 'Completed'\n",
    "group_object = pos_cash_balance.groupby(['SK_ID_CURR'])['is_contract_status_completed'].sum().reset_index()\n",
    "group_object.rename(index=str,\n",
    "                    columns={'is_contract_status_completed': 'pos_cash_completed_contracts'},\n",
    "                    inplace=True)\n",
    "features = features.merge(group_object, on=['SK_ID_CURR'], how='left')"
   ]
  },
  {
   "cell_type": "code",
   "execution_count": 116,
   "metadata": {
    "collapsed": false
   },
   "outputs": [
    {
     "data": {
      "text/plain": [
       "(337252, 3)"
      ]
     },
     "execution_count": 116,
     "metadata": {},
     "output_type": "execute_result"
    }
   ],
   "source": [
    "features.shape"
   ]
  },
  {
   "cell_type": "code",
   "execution_count": 117,
   "metadata": {
    "collapsed": true
   },
   "outputs": [],
   "source": [
    "pos_cash_balance['pos_cash_paid_late'] = (pos_cash_balance['SK_DPD'] > 0).astype(int)\n",
    "pos_cash_balance['pos_cash_paid_late_with_tolerance'] = (pos_cash_balance['SK_DPD_DEF'] > 0).astype(int)\n",
    "groupby = pos_cash_balance.groupby(['SK_ID_CURR'])"
   ]
  },
  {
   "cell_type": "code",
   "execution_count": 118,
   "metadata": {
    "collapsed": true
   },
   "outputs": [],
   "source": [
    "def last_k_installment_features(gr, periods):\n",
    "    gr_ = gr.copy()\n",
    "    gr_.sort_values(['MONTHS_BALANCE'], ascending=False, inplace=True)\n",
    "\n",
    "    features = {}\n",
    "    for period in periods:\n",
    "        if period > 10e10:\n",
    "            period_name = 'all_installment_'\n",
    "            gr_period = gr_.copy()\n",
    "        else:\n",
    "            period_name = 'last_{}_'.format(period)\n",
    "            gr_period = gr_.iloc[:period]\n",
    "\n",
    "        features = add_features_in_group(features, gr_period, 'pos_cash_paid_late',\n",
    "                                             ['count', 'mean'],\n",
    "                                             period_name)\n",
    "        features = add_features_in_group(features, gr_period, 'pos_cash_paid_late_with_tolerance',\n",
    "                                             ['count', 'mean'],\n",
    "                                             period_name)\n",
    "        features = add_features_in_group(features, gr_period, 'SK_DPD',\n",
    "                                             ['sum', 'mean', 'max', 'min', 'median'],\n",
    "                                             period_name)\n",
    "        features = add_features_in_group(features, gr_period, 'SK_DPD_DEF',\n",
    "                                             ['sum', 'mean', 'max', 'min','median'],\n",
    "                                             period_name)\n",
    "    return features"
   ]
  },
  {
   "cell_type": "code",
   "execution_count": 119,
   "metadata": {
    "collapsed": false
   },
   "outputs": [
    {
     "name": "stderr",
     "output_type": "stream",
     "text": [
      "100%|██████████| 34/34.0 [26:39<00:00, 47.04s/it]\n"
     ]
    }
   ],
   "source": [
    "features = pd.DataFrame({'SK_ID_CURR': pos_cash_balance['SK_ID_CURR'].unique()})\n",
    "func = partial(last_k_installment_features, periods=[1, 10, 50, 10e16])\n",
    "g = parallel_apply(groupby, func, index_name='SK_ID_CURR', num_workers=10, chunk_size=10000).reset_index()\n",
    "features = features.merge(g, on='SK_ID_CURR', how='left')"
   ]
  },
  {
   "cell_type": "code",
   "execution_count": 120,
   "metadata": {
    "collapsed": false
   },
   "outputs": [
    {
     "data": {
      "text/plain": [
       "(337252, 57)"
      ]
     },
     "execution_count": 120,
     "metadata": {},
     "output_type": "execute_result"
    }
   ],
   "source": [
    "features.shape"
   ]
  },
  {
   "cell_type": "code",
   "execution_count": 121,
   "metadata": {
    "collapsed": false
   },
   "outputs": [
    {
     "data": {
      "text/plain": [
       "41"
      ]
     },
     "execution_count": 121,
     "metadata": {},
     "output_type": "execute_result"
    }
   ],
   "source": [
    "del g\n",
    "gc.collect()"
   ]
  },
  {
   "cell_type": "code",
   "execution_count": 122,
   "metadata": {
    "collapsed": true
   },
   "outputs": [],
   "source": [
    "def last_loan_features(gr):\n",
    "    gr_ = gr.copy()\n",
    "    gr_.sort_values(['MONTHS_BALANCE'], ascending=False, inplace=True)\n",
    "    last_installment_id = gr_['SK_ID_PREV'].iloc[0]\n",
    "    gr_ = gr_[gr_['SK_ID_PREV'] == last_installment_id]\n",
    "\n",
    "    features={}\n",
    "    features = add_features_in_group(features, gr_, 'pos_cash_paid_late',\n",
    "                                         ['count', 'sum', 'mean'],\n",
    "                                         'last_loan_')\n",
    "    features = add_features_in_group(features, gr_, 'pos_cash_paid_late_with_tolerance',\n",
    "                                         ['sum', 'mean'],\n",
    "                                         'last_loan_')\n",
    "    features = add_features_in_group(features, gr_, 'SK_DPD',\n",
    "                                         ['sum', 'mean', 'max', 'min', 'std'],\n",
    "                                         'last_loan_')\n",
    "    features = add_features_in_group(features, gr_, 'SK_DPD_DEF',\n",
    "                                         ['sum', 'mean', 'max', 'min', 'std'],\n",
    "                                         'last_loan_')\n",
    "    return features"
   ]
  },
  {
   "cell_type": "code",
   "execution_count": 123,
   "metadata": {
    "collapsed": false
   },
   "outputs": [
    {
     "name": "stderr",
     "output_type": "stream",
     "text": [
      "100%|██████████| 34/34.0 [14:36<00:00, 25.78s/it]\n"
     ]
    }
   ],
   "source": [
    "features = pd.DataFrame({'SK_ID_CURR': pos_cash_balance['SK_ID_CURR'].unique()})\n",
    "g = parallel_apply(groupby, last_loan_features, index_name='SK_ID_CURR', num_workers=10, chunk_size=10000).reset_index()\n",
    "features = features.merge(g, on='SK_ID_CURR', how='left')"
   ]
  },
  {
   "cell_type": "code",
   "execution_count": 124,
   "metadata": {
    "collapsed": false
   },
   "outputs": [
    {
     "data": {
      "text/plain": [
       "(337252, 16)"
      ]
     },
     "execution_count": 124,
     "metadata": {},
     "output_type": "execute_result"
    }
   ],
   "source": [
    "features.shape"
   ]
  },
  {
   "cell_type": "code",
   "execution_count": 125,
   "metadata": {
    "collapsed": false
   },
   "outputs": [
    {
     "data": {
      "text/plain": [
       "41"
      ]
     },
     "execution_count": 125,
     "metadata": {},
     "output_type": "execute_result"
    }
   ],
   "source": [
    "del g\n",
    "gc.collect()"
   ]
  },
  {
   "cell_type": "code",
   "execution_count": 126,
   "metadata": {
    "collapsed": true
   },
   "outputs": [],
   "source": [
    "def trend_in_last_k_installment_features(gr, periods):\n",
    "    gr_ = gr.copy()\n",
    "    gr_.sort_values(['MONTHS_BALANCE'], ascending=False, inplace=True)\n",
    "\n",
    "    features = {}\n",
    "    for period in periods:\n",
    "        gr_period = gr_.iloc[:period]\n",
    "\n",
    "        features = add_trend_feature(features, gr_period,\n",
    "                                         'SK_DPD', '{}_period_trend_'.format(period)\n",
    "                                         )\n",
    "        features = add_trend_feature(features, gr_period,\n",
    "                                         'SK_DPD_DEF', '{}_period_trend_'.format(period)\n",
    "                                         )\n",
    "    return features\n",
    "\n",
    "def add_trend_feature(features, gr, feature_name, prefix):\n",
    "    y = gr[feature_name].values\n",
    "    try:\n",
    "        x = np.arange(0, len(y)).reshape(-1, 1)\n",
    "        lr = LinearRegression()\n",
    "        lr.fit(x, y)\n",
    "        trend = lr.coef_[0]\n",
    "    except:\n",
    "        trend = np.nan\n",
    "    features['{}{}'.format(prefix, feature_name)] = trend\n",
    "    return features"
   ]
  },
  {
   "cell_type": "code",
   "execution_count": 127,
   "metadata": {
    "collapsed": false
   },
   "outputs": [
    {
     "name": "stderr",
     "output_type": "stream",
     "text": [
      "100%|██████████| 34/34.0 [23:59<00:00, 42.34s/it]\n"
     ]
    }
   ],
   "source": [
    "features = pd.DataFrame({'SK_ID_CURR': pos_cash_balance['SK_ID_CURR'].unique()})\n",
    "func = partial(trend_in_last_k_installment_features, periods=[1,6,12,30,60])\n",
    "g = parallel_apply(groupby, func, index_name='SK_ID_CURR', num_workers=10, chunk_size=10000).reset_index()\n",
    "features = features.merge(g, on='SK_ID_CURR', how='left')"
   ]
  },
  {
   "cell_type": "code",
   "execution_count": 128,
   "metadata": {
    "collapsed": false
   },
   "outputs": [
    {
     "data": {
      "text/plain": [
       "(337252, 11)"
      ]
     },
     "execution_count": 128,
     "metadata": {},
     "output_type": "execute_result"
    }
   ],
   "source": [
    "features.shape"
   ]
  },
  {
   "cell_type": "code",
   "execution_count": 129,
   "metadata": {
    "collapsed": false
   },
   "outputs": [
    {
     "data": {
      "text/plain": [
       "41"
      ]
     },
     "execution_count": 129,
     "metadata": {},
     "output_type": "execute_result"
    }
   ],
   "source": [
    "del g\n",
    "gc.collect()"
   ]
  },
  {
   "cell_type": "code",
   "execution_count": 130,
   "metadata": {
    "collapsed": true
   },
   "outputs": [],
   "source": [
    "df = df.merge(features, on='SK_ID_CURR',how='left')"
   ]
  },
  {
   "cell_type": "code",
   "execution_count": 131,
   "metadata": {
    "collapsed": false
   },
   "outputs": [
    {
     "data": {
      "text/plain": [
       "(356255, 965)"
      ]
     },
     "execution_count": 131,
     "metadata": {},
     "output_type": "execute_result"
    }
   ],
   "source": [
    "df.shape"
   ]
  },
  {
   "cell_type": "code",
   "execution_count": 132,
   "metadata": {
    "collapsed": false
   },
   "outputs": [
    {
     "data": {
      "text/plain": [
       "14"
      ]
     },
     "execution_count": 132,
     "metadata": {},
     "output_type": "execute_result"
    }
   ],
   "source": [
    "del features\n",
    "gc.collect()"
   ]
  },
  {
   "cell_type": "code",
   "execution_count": 133,
   "metadata": {
    "collapsed": true
   },
   "outputs": [],
   "source": [
    "previous_application=pd.read_csv('previous_application.csv')"
   ]
  },
  {
   "cell_type": "code",
   "execution_count": 134,
   "metadata": {
    "collapsed": true
   },
   "outputs": [],
   "source": [
    "previous_application['DAYS_FIRST_DRAWING'].replace(365243, np.nan, inplace=True)\n",
    "previous_application['DAYS_FIRST_DUE'].replace(365243, np.nan, inplace=True)\n",
    "previous_application['DAYS_LAST_DUE_1ST_VERSION'].replace(365243, np.nan, inplace=True)\n",
    "previous_application['DAYS_LAST_DUE'].replace(365243, np.nan, inplace=True)\n",
    "previous_application['DAYS_TERMINATION'].replace(365243, np.nan, inplace=True)"
   ]
  },
  {
   "cell_type": "code",
   "execution_count": 135,
   "metadata": {
    "collapsed": true
   },
   "outputs": [],
   "source": [
    "PREVIOUS_APPLICATION_AGGREGATION_RECIPIES = []\n",
    "for agg in ['mean', 'min', 'max', 'sum', 'var']:\n",
    "    for select in ['AMT_ANNUITY',\n",
    "                   'AMT_APPLICATION',\n",
    "                   'AMT_CREDIT',\n",
    "                   'AMT_DOWN_PAYMENT',\n",
    "                   'AMT_GOODS_PRICE',\n",
    "                   'CNT_PAYMENT',\n",
    "                   'DAYS_DECISION',\n",
    "                   'HOUR_APPR_PROCESS_START',\n",
    "                   'RATE_DOWN_PAYMENT'\n",
    "                   ]:\n",
    "        PREVIOUS_APPLICATION_AGGREGATION_RECIPIES.append((select, agg))\n",
    "PREVIOUS_APPLICATION_AGGREGATION_RECIPIES = [(['SK_ID_CURR'], PREVIOUS_APPLICATION_AGGREGATION_RECIPIES)]"
   ]
  },
  {
   "cell_type": "code",
   "execution_count": 136,
   "metadata": {
    "collapsed": false
   },
   "outputs": [
    {
     "name": "stderr",
     "output_type": "stream",
     "text": [
      "  0%|          | 0/1 [00:00<?, ?it/s]\n",
      "  0%|          | 0/45 [00:00<?, ?it/s]\u001b[A\n",
      "  2%|▏         | 1/45 [00:12<08:50, 12.06s/it]\u001b[A\n",
      "  4%|▍         | 2/45 [00:18<06:43,  9.38s/it]\u001b[A\n",
      "  7%|▋         | 3/45 [00:23<05:31,  7.88s/it]\u001b[A\n",
      "  9%|▉         | 4/45 [00:28<04:50,  7.09s/it]\u001b[A\n",
      " 11%|█         | 5/45 [00:33<04:25,  6.63s/it]\u001b[A\n",
      " 13%|█▎        | 6/45 [00:37<04:06,  6.33s/it]\u001b[A\n",
      " 16%|█▌        | 7/45 [00:42<03:52,  6.13s/it]\u001b[A\n",
      " 18%|█▊        | 8/45 [00:47<03:41,  5.98s/it]\u001b[A\n",
      " 20%|██        | 9/45 [00:52<03:31,  5.88s/it]\u001b[A\n",
      " 22%|██▏       | 10/45 [00:57<03:21,  5.77s/it]\u001b[A\n",
      " 24%|██▍       | 11/45 [01:02<03:13,  5.69s/it]\u001b[A\n",
      " 27%|██▋       | 12/45 [01:07<03:05,  5.62s/it]\u001b[A\n",
      " 29%|██▉       | 13/45 [01:12<02:57,  5.56s/it]\u001b[A\n",
      " 31%|███       | 14/45 [01:16<02:50,  5.50s/it]\u001b[A\n",
      " 33%|███▎      | 15/45 [01:21<02:43,  5.45s/it]\u001b[A\n",
      " 36%|███▌      | 16/45 [01:26<02:36,  5.41s/it]\u001b[A\n",
      " 38%|███▊      | 17/45 [01:31<02:30,  5.37s/it]\u001b[A\n",
      " 40%|████      | 18/45 [01:36<02:24,  5.34s/it]\u001b[A\n",
      " 42%|████▏     | 19/45 [01:41<02:18,  5.32s/it]\u001b[A\n",
      " 44%|████▍     | 20/45 [01:45<02:12,  5.30s/it]\u001b[A\n",
      " 47%|████▋     | 21/45 [01:51<02:06,  5.29s/it]\u001b[A\n",
      " 49%|████▉     | 22/45 [01:56<02:01,  5.28s/it]\u001b[A\n",
      " 51%|█████     | 23/45 [02:00<01:55,  5.26s/it]\u001b[A\n",
      " 53%|█████▎    | 24/45 [02:06<01:50,  5.25s/it]\u001b[A\n",
      " 56%|█████▌    | 25/45 [02:10<01:44,  5.24s/it]\u001b[A\n",
      " 58%|█████▊    | 26/45 [02:16<01:39,  5.23s/it]\u001b[A\n",
      " 60%|██████    | 27/45 [02:21<01:34,  5.23s/it]\u001b[A\n",
      " 62%|██████▏   | 28/45 [02:26<01:28,  5.23s/it]\u001b[A\n",
      " 64%|██████▍   | 29/45 [02:31<01:23,  5.21s/it]\u001b[A\n",
      " 67%|██████▋   | 30/45 [02:35<01:17,  5.20s/it]\u001b[A\n",
      " 69%|██████▉   | 31/45 [02:40<01:12,  5.19s/it]\u001b[A\n",
      " 71%|███████   | 32/45 [02:45<01:07,  5.18s/it]\u001b[A\n",
      " 73%|███████▎  | 33/45 [02:50<01:02,  5.18s/it]\u001b[A\n",
      " 76%|███████▌  | 34/45 [02:55<00:56,  5.17s/it]\u001b[A\n",
      " 78%|███████▊  | 35/45 [03:00<00:51,  5.16s/it]\u001b[A\n",
      " 80%|████████  | 36/45 [03:05<00:46,  5.15s/it]\u001b[A\n",
      " 82%|████████▏ | 37/45 [03:10<00:41,  5.15s/it]\u001b[A\n",
      " 84%|████████▍ | 38/45 [03:15<00:35,  5.14s/it]\u001b[A\n",
      " 87%|████████▋ | 39/45 [03:20<00:30,  5.14s/it]\u001b[A\n",
      " 89%|████████▉ | 40/45 [03:25<00:25,  5.13s/it]\u001b[A\n",
      " 91%|█████████ | 41/45 [03:30<00:20,  5.13s/it]\u001b[A\n",
      " 93%|█████████▎| 42/45 [03:35<00:15,  5.12s/it]\u001b[A\n",
      " 96%|█████████▌| 43/45 [03:39<00:10,  5.12s/it]\u001b[A\n",
      " 98%|█████████▊| 44/45 [03:44<00:05,  5.11s/it]\u001b[A\n",
      "100%|██████████| 45/45 [03:49<00:00,  5.11s/it]\u001b[A\n",
      "100%|██████████| 1/1 [03:49<00:00, 229.93s/it]\n"
     ]
    }
   ],
   "source": [
    "groupby_aggregate_names = []\n",
    "for groupby_cols, specs in tqdm(PREVIOUS_APPLICATION_AGGREGATION_RECIPIES):\n",
    "    group_object = previous_application.groupby(groupby_cols)\n",
    "    for select, agg in tqdm(specs):\n",
    "        groupby_aggregate_name = '{}_{}_{}'.format('_'.join(groupby_cols), agg, select)\n",
    "        df = df.merge(group_object[select]\n",
    "                              .agg(agg)\n",
    "                              .reset_index()\n",
    "                              .rename(index=str,\n",
    "                                      columns={select: groupby_aggregate_name})\n",
    "                              [groupby_cols + [groupby_aggregate_name]],\n",
    "                              on=groupby_cols,\n",
    "                              how='left')\n",
    "        groupby_aggregate_names.append(groupby_aggregate_name)"
   ]
  },
  {
   "cell_type": "code",
   "execution_count": 137,
   "metadata": {
    "collapsed": false
   },
   "outputs": [
    {
     "data": {
      "text/plain": [
       "(356255, 1010)"
      ]
     },
     "execution_count": 137,
     "metadata": {},
     "output_type": "execute_result"
    }
   ],
   "source": [
    "df.shape"
   ]
  },
  {
   "cell_type": "code",
   "execution_count": 138,
   "metadata": {
    "collapsed": true
   },
   "outputs": [],
   "source": [
    "numbers_of_applications = [1, 3, 5]"
   ]
  },
  {
   "cell_type": "code",
   "execution_count": 139,
   "metadata": {
    "collapsed": true
   },
   "outputs": [],
   "source": [
    "features = pd.DataFrame({'SK_ID_CURR': previous_application['SK_ID_CURR'].unique()})\n",
    "prev_applications_sorted = previous_application.sort_values(['SK_ID_CURR', 'DAYS_DECISION'])"
   ]
  },
  {
   "cell_type": "code",
   "execution_count": 140,
   "metadata": {
    "collapsed": true
   },
   "outputs": [],
   "source": [
    "group_object = prev_applications_sorted.groupby(by=['SK_ID_CURR'])['SK_ID_PREV'].nunique().reset_index()\n",
    "group_object.rename(index=str,\n",
    "                    columns={'SK_ID_PREV': 'previous_application_number_of_prev_application'},\n",
    "                    inplace=True)\n",
    "features = features.merge(group_object, on=['SK_ID_CURR'], how='left')"
   ]
  },
  {
   "cell_type": "code",
   "execution_count": 141,
   "metadata": {
    "collapsed": true
   },
   "outputs": [],
   "source": [
    "prev_applications_sorted['previous_application_prev_was_approved'] = (\n",
    "        prev_applications_sorted['NAME_CONTRACT_STATUS'] == 'Approved').astype('int')\n",
    "group_object = prev_applications_sorted.groupby(by=['SK_ID_CURR'])[\n",
    "    'previous_application_prev_was_approved'].last().reset_index()\n",
    "features = features.merge(group_object, on=['SK_ID_CURR'], how='left')"
   ]
  },
  {
   "cell_type": "code",
   "execution_count": 142,
   "metadata": {
    "collapsed": true
   },
   "outputs": [],
   "source": [
    "prev_applications_sorted['previous_application_prev_was_refused'] = (\n",
    "        prev_applications_sorted['NAME_CONTRACT_STATUS'] == 'Refused').astype('int')\n",
    "group_object = prev_applications_sorted.groupby(by=['SK_ID_CURR'])[\n",
    "    'previous_application_prev_was_refused'].last().reset_index()\n",
    "features = features.merge(group_object, on=['SK_ID_CURR'], how='left')"
   ]
  },
  {
   "cell_type": "code",
   "execution_count": 143,
   "metadata": {
    "collapsed": true
   },
   "outputs": [],
   "source": [
    "for number in numbers_of_applications:\n",
    "    prev_applications_tail = prev_applications_sorted.groupby(by=['SK_ID_CURR']).tail(number)\n",
    "\n",
    "    group_object = prev_applications_tail.groupby(by=['SK_ID_CURR'])['CNT_PAYMENT'].mean().reset_index()\n",
    "    group_object.rename(index=str, columns={\n",
    "        'CNT_PAYMENT': 'previous_application_term_of_last_{}_credits_mean'.format(number)},\n",
    "                        inplace=True)\n",
    "    features = features.merge(group_object, on=['SK_ID_CURR'], how='left')\n",
    "\n",
    "    group_object = prev_applications_tail.groupby(by=['SK_ID_CURR'])['DAYS_DECISION'].mean().reset_index()\n",
    "    group_object.rename(index=str, columns={\n",
    "        'DAYS_DECISION': 'previous_application_days_decision_about_last_{}_credits_mean'.format(number)},\n",
    "                        inplace=True)\n",
    "    features = features.merge(group_object, on=['SK_ID_CURR'], how='left')\n",
    "\n",
    "    group_object = prev_applications_tail.groupby(by=['SK_ID_CURR'])['DAYS_FIRST_DRAWING'].mean().reset_index()\n",
    "    group_object.rename(index=str, columns={\n",
    "        'DAYS_FIRST_DRAWING': 'previous_application_days_first_drawing_last_{}_credits_mean'.format(number)},\n",
    "                        inplace=True)\n",
    "    features = features.merge(group_object, on=['SK_ID_CURR'], how='left')"
   ]
  },
  {
   "cell_type": "code",
   "execution_count": 144,
   "metadata": {
    "collapsed": false
   },
   "outputs": [
    {
     "data": {
      "text/plain": [
       "(338857, 13)"
      ]
     },
     "execution_count": 144,
     "metadata": {},
     "output_type": "execute_result"
    }
   ],
   "source": [
    "features.shape"
   ]
  },
  {
   "cell_type": "code",
   "execution_count": 145,
   "metadata": {
    "collapsed": true
   },
   "outputs": [],
   "source": [
    "df = df.merge(features,\n",
    "                                left_on=['SK_ID_CURR'],\n",
    "                                right_on=['SK_ID_CURR'],\n",
    "                                how='left')"
   ]
  },
  {
   "cell_type": "code",
   "execution_count": 146,
   "metadata": {
    "collapsed": false
   },
   "outputs": [
    {
     "data": {
      "text/plain": [
       "(356255, 1022)"
      ]
     },
     "execution_count": 146,
     "metadata": {},
     "output_type": "execute_result"
    }
   ],
   "source": [
    "df.shape"
   ]
  },
  {
   "cell_type": "code",
   "execution_count": 149,
   "metadata": {
    "collapsed": false
   },
   "outputs": [
    {
     "data": {
      "text/plain": [
       "Index([                                                       u'index',\n",
       "                                                        u'AMT_ANNUITY',\n",
       "                                                         u'AMT_CREDIT',\n",
       "                                                    u'AMT_GOODS_PRICE',\n",
       "                                                   u'AMT_INCOME_TOTAL',\n",
       "                                          u'AMT_REQ_CREDIT_BUREAU_DAY',\n",
       "                                         u'AMT_REQ_CREDIT_BUREAU_HOUR',\n",
       "                                          u'AMT_REQ_CREDIT_BUREAU_MON',\n",
       "                                          u'AMT_REQ_CREDIT_BUREAU_QRT',\n",
       "                                         u'AMT_REQ_CREDIT_BUREAU_WEEK',\n",
       "       ...\n",
       "                              u'previous_application_prev_was_refused',\n",
       "                   u'previous_application_term_of_last_1_credits_mean',\n",
       "       u'previous_application_days_decision_about_last_1_credits_mean',\n",
       "        u'previous_application_days_first_drawing_last_1_credits_mean',\n",
       "                   u'previous_application_term_of_last_3_credits_mean',\n",
       "       u'previous_application_days_decision_about_last_3_credits_mean',\n",
       "        u'previous_application_days_first_drawing_last_3_credits_mean',\n",
       "                   u'previous_application_term_of_last_5_credits_mean',\n",
       "       u'previous_application_days_decision_about_last_5_credits_mean',\n",
       "        u'previous_application_days_first_drawing_last_5_credits_mean'],\n",
       "      dtype='object', length=1022)"
      ]
     },
     "execution_count": 149,
     "metadata": {},
     "output_type": "execute_result"
    }
   ],
   "source": [
    "df.columns"
   ]
  },
  {
   "cell_type": "code",
   "execution_count": 147,
   "metadata": {
    "collapsed": false
   },
   "outputs": [
    {
     "data": {
      "text/plain": [
       "35"
      ]
     },
     "execution_count": 147,
     "metadata": {},
     "output_type": "execute_result"
    }
   ],
   "source": [
    "del features\n",
    "gc.collect()"
   ]
  },
  {
   "cell_type": "code",
   "execution_count": 148,
   "metadata": {
    "collapsed": true
   },
   "outputs": [],
   "source": [
    "df.to_csv('df_1000.csv',index=False)"
   ]
  },
  {
   "cell_type": "code",
   "execution_count": 232,
   "metadata": {
    "collapsed": true
   },
   "outputs": [],
   "source": [
    "df=pd.read_csv('df_1000.csv')"
   ]
  },
  {
   "cell_type": "code",
   "execution_count": 233,
   "metadata": {
    "collapsed": false
   },
   "outputs": [
    {
     "data": {
      "text/plain": [
       "(356255, 1022)"
      ]
     },
     "execution_count": 233,
     "metadata": {},
     "output_type": "execute_result"
    }
   ],
   "source": [
    "df.shape"
   ]
  },
  {
   "cell_type": "code",
   "execution_count": 188,
   "metadata": {
    "collapsed": true
   },
   "outputs": [],
   "source": [
    "import category_encoders as ce"
   ]
  },
  {
   "cell_type": "code",
   "execution_count": 238,
   "metadata": {
    "collapsed": true
   },
   "outputs": [],
   "source": [
    "categorical_columns=['CODE_GENDER',\n",
    "                       'EMERGENCYSTATE_MODE',\n",
    "                       'FLAG_CONT_MOBILE',\n",
    "                       'FLAG_DOCUMENT_3',\n",
    "                       'FLAG_DOCUMENT_4',\n",
    "                       'FLAG_DOCUMENT_5',\n",
    "                       'FLAG_DOCUMENT_6',\n",
    "                       'FLAG_DOCUMENT_7',\n",
    "                       'FLAG_DOCUMENT_8',\n",
    "                       'FLAG_DOCUMENT_9',\n",
    "                       'FLAG_DOCUMENT_11',\n",
    "                       'FLAG_DOCUMENT_18',\n",
    "                       'FLAG_EMAIL',\n",
    "                       'FLAG_EMP_PHONE',\n",
    "                       'FLAG_MOBIL',\n",
    "                       'FLAG_OWN_CAR',\n",
    "                       'FLAG_OWN_REALTY',\n",
    "                       'FLAG_PHONE',\n",
    "                       'FLAG_WORK_PHONE',\n",
    "                       'FONDKAPREMONT_MODE',\n",
    "                       'HOUR_APPR_PROCESS_START',\n",
    "                       'HOUSETYPE_MODE',\n",
    "                       'LIVE_CITY_NOT_WORK_CITY',\n",
    "                       'LIVE_REGION_NOT_WORK_REGION',\n",
    "                       'NAME_CONTRACT_TYPE',\n",
    "                       'NAME_TYPE_SUITE',\n",
    "                       'NAME_INCOME_TYPE',\n",
    "                       'NAME_EDUCATION_TYPE',\n",
    "                       'NAME_FAMILY_STATUS',\n",
    "                       'NAME_HOUSING_TYPE',\n",
    "                       'OCCUPATION_TYPE',\n",
    "                       'ORGANIZATION_TYPE',\n",
    "                       'REG_CITY_NOT_LIVE_CITY',\n",
    "                       'REG_CITY_NOT_WORK_CITY',\n",
    "                       'REG_REGION_NOT_LIVE_REGION',\n",
    "                       'REG_REGION_NOT_WORK_REGION',\n",
    "                       'WALLSMATERIAL_MODE',\n",
    "                       'WEEKDAY_APPR_PROCESS_START']"
   ]
  },
  {
   "cell_type": "code",
   "execution_count": 239,
   "metadata": {
    "collapsed": false
   },
   "outputs": [],
   "source": [
    "for col in categorical_columns:\n",
    "    df[col] = df[col].astype('category')"
   ]
  },
  {
   "cell_type": "code",
   "execution_count": 240,
   "metadata": {
    "collapsed": false
   },
   "outputs": [],
   "source": [
    "for col in categorical_columns:\n",
    "    df[col] = pd.Categorical(df[col].cat.codes+1)"
   ]
  },
  {
   "cell_type": "code",
   "execution_count": 241,
   "metadata": {
    "collapsed": false
   },
   "outputs": [
    {
     "data": {
      "text/html": [
       "<div>\n",
       "<table border=\"1\" class=\"dataframe\">\n",
       "  <thead>\n",
       "    <tr style=\"text-align: right;\">\n",
       "      <th></th>\n",
       "      <th>CODE_GENDER</th>\n",
       "      <th>EMERGENCYSTATE_MODE</th>\n",
       "      <th>FLAG_CONT_MOBILE</th>\n",
       "      <th>FLAG_DOCUMENT_3</th>\n",
       "      <th>FLAG_DOCUMENT_4</th>\n",
       "      <th>FLAG_DOCUMENT_5</th>\n",
       "      <th>FLAG_DOCUMENT_6</th>\n",
       "      <th>FLAG_DOCUMENT_7</th>\n",
       "      <th>FLAG_DOCUMENT_8</th>\n",
       "      <th>FLAG_DOCUMENT_9</th>\n",
       "      <th>...</th>\n",
       "      <th>NAME_FAMILY_STATUS</th>\n",
       "      <th>NAME_HOUSING_TYPE</th>\n",
       "      <th>OCCUPATION_TYPE</th>\n",
       "      <th>ORGANIZATION_TYPE</th>\n",
       "      <th>REG_CITY_NOT_LIVE_CITY</th>\n",
       "      <th>REG_CITY_NOT_WORK_CITY</th>\n",
       "      <th>REG_REGION_NOT_LIVE_REGION</th>\n",
       "      <th>REG_REGION_NOT_WORK_REGION</th>\n",
       "      <th>WALLSMATERIAL_MODE</th>\n",
       "      <th>WEEKDAY_APPR_PROCESS_START</th>\n",
       "    </tr>\n",
       "  </thead>\n",
       "  <tbody>\n",
       "    <tr>\n",
       "      <th>0</th>\n",
       "      <td>2</td>\n",
       "      <td>1</td>\n",
       "      <td>2</td>\n",
       "      <td>2</td>\n",
       "      <td>1</td>\n",
       "      <td>1</td>\n",
       "      <td>1</td>\n",
       "      <td>1</td>\n",
       "      <td>1</td>\n",
       "      <td>1</td>\n",
       "      <td>...</td>\n",
       "      <td>4</td>\n",
       "      <td>2</td>\n",
       "      <td>9</td>\n",
       "      <td>6</td>\n",
       "      <td>1</td>\n",
       "      <td>1</td>\n",
       "      <td>1</td>\n",
       "      <td>1</td>\n",
       "      <td>6</td>\n",
       "      <td>7</td>\n",
       "    </tr>\n",
       "    <tr>\n",
       "      <th>1</th>\n",
       "      <td>1</td>\n",
       "      <td>1</td>\n",
       "      <td>2</td>\n",
       "      <td>2</td>\n",
       "      <td>1</td>\n",
       "      <td>1</td>\n",
       "      <td>1</td>\n",
       "      <td>1</td>\n",
       "      <td>1</td>\n",
       "      <td>1</td>\n",
       "      <td>...</td>\n",
       "      <td>2</td>\n",
       "      <td>2</td>\n",
       "      <td>4</td>\n",
       "      <td>40</td>\n",
       "      <td>1</td>\n",
       "      <td>1</td>\n",
       "      <td>1</td>\n",
       "      <td>1</td>\n",
       "      <td>1</td>\n",
       "      <td>2</td>\n",
       "    </tr>\n",
       "    <tr>\n",
       "      <th>2</th>\n",
       "      <td>2</td>\n",
       "      <td>0</td>\n",
       "      <td>2</td>\n",
       "      <td>1</td>\n",
       "      <td>1</td>\n",
       "      <td>1</td>\n",
       "      <td>1</td>\n",
       "      <td>1</td>\n",
       "      <td>1</td>\n",
       "      <td>1</td>\n",
       "      <td>...</td>\n",
       "      <td>4</td>\n",
       "      <td>2</td>\n",
       "      <td>9</td>\n",
       "      <td>12</td>\n",
       "      <td>1</td>\n",
       "      <td>1</td>\n",
       "      <td>1</td>\n",
       "      <td>1</td>\n",
       "      <td>0</td>\n",
       "      <td>2</td>\n",
       "    </tr>\n",
       "    <tr>\n",
       "      <th>3</th>\n",
       "      <td>1</td>\n",
       "      <td>0</td>\n",
       "      <td>2</td>\n",
       "      <td>2</td>\n",
       "      <td>1</td>\n",
       "      <td>1</td>\n",
       "      <td>1</td>\n",
       "      <td>1</td>\n",
       "      <td>1</td>\n",
       "      <td>1</td>\n",
       "      <td>...</td>\n",
       "      <td>1</td>\n",
       "      <td>2</td>\n",
       "      <td>9</td>\n",
       "      <td>6</td>\n",
       "      <td>1</td>\n",
       "      <td>1</td>\n",
       "      <td>1</td>\n",
       "      <td>1</td>\n",
       "      <td>0</td>\n",
       "      <td>7</td>\n",
       "    </tr>\n",
       "    <tr>\n",
       "      <th>4</th>\n",
       "      <td>2</td>\n",
       "      <td>0</td>\n",
       "      <td>2</td>\n",
       "      <td>1</td>\n",
       "      <td>1</td>\n",
       "      <td>1</td>\n",
       "      <td>1</td>\n",
       "      <td>1</td>\n",
       "      <td>2</td>\n",
       "      <td>1</td>\n",
       "      <td>...</td>\n",
       "      <td>4</td>\n",
       "      <td>2</td>\n",
       "      <td>4</td>\n",
       "      <td>38</td>\n",
       "      <td>1</td>\n",
       "      <td>2</td>\n",
       "      <td>1</td>\n",
       "      <td>1</td>\n",
       "      <td>0</td>\n",
       "      <td>5</td>\n",
       "    </tr>\n",
       "  </tbody>\n",
       "</table>\n",
       "<p>5 rows × 38 columns</p>\n",
       "</div>"
      ],
      "text/plain": [
       "  CODE_GENDER EMERGENCYSTATE_MODE FLAG_CONT_MOBILE FLAG_DOCUMENT_3  \\\n",
       "0           2                   1                2               2   \n",
       "1           1                   1                2               2   \n",
       "2           2                   0                2               1   \n",
       "3           1                   0                2               2   \n",
       "4           2                   0                2               1   \n",
       "\n",
       "  FLAG_DOCUMENT_4 FLAG_DOCUMENT_5 FLAG_DOCUMENT_6 FLAG_DOCUMENT_7  \\\n",
       "0               1               1               1               1   \n",
       "1               1               1               1               1   \n",
       "2               1               1               1               1   \n",
       "3               1               1               1               1   \n",
       "4               1               1               1               1   \n",
       "\n",
       "  FLAG_DOCUMENT_8 FLAG_DOCUMENT_9            ...              \\\n",
       "0               1               1            ...               \n",
       "1               1               1            ...               \n",
       "2               1               1            ...               \n",
       "3               1               1            ...               \n",
       "4               2               1            ...               \n",
       "\n",
       "  NAME_FAMILY_STATUS NAME_HOUSING_TYPE OCCUPATION_TYPE ORGANIZATION_TYPE  \\\n",
       "0                  4                 2               9                 6   \n",
       "1                  2                 2               4                40   \n",
       "2                  4                 2               9                12   \n",
       "3                  1                 2               9                 6   \n",
       "4                  4                 2               4                38   \n",
       "\n",
       "  REG_CITY_NOT_LIVE_CITY REG_CITY_NOT_WORK_CITY REG_REGION_NOT_LIVE_REGION  \\\n",
       "0                      1                      1                          1   \n",
       "1                      1                      1                          1   \n",
       "2                      1                      1                          1   \n",
       "3                      1                      1                          1   \n",
       "4                      1                      2                          1   \n",
       "\n",
       "  REG_REGION_NOT_WORK_REGION WALLSMATERIAL_MODE WEEKDAY_APPR_PROCESS_START  \n",
       "0                          1                  6                          7  \n",
       "1                          1                  1                          2  \n",
       "2                          1                  0                          2  \n",
       "3                          1                  0                          7  \n",
       "4                          1                  0                          5  \n",
       "\n",
       "[5 rows x 38 columns]"
      ]
     },
     "execution_count": 241,
     "metadata": {},
     "output_type": "execute_result"
    }
   ],
   "source": [
    "df[categorical_columns].head()"
   ]
  },
  {
   "cell_type": "code",
   "execution_count": 252,
   "metadata": {
    "collapsed": false
   },
   "outputs": [],
   "source": [
    "for col in categorical_columns:\n",
    "    df[col] = df[col].astype(int)"
   ]
  },
  {
   "cell_type": "code",
   "execution_count": 253,
   "metadata": {
    "collapsed": false
   },
   "outputs": [
    {
     "data": {
      "text/plain": [
       "(356255, 1022)"
      ]
     },
     "execution_count": 253,
     "metadata": {},
     "output_type": "execute_result"
    }
   ],
   "source": [
    "df.shape"
   ]
  },
  {
   "cell_type": "code",
   "execution_count": 254,
   "metadata": {
    "collapsed": false
   },
   "outputs": [
    {
     "data": {
      "text/plain": [
       "CODE_GENDER                    int64\n",
       "EMERGENCYSTATE_MODE            int64\n",
       "FLAG_CONT_MOBILE               int64\n",
       "FLAG_DOCUMENT_3                int64\n",
       "FLAG_DOCUMENT_4                int64\n",
       "FLAG_DOCUMENT_5                int64\n",
       "FLAG_DOCUMENT_6                int64\n",
       "FLAG_DOCUMENT_7                int64\n",
       "FLAG_DOCUMENT_8                int64\n",
       "FLAG_DOCUMENT_9                int64\n",
       "FLAG_DOCUMENT_11               int64\n",
       "FLAG_DOCUMENT_18               int64\n",
       "FLAG_EMAIL                     int64\n",
       "FLAG_EMP_PHONE                 int64\n",
       "FLAG_MOBIL                     int64\n",
       "FLAG_OWN_CAR                   int64\n",
       "FLAG_OWN_REALTY                int64\n",
       "FLAG_PHONE                     int64\n",
       "FLAG_WORK_PHONE                int64\n",
       "FONDKAPREMONT_MODE             int64\n",
       "HOUR_APPR_PROCESS_START        int64\n",
       "HOUSETYPE_MODE                 int64\n",
       "LIVE_CITY_NOT_WORK_CITY        int64\n",
       "LIVE_REGION_NOT_WORK_REGION    int64\n",
       "NAME_CONTRACT_TYPE             int64\n",
       "NAME_TYPE_SUITE                int64\n",
       "NAME_INCOME_TYPE               int64\n",
       "NAME_EDUCATION_TYPE            int64\n",
       "NAME_FAMILY_STATUS             int64\n",
       "NAME_HOUSING_TYPE              int64\n",
       "OCCUPATION_TYPE                int64\n",
       "ORGANIZATION_TYPE              int64\n",
       "REG_CITY_NOT_LIVE_CITY         int64\n",
       "REG_CITY_NOT_WORK_CITY         int64\n",
       "REG_REGION_NOT_LIVE_REGION     int64\n",
       "REG_REGION_NOT_WORK_REGION     int64\n",
       "WALLSMATERIAL_MODE             int64\n",
       "WEEKDAY_APPR_PROCESS_START     int64\n",
       "dtype: object"
      ]
     },
     "execution_count": 254,
     "metadata": {},
     "output_type": "execute_result"
    }
   ],
   "source": [
    "df[categorical_columns].dtypes"
   ]
  },
  {
   "cell_type": "code",
   "execution_count": 255,
   "metadata": {
    "collapsed": false
   },
   "outputs": [
    {
     "name": "stdout",
     "output_type": "stream",
     "text": [
      "Starting LightGBM. Train shape: (307511, 1022), test shape: (48744, 1022)\n"
     ]
    }
   ],
   "source": [
    "train_df = df[df['TARGET'].notnull()]\n",
    "test_df = df[df['TARGET'].isnull()]\n",
    "print(\"Starting LightGBM. Train shape: {}, test shape: {}\".format(train_df.shape, test_df.shape))"
   ]
  },
  {
   "cell_type": "code",
   "execution_count": 256,
   "metadata": {
    "collapsed": false
   },
   "outputs": [],
   "source": [
    "feats = [f for f in train_df.columns if f not in ['TARGET','SK_ID_CURR','SK_ID_BUREAU','SK_ID_PREV','index']]"
   ]
  },
  {
   "cell_type": "code",
   "execution_count": 257,
   "metadata": {
    "collapsed": false
   },
   "outputs": [
    {
     "data": {
      "text/plain": [
       "(307511, 1019)"
      ]
     },
     "execution_count": 257,
     "metadata": {},
     "output_type": "execute_result"
    }
   ],
   "source": [
    "train_df[feats].shape"
   ]
  },
  {
   "cell_type": "code",
   "execution_count": 258,
   "metadata": {
    "collapsed": false
   },
   "outputs": [
    {
     "data": {
      "text/plain": [
       "(48744, 38)"
      ]
     },
     "execution_count": 258,
     "metadata": {},
     "output_type": "execute_result"
    }
   ],
   "source": [
    "test_df[categorical_columns].shape"
   ]
  },
  {
   "cell_type": "code",
   "execution_count": 259,
   "metadata": {
    "collapsed": true
   },
   "outputs": [],
   "source": [
    "import lightgbm as lgb"
   ]
  },
  {
   "cell_type": "code",
   "execution_count": 270,
   "metadata": {
    "collapsed": false
   },
   "outputs": [
    {
     "name": "stdout",
     "output_type": "stream",
     "text": [
      "Training until validation scores don't improve for 100 rounds.\n",
      "[50]\ttrain's auc: 0.745666\tvalid's auc: 0.741921\n",
      "[100]\ttrain's auc: 0.756542\tvalid's auc: 0.750188\n",
      "[150]\ttrain's auc: 0.768493\tvalid's auc: 0.759182\n",
      "[200]\ttrain's auc: 0.777024\tvalid's auc: 0.765911\n",
      "[250]\ttrain's auc: 0.783373\tvalid's auc: 0.770635\n",
      "[300]\ttrain's auc: 0.788551\tvalid's auc: 0.774405\n",
      "[350]\ttrain's auc: 0.793195\tvalid's auc: 0.777429\n",
      "[400]\ttrain's auc: 0.797107\tvalid's auc: 0.779818\n",
      "[450]\ttrain's auc: 0.800655\tvalid's auc: 0.781767\n",
      "[500]\ttrain's auc: 0.803926\tvalid's auc: 0.783418\n",
      "[550]\ttrain's auc: 0.806805\tvalid's auc: 0.784603\n",
      "[600]\ttrain's auc: 0.80964\tvalid's auc: 0.785766\n",
      "[650]\ttrain's auc: 0.812371\tvalid's auc: 0.786743\n",
      "[700]\ttrain's auc: 0.815013\tvalid's auc: 0.787779\n",
      "[750]\ttrain's auc: 0.817563\tvalid's auc: 0.788674\n",
      "[800]\ttrain's auc: 0.819949\tvalid's auc: 0.789347\n",
      "[850]\ttrain's auc: 0.822401\tvalid's auc: 0.790124\n",
      "[900]\ttrain's auc: 0.824715\tvalid's auc: 0.7907\n",
      "[950]\ttrain's auc: 0.826909\tvalid's auc: 0.791259\n",
      "[1000]\ttrain's auc: 0.82904\tvalid's auc: 0.791672\n",
      "[1050]\ttrain's auc: 0.831111\tvalid's auc: 0.792202\n",
      "[1100]\ttrain's auc: 0.833093\tvalid's auc: 0.792543\n",
      "[1150]\ttrain's auc: 0.83508\tvalid's auc: 0.792893\n",
      "[1200]\ttrain's auc: 0.836986\tvalid's auc: 0.793181\n",
      "[1250]\ttrain's auc: 0.838879\tvalid's auc: 0.793475\n",
      "[1300]\ttrain's auc: 0.840721\tvalid's auc: 0.793759\n",
      "[1350]\ttrain's auc: 0.842527\tvalid's auc: 0.794019\n",
      "[1400]\ttrain's auc: 0.844271\tvalid's auc: 0.794253\n",
      "[1450]\ttrain's auc: 0.846002\tvalid's auc: 0.794473\n",
      "[1500]\ttrain's auc: 0.847666\tvalid's auc: 0.794617\n",
      "[1550]\ttrain's auc: 0.849287\tvalid's auc: 0.794761\n",
      "[1600]\ttrain's auc: 0.850914\tvalid's auc: 0.794774\n",
      "[1650]\ttrain's auc: 0.852513\tvalid's auc: 0.794954\n",
      "[1700]\ttrain's auc: 0.85403\tvalid's auc: 0.79509\n",
      "[1750]\ttrain's auc: 0.855536\tvalid's auc: 0.795212\n",
      "[1800]\ttrain's auc: 0.856904\tvalid's auc: 0.795317\n",
      "[1850]\ttrain's auc: 0.858323\tvalid's auc: 0.795407\n",
      "[1900]\ttrain's auc: 0.859714\tvalid's auc: 0.7955\n",
      "[1950]\ttrain's auc: 0.861067\tvalid's auc: 0.795516\n",
      "[2000]\ttrain's auc: 0.862423\tvalid's auc: 0.795548\n",
      "[2050]\ttrain's auc: 0.863738\tvalid's auc: 0.795642\n",
      "[2100]\ttrain's auc: 0.865033\tvalid's auc: 0.795682\n",
      "[2150]\ttrain's auc: 0.866342\tvalid's auc: 0.795734\n",
      "[2200]\ttrain's auc: 0.867587\tvalid's auc: 0.795719\n",
      "Early stopping, best iteration is:\n",
      "[2143]\ttrain's auc: 0.866155\tvalid's auc: 0.795743\n",
      "Fold  1 AUC : 0.795741\n",
      "Training until validation scores don't improve for 100 rounds.\n",
      "[50]\ttrain's auc: 0.745752\tvalid's auc: 0.740055\n",
      "[100]\ttrain's auc: 0.756457\tvalid's auc: 0.748851\n",
      "[150]\ttrain's auc: 0.767728\tvalid's auc: 0.75845\n",
      "[200]\ttrain's auc: 0.776903\tvalid's auc: 0.766092\n",
      "[250]\ttrain's auc: 0.783222\tvalid's auc: 0.770706\n",
      "[300]\ttrain's auc: 0.788637\tvalid's auc: 0.774273\n",
      "[350]\ttrain's auc: 0.79326\tvalid's auc: 0.777065\n",
      "[400]\ttrain's auc: 0.797361\tvalid's auc: 0.77946\n",
      "[450]\ttrain's auc: 0.800851\tvalid's auc: 0.781219\n",
      "[500]\ttrain's auc: 0.804084\tvalid's auc: 0.782739\n",
      "[550]\ttrain's auc: 0.807043\tvalid's auc: 0.783822\n",
      "[600]\ttrain's auc: 0.809931\tvalid's auc: 0.785011\n",
      "[650]\ttrain's auc: 0.81264\tvalid's auc: 0.785936\n",
      "[700]\ttrain's auc: 0.815291\tvalid's auc: 0.786853\n",
      "[750]\ttrain's auc: 0.817831\tvalid's auc: 0.787579\n",
      "[800]\ttrain's auc: 0.82026\tvalid's auc: 0.788322\n",
      "[850]\ttrain's auc: 0.822681\tvalid's auc: 0.789042\n",
      "[900]\ttrain's auc: 0.824934\tvalid's auc: 0.789534\n",
      "[950]\ttrain's auc: 0.827132\tvalid's auc: 0.790084\n",
      "[1000]\ttrain's auc: 0.829256\tvalid's auc: 0.790487\n",
      "[1050]\ttrain's auc: 0.831336\tvalid's auc: 0.790865\n",
      "[1100]\ttrain's auc: 0.833435\tvalid's auc: 0.791274\n",
      "[1150]\ttrain's auc: 0.83541\tvalid's auc: 0.791559\n",
      "[1200]\ttrain's auc: 0.837282\tvalid's auc: 0.791853\n",
      "[1250]\ttrain's auc: 0.839196\tvalid's auc: 0.792148\n",
      "[1300]\ttrain's auc: 0.841063\tvalid's auc: 0.792385\n",
      "[1350]\ttrain's auc: 0.842894\tvalid's auc: 0.792623\n",
      "[1400]\ttrain's auc: 0.84462\tvalid's auc: 0.792852\n",
      "[1450]\ttrain's auc: 0.846397\tvalid's auc: 0.793056\n",
      "[1500]\ttrain's auc: 0.848045\tvalid's auc: 0.793218\n",
      "[1550]\ttrain's auc: 0.84965\tvalid's auc: 0.7933\n",
      "[1600]\ttrain's auc: 0.851282\tvalid's auc: 0.793425\n",
      "[1650]\ttrain's auc: 0.852813\tvalid's auc: 0.793602\n",
      "[1700]\ttrain's auc: 0.854355\tvalid's auc: 0.793764\n",
      "[1750]\ttrain's auc: 0.855875\tvalid's auc: 0.793925\n",
      "[1800]\ttrain's auc: 0.857304\tvalid's auc: 0.793983\n",
      "[1850]\ttrain's auc: 0.858711\tvalid's auc: 0.794062\n",
      "[1900]\ttrain's auc: 0.860101\tvalid's auc: 0.794148\n",
      "[1950]\ttrain's auc: 0.861451\tvalid's auc: 0.794237\n",
      "[2000]\ttrain's auc: 0.862791\tvalid's auc: 0.794363\n",
      "[2050]\ttrain's auc: 0.864142\tvalid's auc: 0.794423\n",
      "[2100]\ttrain's auc: 0.865445\tvalid's auc: 0.79443\n",
      "[2150]\ttrain's auc: 0.866678\tvalid's auc: 0.794425\n",
      "Early stopping, best iteration is:\n",
      "[2079]\ttrain's auc: 0.864916\tvalid's auc: 0.794474\n",
      "Fold  2 AUC : 0.794473\n",
      "Training until validation scores don't improve for 100 rounds.\n",
      "[50]\ttrain's auc: 0.746308\tvalid's auc: 0.733708\n",
      "[100]\ttrain's auc: 0.757623\tvalid's auc: 0.742831\n",
      "[150]\ttrain's auc: 0.769465\tvalid's auc: 0.752725\n",
      "[200]\ttrain's auc: 0.778544\tvalid's auc: 0.759837\n",
      "[250]\ttrain's auc: 0.785037\tvalid's auc: 0.764196\n",
      "[300]\ttrain's auc: 0.790378\tvalid's auc: 0.767819\n",
      "[350]\ttrain's auc: 0.794898\tvalid's auc: 0.77047\n",
      "[400]\ttrain's auc: 0.798836\tvalid's auc: 0.772661\n",
      "[450]\ttrain's auc: 0.802312\tvalid's auc: 0.774154\n",
      "[500]\ttrain's auc: 0.805505\tvalid's auc: 0.775521\n",
      "[550]\ttrain's auc: 0.808438\tvalid's auc: 0.776689\n",
      "[600]\ttrain's auc: 0.81132\tvalid's auc: 0.777927\n",
      "[650]\ttrain's auc: 0.814153\tvalid's auc: 0.778794\n",
      "[700]\ttrain's auc: 0.816717\tvalid's auc: 0.779704\n",
      "[750]\ttrain's auc: 0.819285\tvalid's auc: 0.780526\n",
      "[800]\ttrain's auc: 0.821731\tvalid's auc: 0.781207\n",
      "[850]\ttrain's auc: 0.824097\tvalid's auc: 0.781825\n",
      "[900]\ttrain's auc: 0.826355\tvalid's auc: 0.782334\n",
      "[950]\ttrain's auc: 0.828526\tvalid's auc: 0.782763\n",
      "[1000]\ttrain's auc: 0.830599\tvalid's auc: 0.783192\n",
      "[1050]\ttrain's auc: 0.832696\tvalid's auc: 0.7836\n",
      "[1100]\ttrain's auc: 0.83474\tvalid's auc: 0.783928\n",
      "[1150]\ttrain's auc: 0.836645\tvalid's auc: 0.784228\n",
      "[1200]\ttrain's auc: 0.838498\tvalid's auc: 0.784547\n",
      "[1250]\ttrain's auc: 0.840392\tvalid's auc: 0.784752\n",
      "[1300]\ttrain's auc: 0.842128\tvalid's auc: 0.784957\n",
      "[1350]\ttrain's auc: 0.843929\tvalid's auc: 0.785065\n",
      "[1400]\ttrain's auc: 0.845694\tvalid's auc: 0.785248\n",
      "[1450]\ttrain's auc: 0.847387\tvalid's auc: 0.785361\n",
      "[1500]\ttrain's auc: 0.849022\tvalid's auc: 0.785518\n",
      "[1550]\ttrain's auc: 0.85062\tvalid's auc: 0.785753\n",
      "[1600]\ttrain's auc: 0.852221\tvalid's auc: 0.785903\n",
      "[1650]\ttrain's auc: 0.853771\tvalid's auc: 0.786033\n",
      "[1700]\ttrain's auc: 0.855308\tvalid's auc: 0.786111\n",
      "[1750]\ttrain's auc: 0.856798\tvalid's auc: 0.786229\n",
      "[1800]\ttrain's auc: 0.858249\tvalid's auc: 0.786351\n",
      "[1850]\ttrain's auc: 0.859603\tvalid's auc: 0.786436\n",
      "[1900]\ttrain's auc: 0.861011\tvalid's auc: 0.786637\n",
      "[1950]\ttrain's auc: 0.862354\tvalid's auc: 0.786689\n",
      "[2000]\ttrain's auc: 0.863661\tvalid's auc: 0.786813\n",
      "[2050]\ttrain's auc: 0.864962\tvalid's auc: 0.786897\n",
      "[2100]\ttrain's auc: 0.866242\tvalid's auc: 0.786937\n",
      "[2150]\ttrain's auc: 0.867475\tvalid's auc: 0.786967\n",
      "[2200]\ttrain's auc: 0.868662\tvalid's auc: 0.786998\n",
      "[2250]\ttrain's auc: 0.869906\tvalid's auc: 0.787134\n",
      "[2300]\ttrain's auc: 0.871095\tvalid's auc: 0.787161\n",
      "[2350]\ttrain's auc: 0.87237\tvalid's auc: 0.787088\n",
      "[2400]\ttrain's auc: 0.873526\tvalid's auc: 0.787155\n",
      "[2450]\ttrain's auc: 0.874709\tvalid's auc: 0.787246\n",
      "[2500]\ttrain's auc: 0.875849\tvalid's auc: 0.787324\n",
      "[2550]\ttrain's auc: 0.876962\tvalid's auc: 0.78738\n",
      "[2600]\ttrain's auc: 0.878051\tvalid's auc: 0.787362\n",
      "[2650]\ttrain's auc: 0.879194\tvalid's auc: 0.787378\n",
      "Early stopping, best iteration is:\n",
      "[2560]\ttrain's auc: 0.877184\tvalid's auc: 0.787409\n",
      "Fold  3 AUC : 0.787410\n",
      "Training until validation scores don't improve for 100 rounds.\n",
      "[50]\ttrain's auc: 0.745349\tvalid's auc: 0.742524\n",
      "[100]\ttrain's auc: 0.757431\tvalid's auc: 0.750919\n",
      "[150]\ttrain's auc: 0.768681\tvalid's auc: 0.758461\n",
      "[200]\ttrain's auc: 0.777522\tvalid's auc: 0.764942\n",
      "[250]\ttrain's auc: 0.783895\tvalid's auc: 0.769083\n",
      "[300]\ttrain's auc: 0.789393\tvalid's auc: 0.772627\n",
      "[350]\ttrain's auc: 0.794151\tvalid's auc: 0.775303\n",
      "[400]\ttrain's auc: 0.798144\tvalid's auc: 0.777381\n",
      "[450]\ttrain's auc: 0.801753\tvalid's auc: 0.779033\n",
      "[500]\ttrain's auc: 0.805042\tvalid's auc: 0.780455\n",
      "[550]\ttrain's auc: 0.808032\tvalid's auc: 0.781502\n",
      "[600]\ttrain's auc: 0.810915\tvalid's auc: 0.782658\n",
      "[650]\ttrain's auc: 0.813692\tvalid's auc: 0.783478\n",
      "[700]\ttrain's auc: 0.816334\tvalid's auc: 0.784242\n",
      "[750]\ttrain's auc: 0.818824\tvalid's auc: 0.784926\n",
      "[800]\ttrain's auc: 0.821305\tvalid's auc: 0.785479\n",
      "[850]\ttrain's auc: 0.823695\tvalid's auc: 0.786105\n",
      "[900]\ttrain's auc: 0.826032\tvalid's auc: 0.786468\n",
      "[950]\ttrain's auc: 0.828197\tvalid's auc: 0.786921\n",
      "[1000]\ttrain's auc: 0.830332\tvalid's auc: 0.78727\n",
      "[1050]\ttrain's auc: 0.832416\tvalid's auc: 0.787555\n",
      "[1100]\ttrain's auc: 0.834446\tvalid's auc: 0.787962\n",
      "[1150]\ttrain's auc: 0.836426\tvalid's auc: 0.788342\n",
      "[1200]\ttrain's auc: 0.838342\tvalid's auc: 0.788646\n",
      "[1250]\ttrain's auc: 0.840238\tvalid's auc: 0.788989\n",
      "[1300]\ttrain's auc: 0.842016\tvalid's auc: 0.789155\n",
      "[1350]\ttrain's auc: 0.843854\tvalid's auc: 0.789389\n",
      "[1400]\ttrain's auc: 0.845594\tvalid's auc: 0.789553\n",
      "[1450]\ttrain's auc: 0.847276\tvalid's auc: 0.789712\n",
      "[1500]\ttrain's auc: 0.848902\tvalid's auc: 0.789814\n",
      "[1550]\ttrain's auc: 0.850521\tvalid's auc: 0.789897\n",
      "[1600]\ttrain's auc: 0.852117\tvalid's auc: 0.790027\n",
      "[1650]\ttrain's auc: 0.853696\tvalid's auc: 0.790077\n",
      "[1700]\ttrain's auc: 0.855275\tvalid's auc: 0.790171\n",
      "[1750]\ttrain's auc: 0.856736\tvalid's auc: 0.790249\n",
      "[1800]\ttrain's auc: 0.858155\tvalid's auc: 0.790286\n",
      "[1850]\ttrain's auc: 0.859516\tvalid's auc: 0.790323\n",
      "[1900]\ttrain's auc: 0.860916\tvalid's auc: 0.790399\n",
      "[1950]\ttrain's auc: 0.862318\tvalid's auc: 0.790505\n",
      "[2000]\ttrain's auc: 0.863664\tvalid's auc: 0.790592\n",
      "[2050]\ttrain's auc: 0.864976\tvalid's auc: 0.790689\n",
      "[2100]\ttrain's auc: 0.866283\tvalid's auc: 0.790794\n",
      "[2150]\ttrain's auc: 0.867524\tvalid's auc: 0.790775\n",
      "[2200]\ttrain's auc: 0.868741\tvalid's auc: 0.790841\n",
      "[2250]\ttrain's auc: 0.870014\tvalid's auc: 0.790923\n",
      "[2300]\ttrain's auc: 0.871253\tvalid's auc: 0.790914\n",
      "[2350]\ttrain's auc: 0.872434\tvalid's auc: 0.79093\n",
      "[2400]\ttrain's auc: 0.87361\tvalid's auc: 0.790916\n",
      "Early stopping, best iteration is:\n",
      "[2329]\ttrain's auc: 0.871903\tvalid's auc: 0.790961\n",
      "Fold  4 AUC : 0.790960\n",
      "Training until validation scores don't improve for 100 rounds.\n",
      "[50]\ttrain's auc: 0.744469\tvalid's auc: 0.745214\n",
      "[100]\ttrain's auc: 0.755932\tvalid's auc: 0.753077\n",
      "[150]\ttrain's auc: 0.767772\tvalid's auc: 0.762593\n",
      "[200]\ttrain's auc: 0.776865\tvalid's auc: 0.769376\n",
      "[250]\ttrain's auc: 0.783416\tvalid's auc: 0.773665\n",
      "[300]\ttrain's auc: 0.788833\tvalid's auc: 0.776852\n",
      "[350]\ttrain's auc: 0.793468\tvalid's auc: 0.779205\n",
      "[400]\ttrain's auc: 0.797365\tvalid's auc: 0.781059\n",
      "[450]\ttrain's auc: 0.800871\tvalid's auc: 0.782545\n",
      "[500]\ttrain's auc: 0.804156\tvalid's auc: 0.783713\n",
      "[550]\ttrain's auc: 0.807066\tvalid's auc: 0.784674\n",
      "[600]\ttrain's auc: 0.810002\tvalid's auc: 0.785751\n",
      "[650]\ttrain's auc: 0.812802\tvalid's auc: 0.786568\n",
      "[700]\ttrain's auc: 0.815416\tvalid's auc: 0.787413\n",
      "[750]\ttrain's auc: 0.817987\tvalid's auc: 0.788111\n",
      "[800]\ttrain's auc: 0.820447\tvalid's auc: 0.788633\n",
      "[850]\ttrain's auc: 0.822873\tvalid's auc: 0.789226\n",
      "[900]\ttrain's auc: 0.825153\tvalid's auc: 0.789775\n",
      "[950]\ttrain's auc: 0.82732\tvalid's auc: 0.790096\n",
      "[1000]\ttrain's auc: 0.829464\tvalid's auc: 0.790434\n",
      "[1050]\ttrain's auc: 0.831565\tvalid's auc: 0.790779\n",
      "[1100]\ttrain's auc: 0.833641\tvalid's auc: 0.791058\n",
      "[1150]\ttrain's auc: 0.835635\tvalid's auc: 0.791421\n",
      "[1200]\ttrain's auc: 0.837568\tvalid's auc: 0.7917\n",
      "[1250]\ttrain's auc: 0.839481\tvalid's auc: 0.79199\n",
      "[1300]\ttrain's auc: 0.841321\tvalid's auc: 0.792171\n",
      "[1350]\ttrain's auc: 0.843084\tvalid's auc: 0.792342\n",
      "[1400]\ttrain's auc: 0.844785\tvalid's auc: 0.792448\n",
      "[1450]\ttrain's auc: 0.846502\tvalid's auc: 0.792549\n",
      "[1500]\ttrain's auc: 0.848148\tvalid's auc: 0.792703\n",
      "[1550]\ttrain's auc: 0.849822\tvalid's auc: 0.79287\n",
      "[1600]\ttrain's auc: 0.851394\tvalid's auc: 0.793023\n",
      "[1650]\ttrain's auc: 0.852941\tvalid's auc: 0.793106\n",
      "[1700]\ttrain's auc: 0.854555\tvalid's auc: 0.793246\n",
      "[1750]\ttrain's auc: 0.856074\tvalid's auc: 0.793346\n",
      "[1800]\ttrain's auc: 0.857534\tvalid's auc: 0.793409\n",
      "[1850]\ttrain's auc: 0.858921\tvalid's auc: 0.7935\n",
      "[1900]\ttrain's auc: 0.860311\tvalid's auc: 0.793534\n",
      "[1950]\ttrain's auc: 0.861701\tvalid's auc: 0.793665\n",
      "[2000]\ttrain's auc: 0.863085\tvalid's auc: 0.793699\n",
      "[2050]\ttrain's auc: 0.86443\tvalid's auc: 0.793782\n",
      "[2100]\ttrain's auc: 0.86575\tvalid's auc: 0.793797\n",
      "[2150]\ttrain's auc: 0.867042\tvalid's auc: 0.793882\n",
      "[2200]\ttrain's auc: 0.868265\tvalid's auc: 0.793817\n",
      "Early stopping, best iteration is:\n",
      "[2128]\ttrain's auc: 0.866492\tvalid's auc: 0.793893\n",
      "Fold  5 AUC : 0.793893\n",
      "Full AUC score 0.792494\n"
     ]
    }
   ],
   "source": [
    "folds = KFold(n_splits= 5, shuffle=True, random_state=1001)\n",
    "    # Create arrays and dataframes to store results\n",
    "oof_preds = np.zeros(train_df.shape[0])\n",
    "sub_preds = np.zeros(test_df.shape[0])\n",
    "feature_importance_df = pd.DataFrame()\n",
    "    \n",
    "for n_fold, (train_idx, valid_idx) in enumerate(folds.split(train_df[feats], train_df['TARGET'])):\n",
    "    dtrain = lgb.Dataset(data=train_df[feats].iloc[train_idx], \n",
    "                         label=train_df['TARGET'].iloc[train_idx],\n",
    "                         feature_name=feats,\n",
    "                         categorical_feature=categorical_columns)\n",
    "    dvalid = lgb.Dataset(data=train_df[feats].iloc[valid_idx],\n",
    "                         label=train_df['TARGET'].iloc[valid_idx],\n",
    "                         feature_name=feats,\n",
    "                         categorical_feature=categorical_columns)\n",
    "    params = {'boosting_type': 'gbdt',\n",
    "              'objective': 'binary',\n",
    "              'metric':'auc',\n",
    "              'learning_rate': 0.02,\n",
    "              'num_leaves': 30, \n",
    "              'max_depth': -1,  \n",
    "              'min_child_samples': 70,  \n",
    "              'max_bin': 300,  \n",
    "              'subsample': 1.0,  \n",
    "              'subsample_freq': 1,  \n",
    "              'colsample_bytree': 0.05,  \n",
    "              'min_split_gain': 0.5,\n",
    "              'min_child_weight': 4,\n",
    "              'reg_lambda': 100.0,\n",
    "              'reg_alpha': 0.0,\n",
    "              'scale_pos_weight':1, \n",
    "              'is_balance': False,\n",
    "              'nthread': 8,\n",
    "              'verbose': -1,}\n",
    "    \n",
    "    clf = lgb.train(params, \n",
    "                      dtrain, \n",
    "                      valid_sets=[dtrain, dvalid], \n",
    "                      valid_names=['train','valid'],\n",
    "                      num_boost_round=5000,\n",
    "                      early_stopping_rounds=100,\n",
    "                      verbose_eval=50)\n",
    "\n",
    "    oof_preds[valid_idx] = clf.predict(train_df[feats].iloc[valid_idx])\n",
    "    sub_preds += clf.predict(test_df[feats]) / folds.n_splits\n",
    "\n",
    "    fold_importance_df = pd.DataFrame()\n",
    "    fold_importance_df[\"feature\"] = feats\n",
    "    fold_importance_df[\"importance\"] = clf.feature_importance(importance_type='gain')\n",
    "    fold_importance_df[\"fold\"] = n_fold + 1\n",
    "    feature_importance_df = pd.concat([feature_importance_df, fold_importance_df], axis=0)\n",
    "    print('Fold %2d AUC : %.6f' % (n_fold + 1, roc_auc_score(train_df['TARGET'].iloc[valid_idx], oof_preds[valid_idx])))\n",
    "    del clf, dtrain, dvalid\n",
    "    gc.collect()\n",
    "\n",
    "print('Full AUC score %.6f' % roc_auc_score(train_df['TARGET'], oof_preds))\n",
    "    # Write submission file and plot feature importance\n",
    "sub_df = test_df[['SK_ID_CURR']].copy()\n",
    "sub_df['TARGET'] = sub_preds\n",
    "sub_df[['SK_ID_CURR', 'TARGET']].to_csv('submission_1000feature.csv', index= False)"
   ]
  },
  {
   "cell_type": "code",
   "execution_count": 271,
   "metadata": {
    "collapsed": false
   },
   "outputs": [
    {
     "data": {
      "image/png": "[encoded data removed]",
      "text/plain": [
       "<matplotlib.figure.Figure at 0x10f64bbd0>"
      ]
     },
     "metadata": {},
     "output_type": "display_data"
    }
   ],
   "source": [
    "cols = feature_importance_df[[\"feature\", \"importance\"]].groupby(\"feature\").mean().sort_values(by=\"importance\", ascending=False)[:40].index\n",
    "best_features = feature_importance_df.loc[feature_importance_df.feature.isin(cols)]\n",
    "plt.figure(figsize=(8, 10))\n",
    "sns.barplot(x=\"importance\", y=\"feature\", data=best_features.sort_values(by=\"importance\", ascending=False))\n",
    "plt.title('LightGBM Features (avg over folds)')\n",
    "plt.tight_layout\n",
    "plt.show()"
   ]
  },
  {
   "cell_type": "code",
   "execution_count": 272,
   "metadata": {
    "collapsed": true
   },
   "outputs": [],
   "source": [
    "feature_importance_df.to_csv('feature_importance_lgb1000features.csv', index=False)"
   ]
  },
  {
   "cell_type": "code",
   "execution_count": 273,
   "metadata": {
    "collapsed": true
   },
   "outputs": [],
   "source": [
    "feature_sort=best_features.sort_values(by=\"importance\", ascending=False)"
   ]
  },
  {
   "cell_type": "code",
   "execution_count": 278,
   "metadata": {
    "collapsed": true
   },
   "outputs": [],
   "source": [
    "USELESS_COLUMNS = ['FLAG_DOCUMENT_10',\n",
    "                   'FLAG_DOCUMENT_12',\n",
    "                   'FLAG_DOCUMENT_13',\n",
    "                   'FLAG_DOCUMENT_14',\n",
    "                   'FLAG_DOCUMENT_15',\n",
    "                   'FLAG_DOCUMENT_16',\n",
    "                   'FLAG_DOCUMENT_17',\n",
    "                   'FLAG_DOCUMENT_19',\n",
    "                   'FLAG_DOCUMENT_2',\n",
    "                   'FLAG_DOCUMENT_20',\n",
    "                   'FLAG_DOCUMENT_21']"
   ]
  },
  {
   "cell_type": "code",
   "execution_count": 282,
   "metadata": {
    "collapsed": true
   },
   "outputs": [],
   "source": [
    "df= df.drop(USELESS_COLUMNS,axis=1)"
   ]
  },
  {
   "cell_type": "code",
   "execution_count": 283,
   "metadata": {
    "collapsed": false
   },
   "outputs": [
    {
     "data": {
      "text/plain": [
       "(356255, 1011)"
      ]
     },
     "execution_count": 283,
     "metadata": {},
     "output_type": "execute_result"
    }
   ],
   "source": [
    "df.shape"
   ]
  },
  {
   "cell_type": "code",
   "execution_count": 284,
   "metadata": {
    "collapsed": false
   },
   "outputs": [
    {
     "name": "stdout",
     "output_type": "stream",
     "text": [
      "Starting LightGBM. Train shape: (307511, 1011), test shape: (48744, 1011)\n"
     ]
    }
   ],
   "source": [
    "train_df = df[df['TARGET'].notnull()]\n",
    "test_df = df[df['TARGET'].isnull()]\n",
    "print(\"Starting LightGBM. Train shape: {}, test shape: {}\".format(train_df.shape, test_df.shape))"
   ]
  },
  {
   "cell_type": "code",
   "execution_count": 285,
   "metadata": {
    "collapsed": true
   },
   "outputs": [],
   "source": [
    "feats = [f for f in train_df.columns if f not in ['TARGET','SK_ID_CURR','SK_ID_BUREAU','SK_ID_PREV','index']]"
   ]
  },
  {
   "cell_type": "code",
   "execution_count": 286,
   "metadata": {
    "collapsed": true
   },
   "outputs": [],
   "source": [
    "categorical_columns=['CODE_GENDER',\n",
    "                       'EMERGENCYSTATE_MODE',\n",
    "                       'FLAG_CONT_MOBILE',\n",
    "                       'FLAG_DOCUMENT_3',\n",
    "                       'FLAG_DOCUMENT_4',\n",
    "                       'FLAG_DOCUMENT_5',\n",
    "                       'FLAG_DOCUMENT_6',\n",
    "                       'FLAG_DOCUMENT_7',\n",
    "                       'FLAG_DOCUMENT_8',\n",
    "                       'FLAG_DOCUMENT_9',\n",
    "                       'FLAG_DOCUMENT_11',\n",
    "                       'FLAG_DOCUMENT_18',\n",
    "                       'FLAG_EMAIL',\n",
    "                       'FLAG_EMP_PHONE',\n",
    "                       'FLAG_MOBIL',\n",
    "                       'FLAG_OWN_CAR',\n",
    "                       'FLAG_OWN_REALTY',\n",
    "                       'FLAG_PHONE',\n",
    "                       'FLAG_WORK_PHONE',\n",
    "                       'FONDKAPREMONT_MODE',\n",
    "                       'HOUR_APPR_PROCESS_START',\n",
    "                       'HOUSETYPE_MODE',\n",
    "                       'LIVE_CITY_NOT_WORK_CITY',\n",
    "                       'LIVE_REGION_NOT_WORK_REGION',\n",
    "                       'NAME_CONTRACT_TYPE',\n",
    "                       'NAME_TYPE_SUITE',\n",
    "                       'NAME_INCOME_TYPE',\n",
    "                       'NAME_EDUCATION_TYPE',\n",
    "                       'NAME_FAMILY_STATUS',\n",
    "                       'NAME_HOUSING_TYPE',\n",
    "                       'OCCUPATION_TYPE',\n",
    "                       'ORGANIZATION_TYPE',\n",
    "                       'REG_CITY_NOT_LIVE_CITY',\n",
    "                       'REG_CITY_NOT_WORK_CITY',\n",
    "                       'REG_REGION_NOT_LIVE_REGION',\n",
    "                       'REG_REGION_NOT_WORK_REGION',\n",
    "                       'WALLSMATERIAL_MODE',\n",
    "                       'WEEKDAY_APPR_PROCESS_START']"
   ]
  },
  {
   "cell_type": "code",
   "execution_count": null,
   "metadata": {
    "collapsed": false
   },
   "outputs": [
    {
     "name": "stdout",
     "output_type": "stream",
     "text": [
      "Training until validation scores don't improve for 100 rounds.\n",
      "[50]\ttrain's auc: 0.744481\tvalid's auc: 0.740819\n",
      "[100]\ttrain's auc: 0.758238\tvalid's auc: 0.751723\n",
      "[150]\ttrain's auc: 0.76862\tvalid's auc: 0.759116\n",
      "[200]\ttrain's auc: 0.776346\tvalid's auc: 0.765317\n",
      "[250]\ttrain's auc: 0.782774\tvalid's auc: 0.769979\n",
      "[300]\ttrain's auc: 0.788523\tvalid's auc: 0.774293\n",
      "[350]\ttrain's auc: 0.792699\tvalid's auc: 0.776773\n",
      "[400]\ttrain's auc: 0.796557\tvalid's auc: 0.779238\n",
      "[450]\ttrain's auc: 0.800016\tvalid's auc: 0.78108\n",
      "[500]\ttrain's auc: 0.803396\tvalid's auc: 0.782741\n",
      "[550]\ttrain's auc: 0.806559\tvalid's auc: 0.784184\n",
      "[600]\ttrain's auc: 0.809552\tvalid's auc: 0.785581\n",
      "[650]\ttrain's auc: 0.812308\tvalid's auc: 0.786713\n",
      "[700]\ttrain's auc: 0.815072\tvalid's auc: 0.787727\n",
      "[750]\ttrain's auc: 0.817655\tvalid's auc: 0.788841\n",
      "[800]\ttrain's auc: 0.82016\tvalid's auc: 0.789605\n",
      "[850]\ttrain's auc: 0.822508\tvalid's auc: 0.790227\n",
      "[900]\ttrain's auc: 0.824827\tvalid's auc: 0.790889\n",
      "[950]\ttrain's auc: 0.827081\tvalid's auc: 0.791477\n",
      "[1000]\ttrain's auc: 0.8293\tvalid's auc: 0.791837\n",
      "[1050]\ttrain's auc: 0.831398\tvalid's auc: 0.792242\n",
      "[1100]\ttrain's auc: 0.833402\tvalid's auc: 0.792597\n"
     ]
    }
   ],
   "source": [
    "folds = KFold(n_splits= 5, shuffle=True, random_state=1001)\n",
    "    # Create arrays and dataframes to store results\n",
    "oof_preds = np.zeros(train_df.shape[0])\n",
    "sub_preds = np.zeros(test_df.shape[0])\n",
    "feature_importance_df = pd.DataFrame()\n",
    "    \n",
    "for n_fold, (train_idx, valid_idx) in enumerate(folds.split(train_df[feats], train_df['TARGET'])):\n",
    "    dtrain = lgb.Dataset(data=train_df[feats].iloc[train_idx], \n",
    "                         label=train_df['TARGET'].iloc[train_idx],\n",
    "                         feature_name=feats,\n",
    "                         categorical_feature=categorical_columns)\n",
    "    dvalid = lgb.Dataset(data=train_df[feats].iloc[valid_idx],\n",
    "                         label=train_df['TARGET'].iloc[valid_idx],\n",
    "                         feature_name=feats,\n",
    "                         categorical_feature=categorical_columns)\n",
    "    params = {'boosting_type': 'gbdt',\n",
    "              'objective': 'binary',\n",
    "              'metric':'auc',\n",
    "              'learning_rate': 0.02,\n",
    "              'num_leaves': 30, \n",
    "              'max_depth': -1,  \n",
    "              'min_child_samples': 70,  \n",
    "              'max_bin': 300,  \n",
    "              'subsample': 1.0,  \n",
    "              'subsample_freq': 1,  \n",
    "              'colsample_bytree': 0.05,  \n",
    "              'min_split_gain': 0.5,\n",
    "              'min_child_weight': 4,\n",
    "              'reg_lambda': 100.0,\n",
    "              'reg_alpha': 0.0,\n",
    "              'scale_pos_weight':1, \n",
    "              'is_balance': False,\n",
    "              'nthread': 8,\n",
    "              'verbose': -1,}\n",
    "    \n",
    "    clf = lgb.train(params, \n",
    "                      dtrain, \n",
    "                      valid_sets=[dtrain, dvalid], \n",
    "                      valid_names=['train','valid'],\n",
    "                      num_boost_round=5000,\n",
    "                      early_stopping_rounds=100,\n",
    "                      verbose_eval=50)\n",
    "\n",
    "    oof_preds[valid_idx] = clf.predict(train_df[feats].iloc[valid_idx])\n",
    "    sub_preds += clf.predict(test_df[feats]) / folds.n_splits\n",
    "\n",
    "    fold_importance_df = pd.DataFrame()\n",
    "    fold_importance_df[\"feature\"] = feats\n",
    "    fold_importance_df[\"importance\"] = clf.feature_importance(importance_type='gain')\n",
    "    fold_importance_df[\"fold\"] = n_fold + 1\n",
    "    feature_importance_df = pd.concat([feature_importance_df, fold_importance_df], axis=0)\n",
    "    print('Fold %2d AUC : %.6f' % (n_fold + 1, roc_auc_score(train_df['TARGET'].iloc[valid_idx], oof_preds[valid_idx])))\n",
    "    del clf, dtrain, dvalid\n",
    "    gc.collect()\n",
    "\n",
    "print('Full AUC score %.6f' % roc_auc_score(train_df['TARGET'], oof_preds))\n",
    "    # Write submission file and plot feature importance\n",
    "sub_df = test_df[['SK_ID_CURR']].copy()\n",
    "sub_df['TARGET'] = sub_preds\n",
    "sub_df[['SK_ID_CURR', 'TARGET']].to_csv('submission_1000feature_drop.csv', index= False)"
   ]
  },
  {
   "cell_type": "code",
   "execution_count": null,
   "metadata": {
    "collapsed": true
   },
   "outputs": [],
   "source": []
  }
 ],
 "metadata": {
  "kernelspec": {
   "display_name": "Python 2",
   "language": "python",
   "name": "python2"
  },
  "language_info": {
   "codemirror_mode": {
    "name": "ipython",
    "version": 2
   },
   "file_extension": ".py",
   "mimetype": "text/x-python",
   "name": "python",
   "nbconvert_exporter": "python",
   "pygments_lexer": "ipython2",
   "version": "2.7.13"
  },
  "widgets": {
   "state": {
    "2e993680687c4d29adaecbfca5dceb13": {
     "views": [
      {
       "cell_index": 74
      }
     ]
    },
    "31b9c9965efc441cb09bd9275cb4ad66": {
     "views": [
      {
       "cell_index": 50
      }
     ]
    },
    "33123a46c4f44d27a07f0dfdaa9c6b2a": {
     "views": [
      {
       "cell_index": 11
      }
     ]
    },
    "34542744bebb405f8b39b2abecc2e44b": {
     "views": [
      {
       "cell_index": 11
      }
     ]
    },
    "385df4e2f82741628997c1525328a4a4": {
     "views": [
      {
       "cell_index": 11
      }
     ]
    },
    "511131f375cb499586c19c64ea4d4b65": {
     "views": [
      {
       "cell_index": 15
      }
     ]
    },
    "53f04afdcfb14c7290269da2f11a532d": {
     "views": [
      {
       "cell_index": 50
      }
     ]
    },
    "579ef0adc80f44e58569acfac9366bf6": {
     "views": [
      {
       "cell_index": 80
      }
     ]
    },
    "62bfcda0f3cf4f18b5c756c7811ffb00": {
     "views": [
      {
       "cell_index": 15
      }
     ]
    },
    "85339620705e4612bbfb53ad2014ccf2": {
     "views": [
      {
       "cell_index": 15
      }
     ]
    },
    "8e7693ff050e4e75854d2bc6a4c25509": {
     "views": [
      {
       "cell_index": 15
      }
     ]
    },
    "9c316131ccbd44b0be2abff0b179014d": {
     "views": [
      {
       "cell_index": 15
      }
     ]
    },
    "9c901cbd473248d8a5db8c4d53162aed": {
     "views": [
      {
       "cell_index": 74
      }
     ]
    },
    "9dfaa34c2dad4a42adfb61971894337e": {
     "views": [
      {
       "cell_index": 15
      }
     ]
    },
    "a832fb44a84c4fae9df693768b4751fe": {
     "views": [
      {
       "cell_index": 80
      }
     ]
    },
    "bc08a944947c4f1686183c464e6fa68c": {
     "views": [
      {
       "cell_index": 11
      }
     ]
    },
    "c78743f36ab349c0b3e62e8da4cb1851": {
     "views": [
      {
       "cell_index": 11
      }
     ]
    },
    "dda12bcdc7774675a704d3ce8f6ed351": {
     "views": [
      {
       "cell_index": 15
      }
     ]
    },
    "ef4516bfd3c040dabe5c9ef0cd817cd0": {
     "views": [
      {
       "cell_index": 15
      }
     ]
    },
    "f259224f743148df842d46f558f54b7d": {
     "views": [
      {
       "cell_index": 11
      }
     ]
    },
    "f7d81250153f425bbd81de2da6d8daea": {
     "views": [
      {
       "cell_index": 11
      }
     ]
    },
    "fcef725ba79e484087f89a66aab13de8": {
     "views": [
      {
       "cell_index": 11
      }
     ]
    }
   },
   "version": "1.2.0"
  }
 },
 "nbformat": 4,
 "nbformat_minor": 2
}
